{
 "cells": [
  {
   "cell_type": "code",
   "execution_count": 7,
   "metadata": {},
   "outputs": [],
   "source": [
    "import numpy as np\n",
    "\n",
    "from nvita.attacks.fgsm import FGSMTSF"
   ]
  },
  {
   "cell_type": "code",
   "execution_count": 8,
   "metadata": {},
   "outputs": [],
   "source": [
    "import nvita"
   ]
  },
  {
   "cell_type": "code",
   "execution_count": 9,
   "metadata": {},
   "outputs": [
    {
     "ename": "NameError",
     "evalue": "name 'TSFGSM' is not defined",
     "output_type": "error",
     "traceback": [
      "\u001b[1;31m---------------------------------------------------------------------------\u001b[0m",
      "\u001b[1;31mNameError\u001b[0m                                 Traceback (most recent call last)",
      "\u001b[1;32mc:\\Users\\markc\\Working_Space\\nvita\\examples\\demo1.ipynb Cell 3'\u001b[0m in \u001b[0;36m<cell line: 2>\u001b[1;34m()\u001b[0m\n\u001b[0;32m      <a href='vscode-notebook-cell:/c%3A/Users/markc/Working_Space/nvita/examples/demo1.ipynb#ch0000001?line=0'>1</a>\u001b[0m \u001b[39m# This is a demo!\u001b[39;00m\n\u001b[1;32m----> <a href='vscode-notebook-cell:/c%3A/Users/markc/Working_Space/nvita/examples/demo1.ipynb#ch0000001?line=1'>2</a>\u001b[0m att \u001b[39m=\u001b[39m TSFGSM(targeted\u001b[39m=\u001b[39m\u001b[39mTrue\u001b[39;00m)\n\u001b[0;32m      <a href='vscode-notebook-cell:/c%3A/Users/markc/Working_Space/nvita/examples/demo1.ipynb#ch0000001?line=2'>3</a>\u001b[0m x \u001b[39m=\u001b[39m np\u001b[39m.\u001b[39mones(\u001b[39m10\u001b[39m)\n\u001b[0;32m      <a href='vscode-notebook-cell:/c%3A/Users/markc/Working_Space/nvita/examples/demo1.ipynb#ch0000001?line=3'>4</a>\u001b[0m result \u001b[39m=\u001b[39m att\u001b[39m.\u001b[39mgenerate(x)\n",
      "\u001b[1;31mNameError\u001b[0m: name 'TSFGSM' is not defined"
     ]
    }
   ],
   "source": [
    "# This is a demo!\n",
    "att = TSFGSM(targeted=True)\n",
    "x = np.ones(10)\n",
    "result = att.generate(x)\n",
    "print(result == x)"
   ]
  },
  {
   "cell_type": "code",
   "execution_count": null,
   "metadata": {},
   "outputs": [],
   "source": []
  }
 ],
 "metadata": {
  "kernelspec": {
   "display_name": "Python 3.9.12 ('hons')",
   "language": "python",
   "name": "python3"
  },
  "language_info": {
   "codemirror_mode": {
    "name": "ipython",
    "version": 3
   },
   "file_extension": ".py",
   "mimetype": "text/x-python",
   "name": "python",
   "nbconvert_exporter": "python",
   "pygments_lexer": "ipython3",
   "version": "3.9.12"
  },
  "orig_nbformat": 4,
  "vscode": {
   "interpreter": {
    "hash": "c602aa022b826db5d2ce365c7625b4d6ed5ee23662e175f9578855d0b85dec78"
   }
  }
 },
 "nbformat": 4,
 "nbformat_minor": 2
}
