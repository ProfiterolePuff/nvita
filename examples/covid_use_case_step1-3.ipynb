{
 "cells": [
  {
   "cell_type": "markdown",
   "id": "5a964151",
   "metadata": {},
   "source": [
    "# Covid Use Case Step 1 - 3"
   ]
  },
  {
   "cell_type": "code",
   "execution_count": 1,
   "id": "65d4ae46",
   "metadata": {},
   "outputs": [
    {
     "name": "stderr",
     "output_type": "stream",
     "text": [
      "D:\\Programming\\IDE\\Anaconda\\envs\\hons\\lib\\site-packages\\tqdm\\auto.py:22: TqdmWarning: IProgress not found. Please update jupyter and ipywidgets. See https://ipywidgets.readthedocs.io/en/stable/user_install.html\n",
      "  from .autonotebook import tqdm as notebook_tqdm\n"
     ]
    }
   ],
   "source": [
    "import pandas as pd\n",
    "import numpy as np\n",
    "import matplotlib.pyplot as plt\n",
    "\n",
    "import os\n",
    "from pathlib import Path\n",
    "\n",
    "from nvita.utils import open_json\n",
    "from nvita.utils import to_json\n",
    "from nvita.models.data import SplittedTSData\n",
    "from nvita.models.lstm import LSTM\n",
    "import nvita.models.train as mt\n",
    "from nvita.models.utils import save_model, load_model"
   ]
  },
  {
   "cell_type": "code",
   "execution_count": 2,
   "id": "0e66a003",
   "metadata": {},
   "outputs": [
    {
     "name": "stdout",
     "output_type": "stream",
     "text": [
      "{'data': ['Electricity', 'NZTemp', 'CNYExch', 'Oil'], 'seeds': ['2210', '9999', '58361', '789789', '1111111'], 'y_col_name': ['Consumption', 'Auckland', 'Close', 'Close'], 'window_size': ['4', '3', '7', '7'], 'models': ['CNN', 'LSTM', 'GRU', 'RF'], 'attacks': ['NOATTACK', 'BRS', 'BRNV', 'FGSM', 'BIM', 'NVITA', 'FULLVITA'], 'n_values': [1, 3, 5], 'epsilons': [0.05, 0.1, 0.15, 0.2], 'targets': ['Positive', 'Negative']}\n"
     ]
    }
   ],
   "source": [
    "PATH_ROOT = Path(os.getcwd()).parent.absolute()\n",
    "PATH_RAW = os.path.join(PATH_ROOT, \"data\", \"raw_data\")\n",
    "PATH_CLEAN = os.path.join(PATH_ROOT, \"data\", \"clean_data\")\n",
    "\n",
    "my_metadata = open_json(os.path.join(\n",
    "    PATH_ROOT, \"experiments\", \"metadata.json\"))\n",
    "print(my_metadata)"
   ]
  },
  {
   "cell_type": "markdown",
   "id": "49feebb8",
   "metadata": {},
   "source": [
    "## Read Parameter settings"
   ]
  },
  {
   "cell_type": "code",
   "execution_count": 3,
   "id": "50cd333d",
   "metadata": {},
   "outputs": [],
   "source": [
    "seed = my_metadata[\"seeds\"][0] # Use 2210 as the seed\n",
    "TEST_SIZE = 70\n",
    "VALID_PER = 0.2"
   ]
  },
  {
   "cell_type": "markdown",
   "id": "882fe011",
   "metadata": {},
   "source": [
    "## Step 1: Preprocessing"
   ]
  },
  {
   "cell_type": "code",
   "execution_count": 4,
   "id": "93f0c162",
   "metadata": {},
   "outputs": [],
   "source": [
    "covid_df_all = pd.read_csv(os.path.join(PATH_RAW, \"owid-covid-data.csv\"), sep = \",\")"
   ]
  },
  {
   "cell_type": "code",
   "execution_count": 5,
   "id": "e1525595",
   "metadata": {},
   "outputs": [],
   "source": [
    "covid_df = covid_df_all[covid_df_all[\"location\"] == \"United States\"]"
   ]
  },
  {
   "cell_type": "code",
   "execution_count": 6,
   "id": "097e4919",
   "metadata": {},
   "outputs": [
    {
     "data": {
      "text/plain": [
       "Index(['iso_code', 'continent', 'location', 'date', 'total_cases', 'new_cases',\n",
       "       'new_cases_smoothed', 'total_deaths', 'new_deaths',\n",
       "       'new_deaths_smoothed', 'total_cases_per_million',\n",
       "       'new_cases_per_million', 'new_cases_smoothed_per_million',\n",
       "       'total_deaths_per_million', 'new_deaths_per_million',\n",
       "       'new_deaths_smoothed_per_million', 'reproduction_rate', 'icu_patients',\n",
       "       'icu_patients_per_million', 'hosp_patients',\n",
       "       'hosp_patients_per_million', 'weekly_icu_admissions',\n",
       "       'weekly_icu_admissions_per_million', 'weekly_hosp_admissions',\n",
       "       'weekly_hosp_admissions_per_million', 'total_tests', 'new_tests',\n",
       "       'total_tests_per_thousand', 'new_tests_per_thousand',\n",
       "       'new_tests_smoothed', 'new_tests_smoothed_per_thousand',\n",
       "       'positive_rate', 'tests_per_case', 'tests_units', 'total_vaccinations',\n",
       "       'people_vaccinated', 'people_fully_vaccinated', 'total_boosters',\n",
       "       'new_vaccinations', 'new_vaccinations_smoothed',\n",
       "       'total_vaccinations_per_hundred', 'people_vaccinated_per_hundred',\n",
       "       'people_fully_vaccinated_per_hundred', 'total_boosters_per_hundred',\n",
       "       'new_vaccinations_smoothed_per_million',\n",
       "       'new_people_vaccinated_smoothed',\n",
       "       'new_people_vaccinated_smoothed_per_hundred', 'stringency_index',\n",
       "       'population', 'population_density', 'median_age', 'aged_65_older',\n",
       "       'aged_70_older', 'gdp_per_capita', 'extreme_poverty',\n",
       "       'cardiovasc_death_rate', 'diabetes_prevalence', 'female_smokers',\n",
       "       'male_smokers', 'handwashing_facilities', 'hospital_beds_per_thousand',\n",
       "       'life_expectancy', 'human_development_index',\n",
       "       'excess_mortality_cumulative_absolute', 'excess_mortality_cumulative',\n",
       "       'excess_mortality', 'excess_mortality_cumulative_per_million'],\n",
       "      dtype='object')"
      ]
     },
     "execution_count": 6,
     "metadata": {},
     "output_type": "execute_result"
    }
   ],
   "source": [
    "covid_df.columns"
   ]
  },
  {
   "cell_type": "code",
   "execution_count": 7,
   "id": "80f68a16",
   "metadata": {},
   "outputs": [],
   "source": [
    "# Select features\n",
    "col_list = [\"new_cases\", \"new_deaths\", \"icu_patients\", \"hosp_patients\", \"new_tests\", \"new_vaccinations\", \"stringency_index\", \"population\", \"gdp_per_capita\"]\n",
    "\n",
    "covid_df = covid_df[col_list]"
   ]
  },
  {
   "cell_type": "code",
   "execution_count": 8,
   "id": "d651f2a1",
   "metadata": {},
   "outputs": [],
   "source": [
    "covid_df = covid_df.iloc[175:879, :]\n",
    "covid_df[\"new_vaccinations\"] = covid_df[\"new_vaccinations\"].fillna(0)"
   ]
  },
  {
   "cell_type": "code",
   "execution_count": 9,
   "id": "27191aaa",
   "metadata": {},
   "outputs": [
    {
     "data": {
      "text/plain": [
       "0"
      ]
     },
     "execution_count": 9,
     "metadata": {},
     "output_type": "execute_result"
    }
   ],
   "source": [
    "# Make sure there is no NaN in clean df\n",
    "covid_df.isnull().values.sum()"
   ]
  },
  {
   "cell_type": "code",
   "execution_count": 10,
   "id": "45ac2a7f",
   "metadata": {},
   "outputs": [],
   "source": [
    "covid_df.to_csv(os.path.join(PATH_CLEAN, \"CovidUSA.csv\"), index = False)"
   ]
  },
  {
   "cell_type": "code",
   "execution_count": 11,
   "id": "20b90f35",
   "metadata": {},
   "outputs": [
    {
     "data": {
      "text/plain": [
       "(704, 9)"
      ]
     },
     "execution_count": 11,
     "metadata": {},
     "output_type": "execute_result"
    }
   ],
   "source": [
    "covid_df.shape"
   ]
  },
  {
   "cell_type": "markdown",
   "id": "b079646a",
   "metadata": {},
   "source": [
    "### Save Splitted data"
   ]
  },
  {
   "cell_type": "code",
   "execution_count": 12,
   "id": "ed648e0b",
   "metadata": {},
   "outputs": [],
   "source": [
    "path_df = os.path.join(PATH_ROOT, \"data\", \"clean_data\", \"CovidUSA\" +\".csv\")\n",
    "\n",
    "s_data = SplittedTSData(path_df, \"CovidUSA\", \"new_cases\", 7, int(seed))\n",
    "s_data.train_valid_test_split(TEST_SIZE, VALID_PER)\n",
    "s_data.save_splitted_data(PATH_ROOT)"
   ]
  },
  {
   "cell_type": "markdown",
   "id": "91e0bfb4",
   "metadata": {},
   "source": [
    "## Step 2 hyperparameter tuning"
   ]
  },
  {
   "cell_type": "code",
   "execution_count": 13,
   "id": "d8128d7d",
   "metadata": {},
   "outputs": [],
   "source": [
    "def grid_search_rnn(s_d, model_name = \"LSTM\"):\n",
    "    max_epochs = [100, 250, 500]\n",
    "    learning_rate = [0.001, 0.005, 0.01]\n",
    "    #module__window_size = window_size\n",
    "    input_dim = s_d.X_train.shape[2]\n",
    "    module__hidden_dim = [64, 128, 256]\n",
    "    module__num_layers = [1, 2, 4]\n",
    "    output_dim = s_d.y_train.shape[1]\n",
    "\n",
    "    best_score = np.Inf\n",
    "    best_rnn_paras = []\n",
    "    for epoch in max_epochs:\n",
    "        for lr in learning_rate: \n",
    "            for hidden_dim in module__hidden_dim:\n",
    "                for num_layers in module__num_layers:\n",
    "                    if model_name == \"LSTM\":\n",
    "                        model = LSTM(input_dim, hidden_dim, num_layers, output_dim)\n",
    "                    elif model_name == \"GRU\":\n",
    "                        model = GRU(input_dim, hidden_dim, num_layers, output_dim)\n",
    "                    mt.train(model, lr, epoch, s_d.X_train, s_d.y_train)\n",
    "                    score = np.mean(mt.evaluate(model, s_d.X_valid, s_d.y_valid)**2)\n",
    "                    if score < best_score:\n",
    "                        # Smaller score MSE indicates better performance\n",
    "                        best_score = score\n",
    "                        best_rnn_paras = [epoch, lr, input_dim, hidden_dim, num_layers, output_dim]\n",
    "    print(\"Best Score for \" + model_name + \" is \" + str(best_score) + \" on dataset \" + str(s_d.df_name))\n",
    "    return best_rnn_paras\n"
   ]
  },
  {
   "cell_type": "markdown",
   "id": "ce3cd2eb",
   "metadata": {},
   "source": [
    "### Load the Splitted Data from disk"
   ]
  },
  {
   "cell_type": "code",
   "execution_count": 14,
   "id": "c515bbeb",
   "metadata": {},
   "outputs": [],
   "source": [
    "s_data = SplittedTSData()\n",
    "s_data = s_data.load_splitted_data(PATH_ROOT, \"CovidUSA\", seed)"
   ]
  },
  {
   "cell_type": "code",
   "execution_count": 15,
   "id": "8ecb0cae",
   "metadata": {},
   "outputs": [
    {
     "name": "stdout",
     "output_type": "stream",
     "text": [
      "Best Score for LSTM is 0.00046636592 on dataset CovidUSA\n"
     ]
    }
   ],
   "source": [
    "best_lstm_paras_dict = dict()\n",
    "best_lstm_paras_dict[\"CovidUSA\"] = grid_search_rnn(s_data, \"LSTM\")"
   ]
  },
  {
   "cell_type": "code",
   "execution_count": 17,
   "id": "74365ec3",
   "metadata": {},
   "outputs": [],
   "source": [
    "to_json(best_lstm_paras_dict , os.path.join(\n",
    "    PATH_ROOT, \"experiments\", \"COVIDUSA_paras.json\"))"
   ]
  },
  {
   "cell_type": "markdown",
   "id": "c0329c18",
   "metadata": {},
   "source": [
    "## Step 3 train model (LSTM)"
   ]
  },
  {
   "cell_type": "code",
   "execution_count": 18,
   "id": "7858a302",
   "metadata": {},
   "outputs": [
    {
     "name": "stdout",
     "output_type": "stream",
     "text": [
      "{'CovidUSA': [500, 0.01, 9, 64, 4, 1]}\n"
     ]
    }
   ],
   "source": [
    "model_paras = open_json(os.path.join(\n",
    "    PATH_ROOT, \"experiments\", \"COVIDUSA_paras.json\"))\n",
    "print(model_paras)"
   ]
  },
  {
   "cell_type": "code",
   "execution_count": 23,
   "id": "31fbca59",
   "metadata": {},
   "outputs": [],
   "source": [
    "epoch, lr, input_dim, hidden_dim, num_layers, output_dim = model_paras[s_data.df_name]\n",
    "model = LSTM(input_dim, hidden_dim, num_layers, output_dim)\n",
    "losses = mt.train(model, lr, epoch, s_data.X_train, s_data.y_train)"
   ]
  },
  {
   "cell_type": "code",
   "execution_count": 26,
   "id": "52b44f16",
   "metadata": {},
   "outputs": [
    {
     "data": {
      "image/png": "[encoded data removed]",
      "text/plain": [
       "<Figure size 432x288 with 1 Axes>"
      ]
     },
     "metadata": {
      "needs_background": "light"
     },
     "output_type": "display_data"
    }
   ],
   "source": [
    "# Visulaize the model prediction\n",
    "plt.plot(s_data.y_test, color = \"Red\", label=\"Ground truth\")\n",
    "plt.plot(mt.predict(model, s_data.X_test).detach().numpy(), color = \"Blue\", label=\"Model Prediction\")\n",
    "plt.title(\"Model Prediction(Blue) and Ground Truth\")\n",
    "plt.legend()\n",
    "plt.show()"
   ]
  },
  {
   "cell_type": "code",
   "execution_count": 27,
   "id": "ecb45fc1",
   "metadata": {},
   "outputs": [],
   "source": [
    "score = np.mean(mt.evaluate(model, s_data.X_test, s_data.y_test)**2)\n",
    "save_model(model, PATH_ROOT, s_data.df_name, s_data.seed)"
   ]
  },
  {
   "cell_type": "code",
   "execution_count": null,
   "id": "cf78e5f6",
   "metadata": {},
   "outputs": [],
   "source": []
  }
 ],
 "metadata": {
  "kernelspec": {
   "display_name": "Python 3 (ipykernel)",
   "language": "python",
   "name": "python3"
  },
  "language_info": {
   "codemirror_mode": {
    "name": "ipython",
    "version": 3
   },
   "file_extension": ".py",
   "mimetype": "text/x-python",
   "name": "python",
   "nbconvert_exporter": "python",
   "pygments_lexer": "ipython3",
   "version": "3.9.12"
  }
 },
 "nbformat": 4,
 "nbformat_minor": 5
}
