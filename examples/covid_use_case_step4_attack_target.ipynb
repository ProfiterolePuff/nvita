{
 "cells": [
  {
   "cell_type": "markdown",
   "id": "afff4d94",
   "metadata": {},
   "source": [
    "# Covid Use Case Step 4 Targeted Attack with nVITA"
   ]
  },
  {
   "cell_type": "code",
   "execution_count": 1,
   "id": "88ea131e",
   "metadata": {},
   "outputs": [
    {
     "name": "stderr",
     "output_type": "stream",
     "text": [
      "d:\\Programming\\IDE\\Anaconda\\envs\\hons\\lib\\site-packages\\tqdm\\auto.py:22: TqdmWarning: IProgress not found. Please update jupyter and ipywidgets. See https://ipywidgets.readthedocs.io/en/stable/user_install.html\n",
      "  from .autonotebook import tqdm as notebook_tqdm\n"
     ]
    }
   ],
   "source": [
    "import argparse\n",
    "import os\n",
    "import time\n",
    "from pathlib import Path\n",
    "\n",
    "import numpy as np\n",
    "import nvita.models.train as mt\n",
    "import torch\n",
    "from nvita.attacks.rnvita import RNVITA\n",
    "from nvita.attacks.utils import (append_result_to_csv_file,\n",
    "                                 check_result_file_path,\n",
    "                                 create_empty_result_csv_file)\n",
    "from nvita.models.data import SplittedTSData\n",
    "from nvita.models.utils import load_model\n",
    "from nvita.utils import open_json"
   ]
  },
  {
   "cell_type": "code",
   "execution_count": 2,
   "id": "2aa703af",
   "metadata": {},
   "outputs": [],
   "source": [
    "PATH_ROOT = Path(os.getcwd()).parent.absolute()\n",
    "\n",
    "my_metadata = open_json(os.path.join(\n",
    "    PATH_ROOT, \"experiments\", \"metadata.json\"))\n",
    "\n",
    "DF_NAME = \"CovidUSA\"\n",
    "SEED = int(my_metadata[\"seeds\"][0])\n",
    "RESTRICTED_F_INDS = [0, 7, 8]\n",
    "# features indices that do not allow to be attacked. "
   ]
  },
  {
   "cell_type": "code",
   "execution_count": 3,
   "id": "8e91eb4d",
   "metadata": {},
   "outputs": [],
   "source": [
    "def restrict_perturbed_features(window_range, restricted_f_inds):\n",
    "    \"\"\"\n",
    "    Setup those features that do not allow to be attacked. \n",
    "    \"\"\"\n",
    "    result = torch.clone(window_range)\n",
    "    for f_ind in restricted_f_inds:\n",
    "        result[f_ind] = 0 \n",
    "    return result\n",
    "\n",
    "def get_eta_stats(eta, n):\n",
    "    \"\"\"\n",
    "    Calculate attack statistics for nvita\n",
    "    \"\"\"\n",
    "    attack_stats = []\n",
    "    for time_ind in range(eta.shape[1]):\n",
    "        for feature_ind in range(eta.shape[2]):\n",
    "            current_val = eta[0, time_ind, feature_ind]\n",
    "            if current_val != 0:\n",
    "                attack_stats.append((time_ind, feature_ind, int(np.sign(current_val).item())))\n",
    "                \n",
    "    if n < len(attack_stats):\n",
    "        print(\"Attack Value Number Warning!!!\")\n",
    "    return attack_stats"
   ]
  },
  {
   "cell_type": "markdown",
   "id": "7eb9770d",
   "metadata": {},
   "source": [
    "## Main function for experiments of CovidUSA"
   ]
  },
  {
   "cell_type": "code",
   "execution_count": 4,
   "id": "506e55b8",
   "metadata": {},
   "outputs": [],
   "source": [
    "def run_use_case_exp(df_name, seed, epsilon, n, target, demo = None):\n",
    "    \"\"\"\n",
    "    main function that runs the targeted experiments for nvita on CovidUSA and record the results\n",
    "    \"\"\"\n",
    "    s_data = SplittedTSData()\n",
    "    s_data = s_data.load_splitted_data(PATH_ROOT, df_name, seed)\n",
    "    # load data\n",
    "    m = load_model(PATH_ROOT, df_name, seed, \"LSTM\")\n",
    "    # load model\n",
    "    attack_name = \"Targeted_\" + str(n) + \"VITA\"\n",
    "    if demo == None:\n",
    "        max_w_size = s_data.X_test.shape[0]\n",
    "    else:\n",
    "        max_w_size = demo\n",
    "\n",
    "    path_out_dir = os.path.join(PATH_ROOT, \"examples\", \"covidusa_results\")\n",
    "    path_out_file = os.path.join(path_out_dir, \"attack_\"+attack_name+\"_target_\"+target+\".csv\")\n",
    "\n",
    "    first_result_line_list = [\"Epsilon\", \"Target Direction\", \"Test Index\", \"Attack Name\", \"True y\", \"Original y Pred\", \"Attacked y Pred\", \"Attacked AE\", \"Original AE\",\"Eta\", \"Adv Example\", \"Percentage Changeed from the Attack\", \"Attack Stats\" ]\n",
    "\n",
    "    create_empty_result_csv_file(path_out_file, first_result_line_list)\n",
    "    # Create empty csv file with the column names\n",
    "\n",
    "    for test_ind in range(max_w_size):\n",
    "        \n",
    "        X_current = torch.reshape(s_data.X_test[test_ind], s_data.single_X_shape)\n",
    "        ground_truth_y = torch.reshape(s_data.y_test[test_ind], s_data.single_y_shape)\n",
    "        window_range = s_data.window_ranges[test_ind]\n",
    "        #window_range = restrict_perturbed_features(s_data.window_ranges[test_ind], RESTRICTED_F_INDS)\n",
    "        mean_pred, std_pred = mt.get_mean_and_std_pred(m, X_current)\n",
    "\n",
    "        if target == \"Positive\":\n",
    "            attack_goal = 2\n",
    "        elif target == \"Negative\":\n",
    "            attack_goal = -1\n",
    "        attack_goal_tup = (test_ind, attack_goal)\n",
    "\n",
    "        att = RNVITA(n, epsilon, m, targeted=True)\n",
    "        X_adv, _ = att.attack(X_current, attack_goal_tup, window_range, RESTRICTED_F_INDS, maxiter=600, seed=seed, tol=0.0001)\n",
    "        \n",
    "        adv_y_pred = mt.adv_predict(m, X_adv)\n",
    "        eta = X_adv - X_current\n",
    "        original_y_pred = mt.adv_predict(m, X_current)\n",
    "        adv_y_pred = mt.adv_predict(m, X_adv)\n",
    "        original_ae = np.absolute(original_y_pred - attack_goal)\n",
    "        attacked_ae = np.absolute(adv_y_pred - attack_goal)\n",
    "\n",
    "        percentage = ((adv_y_pred - original_y_pred) / s_data.window_ranges[test_ind][s_data.y_ind]).item() * 100\n",
    "        attack_stats = get_eta_stats(eta, n)\n",
    "\n",
    "        result = [epsilon, target, test_ind, str(att), str(ground_truth_y.item()), original_y_pred, str(adv_y_pred), attacked_ae, original_ae, str(eta.tolist()).replace(\",\", \";\"), str(X_adv.tolist()).replace(\",\", \";\"), str(percentage), str(attack_stats).replace(\",\", \";\")]\n",
    "        append_result_to_csv_file(path_out_file, result)\n",
    "        \n",
    "    print('Save to:', path_out_file)\n"
   ]
  },
  {
   "cell_type": "markdown",
   "id": "8d922078",
   "metadata": {},
   "source": [
    "## Run 1, 3, 5VITA for both positive and negative targeted attacks"
   ]
  },
  {
   "cell_type": "code",
   "execution_count": 6,
   "id": "ace94837",
   "metadata": {},
   "outputs": [
    {
     "ename": "IndentationError",
     "evalue": "expected an indented block (1243552316.py, line 3)",
     "output_type": "error",
     "traceback": [
      "\u001b[1;36m  Input \u001b[1;32mIn [6]\u001b[1;36m\u001b[0m\n\u001b[1;33m    #run_use_case_exp(DF_NAME, SEED, 0.2, n, target)\u001b[0m\n\u001b[1;37m                                                    ^\u001b[0m\n\u001b[1;31mIndentationError\u001b[0m\u001b[1;31m:\u001b[0m expected an indented block\n"
     ]
    }
   ],
   "source": [
    "for n in [1,3,5]:\n",
    "    for target in [\"Positive\", \"Negative\"]:\n",
    "        run_use_case_exp(DF_NAME, SEED, 0.2, n, target)"
   ]
  }
 ],
 "metadata": {
  "kernelspec": {
   "display_name": "Python 3.9.12 ('hons')",
   "language": "python",
   "name": "python3"
  },
  "language_info": {
   "codemirror_mode": {
    "name": "ipython",
    "version": 3
   },
   "file_extension": ".py",
   "mimetype": "text/x-python",
   "name": "python",
   "nbconvert_exporter": "python",
   "pygments_lexer": "ipython3",
   "version": "3.9.12"
  },
  "vscode": {
   "interpreter": {
    "hash": "c602aa022b826db5d2ce365c7625b4d6ed5ee23662e175f9578855d0b85dec78"
   }
  }
 },
 "nbformat": 4,
 "nbformat_minor": 5
}
