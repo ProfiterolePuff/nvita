{
 "cells": [
  {
   "cell_type": "markdown",
   "id": "5a964151",
   "metadata": {},
   "source": [
    "# Covid Use Case"
   ]
  },
  {
   "cell_type": "code",
   "execution_count": 21,
   "id": "65d4ae46",
   "metadata": {},
   "outputs": [],
   "source": [
    "import pandas as pd\n",
    "import numpy as np\n",
    "import matplotlib.pyplot as plt\n",
    "\n",
    "import os\n",
    "from pathlib import Path\n",
    "\n",
    "from nvita.models.data import SplittedTSData\n",
    "from nvita.models.lstm import LSTM\n",
    "import nvita.models.train as mt\n",
    "from nvita.models.utils import save_model, load_model"
   ]
  },
  {
   "cell_type": "code",
   "execution_count": 2,
   "id": "0e66a003",
   "metadata": {},
   "outputs": [],
   "source": [
    "PATH_ROOT = Path(os.getcwd()).parent.absolute()\n",
    "PATH_RAW = os.path.join(PATH_ROOT, \"data\", \"raw_data\")\n",
    "PATH_CLEAN = os.path.join(PATH_ROOT, \"data\", \"clean_data\")\n",
    "\n",
    "seed = 2210\n",
    "TEST_SIZE = 70\n",
    "VALID_PER = 0.2"
   ]
  },
  {
   "cell_type": "code",
   "execution_count": 3,
   "id": "93f0c162",
   "metadata": {},
   "outputs": [],
   "source": [
    "covid_df_all = pd.read_csv(os.path.join(PATH_RAW, \"owid-covid-data.csv\"), sep = \",\")"
   ]
  },
  {
   "cell_type": "code",
   "execution_count": 4,
   "id": "e1525595",
   "metadata": {},
   "outputs": [],
   "source": [
    "covid_df = covid_df_all[covid_df_all[\"location\"] == \"United States\"]"
   ]
  },
  {
   "cell_type": "code",
   "execution_count": 5,
   "id": "097e4919",
   "metadata": {},
   "outputs": [
    {
     "data": {
      "text/plain": [
       "Index(['iso_code', 'continent', 'location', 'date', 'total_cases', 'new_cases',\n",
       "       'new_cases_smoothed', 'total_deaths', 'new_deaths',\n",
       "       'new_deaths_smoothed', 'total_cases_per_million',\n",
       "       'new_cases_per_million', 'new_cases_smoothed_per_million',\n",
       "       'total_deaths_per_million', 'new_deaths_per_million',\n",
       "       'new_deaths_smoothed_per_million', 'reproduction_rate', 'icu_patients',\n",
       "       'icu_patients_per_million', 'hosp_patients',\n",
       "       'hosp_patients_per_million', 'weekly_icu_admissions',\n",
       "       'weekly_icu_admissions_per_million', 'weekly_hosp_admissions',\n",
       "       'weekly_hosp_admissions_per_million', 'total_tests', 'new_tests',\n",
       "       'total_tests_per_thousand', 'new_tests_per_thousand',\n",
       "       'new_tests_smoothed', 'new_tests_smoothed_per_thousand',\n",
       "       'positive_rate', 'tests_per_case', 'tests_units', 'total_vaccinations',\n",
       "       'people_vaccinated', 'people_fully_vaccinated', 'total_boosters',\n",
       "       'new_vaccinations', 'new_vaccinations_smoothed',\n",
       "       'total_vaccinations_per_hundred', 'people_vaccinated_per_hundred',\n",
       "       'people_fully_vaccinated_per_hundred', 'total_boosters_per_hundred',\n",
       "       'new_vaccinations_smoothed_per_million',\n",
       "       'new_people_vaccinated_smoothed',\n",
       "       'new_people_vaccinated_smoothed_per_hundred', 'stringency_index',\n",
       "       'population', 'population_density', 'median_age', 'aged_65_older',\n",
       "       'aged_70_older', 'gdp_per_capita', 'extreme_poverty',\n",
       "       'cardiovasc_death_rate', 'diabetes_prevalence', 'female_smokers',\n",
       "       'male_smokers', 'handwashing_facilities', 'hospital_beds_per_thousand',\n",
       "       'life_expectancy', 'human_development_index',\n",
       "       'excess_mortality_cumulative_absolute', 'excess_mortality_cumulative',\n",
       "       'excess_mortality', 'excess_mortality_cumulative_per_million'],\n",
       "      dtype='object')"
      ]
     },
     "execution_count": 5,
     "metadata": {},
     "output_type": "execute_result"
    }
   ],
   "source": [
    "covid_df.columns"
   ]
  },
  {
   "cell_type": "code",
   "execution_count": 6,
   "id": "80f68a16",
   "metadata": {},
   "outputs": [],
   "source": [
    "# Select features\n",
    "col_list = [\"new_cases\", \"new_deaths\", \"icu_patients\", \"hosp_patients\", \"new_tests\", \"new_vaccinations\", \"stringency_index\", \"population\", \"gdp_per_capita\"]\n",
    "\n",
    "covid_df = covid_df[col_list]\n"
   ]
  },
  {
   "cell_type": "code",
   "execution_count": 7,
   "id": "d651f2a1",
   "metadata": {},
   "outputs": [],
   "source": [
    "covid_df = covid_df.iloc[175:879, :]\n",
    "covid_df[\"new_vaccinations\"] = covid_df[\"new_vaccinations\"].fillna(0)"
   ]
  },
  {
   "cell_type": "code",
   "execution_count": 8,
   "id": "27191aaa",
   "metadata": {},
   "outputs": [
    {
     "data": {
      "text/plain": [
       "0"
      ]
     },
     "execution_count": 8,
     "metadata": {},
     "output_type": "execute_result"
    }
   ],
   "source": [
    "# Make sure there is no NaN in clean df\n",
    "covid_df.isnull().values.sum()"
   ]
  },
  {
   "cell_type": "code",
   "execution_count": 10,
   "id": "45ac2a7f",
   "metadata": {},
   "outputs": [],
   "source": [
    "covid_df.to_csv(os.path.join(PATH_CLEAN, \"CovidUSA.csv\"), index = False)"
   ]
  },
  {
   "cell_type": "code",
   "execution_count": 11,
   "id": "20b90f35",
   "metadata": {},
   "outputs": [
    {
     "data": {
      "text/plain": [
       "(704, 9)"
      ]
     },
     "execution_count": 11,
     "metadata": {},
     "output_type": "execute_result"
    }
   ],
   "source": [
    "covid_df.shape"
   ]
  },
  {
   "cell_type": "code",
   "execution_count": 15,
   "id": "f725578f",
   "metadata": {},
   "outputs": [],
   "source": [
    "path_df = os.path.join(PATH_ROOT, \"data\", \"clean_data\", \"CovidUSA\" +\".csv\")\n",
    "\n",
    "s_data = SplittedTSData(path_df, \"CovidUSA\", \"new_cases\", 7, int(seed))\n",
    "s_data.train_valid_test_split(TEST_SIZE, VALID_PER)\n",
    "s_data.save_splitted_data(PATH_ROOT)"
   ]
  },
  {
   "cell_type": "code",
   "execution_count": 44,
   "id": "31fbca59",
   "metadata": {},
   "outputs": [
    {
     "data": {
      "text/plain": [
       "array([0.01713058, 0.01852314, 0.00848766, 0.00661869, 0.00839278,\n",
       "       0.00808902, 0.00616847, 0.00486618, 0.00517022, 0.00592815,\n",
       "       0.00504732, 0.00418017, 0.00372499, 0.00387884, 0.00409593,\n",
       "       0.00373806, 0.00311762, 0.00273669, 0.00290046, 0.00332208,\n",
       "       0.00274924, 0.00246707, 0.00263972, 0.00288159, 0.00270231,\n",
       "       0.00243889, 0.00238613, 0.00250312, 0.00258602, 0.00241745,\n",
       "       0.0022293 , 0.00232382, 0.00235121, 0.00227591, 0.00215132,\n",
       "       0.00214916, 0.00221704, 0.00219751, 0.00212769, 0.00210279,\n",
       "       0.00216007, 0.00215875, 0.00209343, 0.00206086, 0.00206357,\n",
       "       0.00204602, 0.00201549, 0.0019951 , 0.00200037, 0.0019676 ,\n",
       "       0.00195229, 0.00194268, 0.00193434, 0.00191877, 0.00190562,\n",
       "       0.00191479, 0.00187671, 0.00186308, 0.00186239, 0.00186441,\n",
       "       0.00182452, 0.00181652, 0.00179837, 0.00178112, 0.00176589,\n",
       "       0.00177242, 0.00174463, 0.00172517, 0.00173706, 0.00173351,\n",
       "       0.00168151, 0.0017008 , 0.00163457, 0.00164473, 0.00159701,\n",
       "       0.00157432, 0.00155572, 0.00153443, 0.00151704, 0.00147598,\n",
       "       0.00144574, 0.00145125, 0.00139511, 0.0013748 , 0.00135056,\n",
       "       0.00134502, 0.00130489, 0.00127814, 0.00125569, 0.00125398,\n",
       "       0.00122252, 0.00120187, 0.00122258, 0.00123006, 0.00115183,\n",
       "       0.00113743, 0.00111195, 0.00110458, 0.00117949, 0.00110242,\n",
       "       0.00103186, 0.00103742, 0.00099134, 0.00102562, 0.00098055,\n",
       "       0.00094883, 0.00104888, 0.00088963, 0.00111498, 0.00091349,\n",
       "       0.00098379, 0.000846  , 0.00089477, 0.00083655, 0.00080096,\n",
       "       0.00078399, 0.00077148, 0.00076879, 0.00076167, 0.00077541,\n",
       "       0.00077584, 0.00072695, 0.00074278, 0.00072481, 0.00070525,\n",
       "       0.00069582, 0.00069686, 0.00069663, 0.00067385, 0.00066973,\n",
       "       0.0006712 , 0.00066079, 0.00064741, 0.00064323, 0.00064605,\n",
       "       0.00069076, 0.00064364, 0.00066605, 0.00073139, 0.00061477,\n",
       "       0.00062951, 0.000603  , 0.00065276, 0.00062823, 0.00060585,\n",
       "       0.00065149, 0.00057949, 0.00060291, 0.00057036, 0.00057912,\n",
       "       0.0005786 , 0.0005585 , 0.00057338, 0.00055447, 0.00060919,\n",
       "       0.00063653, 0.00053135, 0.00055793, 0.00052308, 0.00051423,\n",
       "       0.00051344, 0.00054769, 0.00058836, 0.00051626, 0.00054843,\n",
       "       0.00051186, 0.00059578, 0.00057068, 0.00051961, 0.00061779,\n",
       "       0.00048688, 0.00056505, 0.00049736, 0.00048563, 0.00049533,\n",
       "       0.00044703, 0.00044955, 0.0004908 , 0.00043791, 0.00043973,\n",
       "       0.00044045, 0.00052368, 0.00041748, 0.00054059, 0.00043292,\n",
       "       0.00044829, 0.00041385, 0.00044443, 0.0004326 , 0.00042353,\n",
       "       0.00040987, 0.00041752, 0.0004237 , 0.00039482, 0.00041102,\n",
       "       0.00039702, 0.00043553, 0.00039586, 0.00047662, 0.00043637,\n",
       "       0.00042568, 0.00042716, 0.00045221, 0.00049257, 0.00041397,\n",
       "       0.00045409, 0.00037862, 0.00046564, 0.0004117 , 0.00057776,\n",
       "       0.00036293, 0.00050807, 0.00036944, 0.00038237, 0.00038212,\n",
       "       0.00043821, 0.00035535, 0.00042725, 0.00035179, 0.00039553,\n",
       "       0.00036796, 0.00040299, 0.00034841, 0.00036334, 0.00035062,\n",
       "       0.00034899, 0.00034725, 0.0003589 , 0.00035262, 0.00033953,\n",
       "       0.00033577, 0.00038886, 0.00033825, 0.00034642, 0.00036388,\n",
       "       0.00033226, 0.00035556, 0.00035876, 0.00034774, 0.00036913,\n",
       "       0.00032103, 0.00037962, 0.00033353, 0.00039288, 0.00031834,\n",
       "       0.00042146, 0.00032194, 0.00051205, 0.00039237, 0.00047953,\n",
       "       0.00037516, 0.0004046 , 0.00034382, 0.00035979, 0.00031438,\n",
       "       0.00038501, 0.00030857, 0.00040114, 0.0003346 , 0.00031312,\n",
       "       0.0003027 , 0.00031518, 0.00030787, 0.00031331, 0.00031625,\n",
       "       0.00029874, 0.00032104, 0.0002974 , 0.0002963 , 0.0002901 ,\n",
       "       0.00029691, 0.00030063, 0.00031975, 0.00031271, 0.00033485,\n",
       "       0.00030125, 0.00031104, 0.00028509, 0.00031075, 0.00028037,\n",
       "       0.00030216, 0.00028928, 0.00033977, 0.0002744 , 0.00032195,\n",
       "       0.00028319, 0.0003445 , 0.00029579, 0.00028628, 0.00028023,\n",
       "       0.00031301, 0.00027492, 0.00030086, 0.0002763 , 0.00027565,\n",
       "       0.00028788, 0.0002671 , 0.00027065, 0.00026322, 0.00027474,\n",
       "       0.00032043, 0.00027731, 0.00025665, 0.00025987, 0.00026588,\n",
       "       0.00026142, 0.0002621 , 0.00025207, 0.00026217, 0.00026135,\n",
       "       0.00025503, 0.00027891, 0.00028002, 0.00024844, 0.00029619,\n",
       "       0.0002515 , 0.00026728, 0.0002709 , 0.00024667, 0.00025889,\n",
       "       0.00024588, 0.00025831, 0.00024536, 0.00026696, 0.00025475,\n",
       "       0.00029513, 0.00028837, 0.00024645, 0.00031423, 0.00025876,\n",
       "       0.00037552, 0.00027263, 0.00035228, 0.00043094, 0.00024088,\n",
       "       0.00030653, 0.00024897, 0.0003053 , 0.00024915, 0.00028573,\n",
       "       0.00024029, 0.00028366, 0.00023905, 0.00027244, 0.00024545,\n",
       "       0.00024131, 0.00023117, 0.00023478, 0.00028414, 0.00023095,\n",
       "       0.0003349 , 0.00027277, 0.00032488, 0.00024786, 0.00038457,\n",
       "       0.0002616 , 0.00033747, 0.00023703, 0.0002651 , 0.00025173,\n",
       "       0.00028836, 0.00025042, 0.00032826, 0.0002361 , 0.00029581,\n",
       "       0.0002502 , 0.00037978, 0.00023797, 0.00025914, 0.00023451,\n",
       "       0.00025736, 0.00025317, 0.00026612, 0.00027052, 0.00024573,\n",
       "       0.00026301, 0.00023249, 0.0002917 , 0.00022867, 0.00027445,\n",
       "       0.00023819, 0.00026467, 0.00022897, 0.00022542, 0.00021711,\n",
       "       0.00023906, 0.00023045, 0.00021745, 0.0002251 , 0.00022509,\n",
       "       0.00026259, 0.00022626, 0.00024322, 0.0002144 , 0.00024378,\n",
       "       0.00021477, 0.00024637, 0.00022088, 0.00022176, 0.00022293,\n",
       "       0.00023666, 0.00023707, 0.00023284, 0.00025187, 0.00021875,\n",
       "       0.00023555, 0.0002107 , 0.00021815, 0.00021889, 0.00020723,\n",
       "       0.00020981, 0.00020217, 0.00021218, 0.00019964, 0.00021907,\n",
       "       0.00020232, 0.00020453, 0.00019964, 0.00022038, 0.00020362,\n",
       "       0.00026245, 0.00020711, 0.00024086, 0.00020311, 0.00021518,\n",
       "       0.00020951, 0.00020067, 0.00019631, 0.0002042 , 0.00023304,\n",
       "       0.0001948 , 0.00020925, 0.00019621, 0.00020494, 0.00019235,\n",
       "       0.00021277, 0.00019813, 0.00019659, 0.00019027, 0.0002024 ,\n",
       "       0.00020419, 0.00019655, 0.00019117, 0.00019211, 0.00019272,\n",
       "       0.00019055, 0.00018972, 0.0001876 , 0.00020549, 0.00020571,\n",
       "       0.00018993, 0.00018965, 0.0001888 , 0.00018748, 0.00018772,\n",
       "       0.00019533, 0.00020602, 0.00024584, 0.00019081, 0.00024615,\n",
       "       0.00019058, 0.00021697, 0.00018861, 0.00020698, 0.00019225,\n",
       "       0.00019647, 0.00018772, 0.00018103, 0.00020134, 0.00018398,\n",
       "       0.00019817, 0.00019063, 0.00018853, 0.00021689, 0.00018987,\n",
       "       0.00021384, 0.00024257, 0.00018787, 0.00022801, 0.00018684,\n",
       "       0.00033402, 0.00018635, 0.00024601, 0.00019227, 0.00021783,\n",
       "       0.00018804, 0.00021798, 0.00019906, 0.00022908, 0.00020311,\n",
       "       0.00021565, 0.00020728, 0.00023511, 0.00018549, 0.00020634,\n",
       "       0.00017814, 0.00019455, 0.00019645, 0.00018462, 0.00018784])"
      ]
     },
     "execution_count": 44,
     "metadata": {},
     "output_type": "execute_result"
    }
   ],
   "source": [
    "s_data = SplittedTSData()\n",
    "s_data = s_data.load_splitted_data(PATH_ROOT, \"CovidUSA\", seed)\n",
    "epoch, lr, input_dim, hidden_dim, num_layers, output_dim = [500, 0.01, s_data.X_train.shape[2], 64, 1, 1]\n",
    "model = LSTM(input_dim, hidden_dim, num_layers, output_dim)\n",
    "mt.train(model, lr, epoch, s_data.X_train, s_data.y_train)"
   ]
  },
  {
   "cell_type": "code",
   "execution_count": 50,
   "id": "52b44f16",
   "metadata": {},
   "outputs": [
    {
     "data": {
      "text/plain": [
       "[<matplotlib.lines.Line2D at 0x25f1cdf1d00>]"
      ]
     },
     "execution_count": 50,
     "metadata": {},
     "output_type": "execute_result"
    },
    {
     "data": {
      "image/png": "[encoded data removed]",
      "text/plain": [
       "<Figure size 432x288 with 1 Axes>"
      ]
     },
     "metadata": {
      "needs_background": "light"
     },
     "output_type": "display_data"
    }
   ],
   "source": [
    "# Visulaize the model prediction\n",
    "plt.plot(s_data.y_test, color = \"Red\") # Ground truth is red\n",
    "plt.plot(mt.predict(model, s_data.X_test).detach().numpy())"
   ]
  },
  {
   "cell_type": "code",
   "execution_count": 34,
   "id": "ecb45fc1",
   "metadata": {},
   "outputs": [],
   "source": [
    "score = np.mean(mt.evaluate(model, s_data.X_test, s_data.y_test)**2)\n",
    "save_model(model, PATH_ROOT, s_data.df_name, s_data.seed)"
   ]
  }
 ],
 "metadata": {
  "kernelspec": {
   "display_name": "Python 3 (ipykernel)",
   "language": "python",
   "name": "python3"
  },
  "language_info": {
   "codemirror_mode": {
    "name": "ipython",
    "version": 3
   },
   "file_extension": ".py",
   "mimetype": "text/x-python",
   "name": "python",
   "nbconvert_exporter": "python",
   "pygments_lexer": "ipython3",
   "version": "3.9.12"
  }
 },
 "nbformat": 4,
 "nbformat_minor": 5
}
