{
 "cells": [
  {
   "cell_type": "code",
   "execution_count": 1,
   "id": "fb30ba83",
   "metadata": {},
   "outputs": [
    {
     "name": "stderr",
     "output_type": "stream",
     "text": [
      "D:\\Programming\\IDE\\Anaconda\\envs\\hons\\lib\\site-packages\\tqdm\\auto.py:22: TqdmWarning: IProgress not found. Please update jupyter and ipywidgets. See https://ipywidgets.readthedocs.io/en/stable/user_install.html\n",
      "  from .autonotebook import tqdm as notebook_tqdm\n"
     ]
    }
   ],
   "source": [
    "import numpy as np\n",
    "import pandas as pd\n",
    "import seaborn as sns\n",
    "import matplotlib.pyplot as plt\n",
    "from matplotlib import cm, colors\n",
    "from matplotlib.collections import PatchCollection\n",
    "import glob\n",
    "import copy\n",
    "import autorank\n",
    "import os\n",
    "from pathlib import Path\n",
    "\n",
    "from nvita.utils import open_json\n",
    "from nvita.attacks.utils import (append_result_to_csv_file,\n",
    "                                 check_result_file_path,\n",
    "                                 create_empty_result_csv_file)"
   ]
  },
  {
   "cell_type": "code",
   "execution_count": 2,
   "id": "4491b395",
   "metadata": {},
   "outputs": [],
   "source": [
    "PATH_ROOT = Path(os.getcwd()).parent.absolute()\n",
    "PATH_NTRE = os.path.join(PATH_ROOT, \"results\", \"non_targeted_results\")\n",
    "PATH_TARE = os.path.join(PATH_ROOT, \"results\", \"targeted_results\")\n",
    "PATH_EXPS = os.path.join(PATH_ROOT, \"experiments\")"
   ]
  },
  {
   "cell_type": "code",
   "execution_count": 3,
   "id": "606ba061",
   "metadata": {},
   "outputs": [
    {
     "name": "stdout",
     "output_type": "stream",
     "text": [
      "{'data': ['Electricity', 'NZTemp', 'CNYExch', 'Oil'], 'seeds': ['2210', '9999', '58361', '789789', '1111111'], 'y_col_name': ['Consumption', 'Auckland', 'Close', 'Close'], 'window_size': ['4', '3', '7', '7'], 'models': ['CNN', 'LSTM', 'GRU', 'RF'], 'attacks': ['NOATTACK', 'BRS', 'BRNV', 'FGSM', 'BIM', 'NVITA', 'FULLVITA'], 'n_values': [1, 3, 5], 'epsilons': [0.05, 0.1, 0.15, 0.2], 'targets': ['Positive', 'Negative']}\n"
     ]
    }
   ],
   "source": [
    "my_metadata = open_json(os.path.join(\n",
    "    PATH_ROOT, \"experiments\", \"metadata.json\"))\n",
    "print(my_metadata)"
   ]
  },
  {
   "cell_type": "code",
   "execution_count": 4,
   "id": "a9563d16",
   "metadata": {},
   "outputs": [],
   "source": [
    "class RequiredCSV:\n",
    "    \"\"\"\n",
    "    Required CSV class\n",
    "    \"\"\"\n",
    "    def __init__(self, df_name = None, seed = None, eps = None, model = None, attack = None, targeted = False, target_direction = None, count = 0):\n",
    "        self.df_name = df_name\n",
    "        self.seed = seed\n",
    "        self.eps = eps\n",
    "        self.model = model\n",
    "        self.attack = attack\n",
    "        self.targeted = targeted\n",
    "        self.target_direction = target_direction\n",
    "        self.count = count\n",
    "        self.all_paths = []\n",
    "        # all_names list is used to check duplications\n",
    "    def get_output_line_list(self):\n",
    "        if self.targeted:\n",
    "            return [self.df_name, self.seed, self.eps, self.model, self.attack, self.target_direction, self.count, str(self)]\n",
    "        else:\n",
    "            return [self.df_name, self.seed, self.eps, self.model, self.attack, self.count, str(self)]\n",
    "        \n",
    "    def __str__(self) -> str:\n",
    "        if self.targeted:\n",
    "            return \"df_\"+self.df_name+\"_seed_\"+str(self.seed)+\"_model_\"+self.model+\"_epsilon_\"+str(self.eps)+\"_attack_\"+self.attack+\"_target_\"+self.target_direction\n",
    "        else:\n",
    "            return \"df_\"+self.df_name+\"_seed_\"+str(self.seed)+\"_model_\"+self.model+\"_epsilon_\"+str(self.eps)+\"_attack_\"+self.attack"
   ]
  },
  {
   "cell_type": "markdown",
   "id": "58ac9625",
   "metadata": {},
   "source": [
    "## Non-targeted Check"
   ]
  },
  {
   "cell_type": "code",
   "execution_count": 5,
   "id": "0b292ded",
   "metadata": {},
   "outputs": [
    {
     "name": "stdout",
     "output_type": "stream",
     "text": [
      "Total number of csv result files for non-targeted experiments are 2720\n"
     ]
    }
   ],
   "source": [
    "nont_d = {}\n",
    "total_count = 0\n",
    "for df in my_metadata[\"data\"]:\n",
    "    for seed in my_metadata[\"seeds\"]:\n",
    "        for eps in my_metadata[\"epsilons\"]:\n",
    "            for model in my_metadata[\"models\"]:\n",
    "                if model == \"RF\":\n",
    "                    attacks = [\"NOATTACK\", \"BRS\", \"Non_Targeted_BR5V\", \"Non_Targeted_1VITA\", \"Non_Targeted_3VITA\", \"Non_Targeted_5VITA\", \"FULLVITA\"]\n",
    "                else:\n",
    "                    attacks = [\"NOATTACK\", \"BRS\", \"Non_Targeted_BR5V\", \"FGSM\", \"BIM\", \"Non_Targeted_1VITA\", \"Non_Targeted_3VITA\", \"Non_Targeted_5VITA\", \"FULLVITA\"]\n",
    "                for attack in attacks:\n",
    "                    rcsv = RequiredCSV(df, seed, eps, model, attack)\n",
    "                    total_count += 1\n",
    "                    nont_d[str(rcsv)] = rcsv\n",
    "print(\"Total number of csv result files for non-targeted experiments are \" + str(total_count))"
   ]
  },
  {
   "cell_type": "code",
   "execution_count": 6,
   "id": "4e034a29",
   "metadata": {},
   "outputs": [],
   "source": [
    "for (root,dirs,files) in os.walk(PATH_NTRE, topdown=True):\n",
    "    for file in (f for f in files if f.endswith(\".csv\")):\n",
    "        file_path = Path(root, file)\n",
    "        df = pd.read_csv(file_path, index_col=None, header=0)\n",
    "        if df.shape[0] == 100:\n",
    "            # Complete result\n",
    "            suffix_ind = -5\n",
    "            while file[suffix_ind] == \"1\":\n",
    "                suffix_ind -= 1\n",
    "            nont_d[file[:suffix_ind+1]].count+=1\n",
    "            nont_d[file[:suffix_ind+1]].all_paths.append(file_path)\n",
    "            # Append the existing file name, it can be modified to remove duplication"
   ]
  },
  {
   "cell_type": "raw",
   "id": "875c81be",
   "metadata": {},
   "source": [
    "# Generate result check csv\n",
    "nt_fl = [\"df_name\", \"seed\", \"eps\", \"model\", \"attack\", \"occurrence\", \"full_name\"]\n",
    "nt_path = os.path.join(PATH_ROOT, \"results\", \"non_targeted_check_result.csv\")\n",
    "create_empty_result_csv_file(nt_path, nt_fl)\n",
    "for k in nont_d:\n",
    "    line_list = nont_d[k].get_output_line_list()\n",
    "    append_result_to_csv_file(nt_path, line_list)"
   ]
  },
  {
   "cell_type": "markdown",
   "id": "f1bf5961",
   "metadata": {},
   "source": [
    "# Plot: Comparison Non-Targeted Attacks"
   ]
  },
  {
   "cell_type": "code",
   "execution_count": 7,
   "id": "c75f1e45",
   "metadata": {},
   "outputs": [],
   "source": [
    "from matplotlib import colors\n",
    "cmap = colors.LinearSegmentedColormap.from_list(\"\", [\"lightskyblue\",\"blue\"])\n",
    "cmap_whiteblue = colors.LinearSegmentedColormap.from_list(\"\", [\"white\",\"blue\"])\n",
    "cdict = {\"1VITA\": cmap(0.1),\n",
    "         \"3VITA\": cmap(0.45),\n",
    "         \"5VITA\": cmap(0.70),\n",
    "         \"fullVITA\": cmap(0.99),#\"#d7af00\",\n",
    "         \"FGSM\": \"#CC6677\",\n",
    "         \"BIM\": \"#882255\",\n",
    "         \"BR5V\": \"#EECC66\",#\"#00ff5f\",\n",
    "         \"BRS\": \"#d7af00\",#\"#00af87\",\n",
    "         \"BR5\": \"#00875f\",\n",
    "         \"RFGSM\": \"#117733\",\n",
    "         \"BPM\": \"#999CC77\",\n",
    "         \"BR\": \"#44AA99\",\n",
    "         \"No Attack\": \"darkgrey\"}\n",
    "all_d_names = [\"Electricity\", \"NZTemp\",\"CNYExch\", \"Oil\"]\n",
    "order_nont_anns = [\"No Attack\", \"BR5V\", \"BRS\", \"1VITA\", \"3VITA\", \"5VITA\", \"fullVITA\", \"FGSM\", \"BIM\"]"
   ]
  },
  {
   "cell_type": "markdown",
   "id": "839e6cb9",
   "metadata": {},
   "source": [
    "#### Read non-targeted results\n",
    "Not all non-targeted expereimets are completed"
   ]
  },
  {
   "cell_type": "code",
   "execution_count": 8,
   "id": "402d7842",
   "metadata": {},
   "outputs": [
    {
     "name": "stdout",
     "output_type": "stream",
     "text": [
      "Total number of csv result files for non-targeted experiments are 2720\n",
      "We currently have 2720\n"
     ]
    }
   ],
   "source": [
    "li = []\n",
    "result_count = 0\n",
    "for r in nont_d:\n",
    "    curr_exp = nont_d[r]\n",
    "    if curr_exp.count >= 1:\n",
    "        # if the valid csv file is larger than 1\n",
    "        file_path = curr_exp.all_paths[0]\n",
    "        # read the first valid result csv\n",
    "        df = pd.read_csv(file_path, index_col=None, header=0)\n",
    "        li.append(df)\n",
    "        result_count+=1\n",
    "\n",
    "df_nont = pd.concat(li, axis=0, ignore_index=True)\n",
    "print(\"Total number of csv result files for non-targeted experiments are 2720\")\n",
    "print(\"We currently have\", result_count)"
   ]
  },
  {
   "cell_type": "code",
   "execution_count": 9,
   "id": "a5856a9c",
   "metadata": {},
   "outputs": [
    {
     "data": {
      "text/html": [
       "<div>\n",
       "<style scoped>\n",
       "    .dataframe tbody tr th:only-of-type {\n",
       "        vertical-align: middle;\n",
       "    }\n",
       "\n",
       "    .dataframe tbody tr th {\n",
       "        vertical-align: top;\n",
       "    }\n",
       "\n",
       "    .dataframe thead th {\n",
       "        text-align: right;\n",
       "    }\n",
       "</style>\n",
       "<table border=\"1\" class=\"dataframe\">\n",
       "  <thead>\n",
       "    <tr style=\"text-align: right;\">\n",
       "      <th></th>\n",
       "      <th>df</th>\n",
       "      <th>Seed</th>\n",
       "      <th>Model</th>\n",
       "      <th>Epsilon</th>\n",
       "      <th>Targeted</th>\n",
       "      <th>Test Index</th>\n",
       "      <th>Attack Name</th>\n",
       "      <th>True y</th>\n",
       "      <th>Original y Pred</th>\n",
       "      <th>Attacked y Pred</th>\n",
       "      <th>Attacked AE</th>\n",
       "      <th>Original AE</th>\n",
       "      <th>Max Per</th>\n",
       "      <th>Sum Per</th>\n",
       "      <th>Cost Time</th>\n",
       "      <th>Window Range</th>\n",
       "      <th>Adv Example</th>\n",
       "      <th>Unnamed: 17</th>\n",
       "    </tr>\n",
       "  </thead>\n",
       "  <tbody>\n",
       "    <tr>\n",
       "      <th>0</th>\n",
       "      <td>Electricity</td>\n",
       "      <td>2210</td>\n",
       "      <td>CNN</td>\n",
       "      <td>0.05</td>\n",
       "      <td>False</td>\n",
       "      <td>0</td>\n",
       "      <td>NOATTACK</td>\n",
       "      <td>0.672584</td>\n",
       "      <td>0.562173</td>\n",
       "      <td>0.562267</td>\n",
       "      <td>0.110410</td>\n",
       "      <td>0.110316</td>\n",
       "      <td>0.000000</td>\n",
       "      <td>0.000000</td>\n",
       "      <td>0.000001</td>\n",
       "      <td>[0.04901205003261566; 0.08901553601026535; 0.4...</td>\n",
       "      <td>[[[0.6418231129646301; 0.12937945127487183; 0....</td>\n",
       "      <td>NaN</td>\n",
       "    </tr>\n",
       "    <tr>\n",
       "      <th>1</th>\n",
       "      <td>Electricity</td>\n",
       "      <td>2210</td>\n",
       "      <td>CNN</td>\n",
       "      <td>0.05</td>\n",
       "      <td>False</td>\n",
       "      <td>1</td>\n",
       "      <td>NOATTACK</td>\n",
       "      <td>0.910354</td>\n",
       "      <td>0.783120</td>\n",
       "      <td>0.783135</td>\n",
       "      <td>0.127233</td>\n",
       "      <td>0.127219</td>\n",
       "      <td>0.000000</td>\n",
       "      <td>0.000000</td>\n",
       "      <td>0.000002</td>\n",
       "      <td>[0.44276919960975647; 0.14444103837013245; 0.0...</td>\n",
       "      <td>[[[0.9424374103546143; 0.06804738193750381; 0....</td>\n",
       "      <td>NaN</td>\n",
       "    </tr>\n",
       "    <tr>\n",
       "      <th>2</th>\n",
       "      <td>Electricity</td>\n",
       "      <td>2210</td>\n",
       "      <td>CNN</td>\n",
       "      <td>0.05</td>\n",
       "      <td>False</td>\n",
       "      <td>2</td>\n",
       "      <td>NOATTACK</td>\n",
       "      <td>0.245824</td>\n",
       "      <td>0.248524</td>\n",
       "      <td>0.248623</td>\n",
       "      <td>0.002700</td>\n",
       "      <td>0.002799</td>\n",
       "      <td>0.000000</td>\n",
       "      <td>0.000000</td>\n",
       "      <td>0.000002</td>\n",
       "      <td>[0.29896682500839233; 0.2935175597667694; 0.15...</td>\n",
       "      <td>[[[0.6672875285148621; 0.4920886158943176; 0.3...</td>\n",
       "      <td>NaN</td>\n",
       "    </tr>\n",
       "    <tr>\n",
       "      <th>3</th>\n",
       "      <td>Electricity</td>\n",
       "      <td>2210</td>\n",
       "      <td>CNN</td>\n",
       "      <td>0.05</td>\n",
       "      <td>False</td>\n",
       "      <td>3</td>\n",
       "      <td>NOATTACK</td>\n",
       "      <td>0.891482</td>\n",
       "      <td>0.885630</td>\n",
       "      <td>0.885629</td>\n",
       "      <td>0.005852</td>\n",
       "      <td>0.005853</td>\n",
       "      <td>0.000000</td>\n",
       "      <td>0.000000</td>\n",
       "      <td>0.000003</td>\n",
       "      <td>[0.4450129568576813; 0.3348195254802704; 0.010...</td>\n",
       "      <td>[[[0.5957567095756531; 0.4335622191429138; 0.1...</td>\n",
       "      <td>NaN</td>\n",
       "    </tr>\n",
       "    <tr>\n",
       "      <th>4</th>\n",
       "      <td>Electricity</td>\n",
       "      <td>2210</td>\n",
       "      <td>CNN</td>\n",
       "      <td>0.05</td>\n",
       "      <td>False</td>\n",
       "      <td>4</td>\n",
       "      <td>NOATTACK</td>\n",
       "      <td>0.857214</td>\n",
       "      <td>0.718997</td>\n",
       "      <td>0.718889</td>\n",
       "      <td>0.138217</td>\n",
       "      <td>0.138325</td>\n",
       "      <td>0.000000</td>\n",
       "      <td>0.000000</td>\n",
       "      <td>0.000002</td>\n",
       "      <td>[0.021519480273127556; 0.38747474551200867; 0....</td>\n",
       "      <td>[[[0.8583270907402039; 0.7205108404159546; 0.0...</td>\n",
       "      <td>NaN</td>\n",
       "    </tr>\n",
       "    <tr>\n",
       "      <th>...</th>\n",
       "      <td>...</td>\n",
       "      <td>...</td>\n",
       "      <td>...</td>\n",
       "      <td>...</td>\n",
       "      <td>...</td>\n",
       "      <td>...</td>\n",
       "      <td>...</td>\n",
       "      <td>...</td>\n",
       "      <td>...</td>\n",
       "      <td>...</td>\n",
       "      <td>...</td>\n",
       "      <td>...</td>\n",
       "      <td>...</td>\n",
       "      <td>...</td>\n",
       "      <td>...</td>\n",
       "      <td>...</td>\n",
       "      <td>...</td>\n",
       "      <td>...</td>\n",
       "    </tr>\n",
       "    <tr>\n",
       "      <th>271995</th>\n",
       "      <td>Oil</td>\n",
       "      <td>1111111</td>\n",
       "      <td>RF</td>\n",
       "      <td>0.20</td>\n",
       "      <td>False</td>\n",
       "      <td>95</td>\n",
       "      <td>Non-targeted_fullVITA</td>\n",
       "      <td>0.212712</td>\n",
       "      <td>0.204908</td>\n",
       "      <td>0.209520</td>\n",
       "      <td>0.007804</td>\n",
       "      <td>0.003192</td>\n",
       "      <td>0.002892</td>\n",
       "      <td>0.054818</td>\n",
       "      <td>83.213634</td>\n",
       "      <td>[0.013556988909840584; 0.013588211499154568; 0...</td>\n",
       "      <td>[[[0.20008809864521027; 0.19622887670993805; 0...</td>\n",
       "      <td>NaN</td>\n",
       "    </tr>\n",
       "    <tr>\n",
       "      <th>271996</th>\n",
       "      <td>Oil</td>\n",
       "      <td>1111111</td>\n",
       "      <td>RF</td>\n",
       "      <td>0.20</td>\n",
       "      <td>False</td>\n",
       "      <td>96</td>\n",
       "      <td>Non-targeted_fullVITA</td>\n",
       "      <td>0.210418</td>\n",
       "      <td>0.218655</td>\n",
       "      <td>0.215679</td>\n",
       "      <td>0.008238</td>\n",
       "      <td>0.005262</td>\n",
       "      <td>0.001576</td>\n",
       "      <td>0.033144</td>\n",
       "      <td>70.966564</td>\n",
       "      <td>[0.007812503725290298; 0.008060810156166553; 0...</td>\n",
       "      <td>[[[0.2087525725364685; 0.20448164641857147; 0....</td>\n",
       "      <td>NaN</td>\n",
       "    </tr>\n",
       "    <tr>\n",
       "      <th>271997</th>\n",
       "      <td>Oil</td>\n",
       "      <td>1111111</td>\n",
       "      <td>RF</td>\n",
       "      <td>0.20</td>\n",
       "      <td>False</td>\n",
       "      <td>97</td>\n",
       "      <td>Non-targeted_fullVITA</td>\n",
       "      <td>0.859339</td>\n",
       "      <td>0.844805</td>\n",
       "      <td>0.850665</td>\n",
       "      <td>0.014535</td>\n",
       "      <td>0.008674</td>\n",
       "      <td>0.004898</td>\n",
       "      <td>0.074796</td>\n",
       "      <td>64.839766</td>\n",
       "      <td>[0.021139662712812424; 0.02118835039436817; 0....</td>\n",
       "      <td>[[[0.8630433678627014; 0.8570792078971863; 0.8...</td>\n",
       "      <td>NaN</td>\n",
       "    </tr>\n",
       "    <tr>\n",
       "      <th>271998</th>\n",
       "      <td>Oil</td>\n",
       "      <td>1111111</td>\n",
       "      <td>RF</td>\n",
       "      <td>0.20</td>\n",
       "      <td>False</td>\n",
       "      <td>98</td>\n",
       "      <td>Non-targeted_fullVITA</td>\n",
       "      <td>0.753327</td>\n",
       "      <td>0.775067</td>\n",
       "      <td>0.750787</td>\n",
       "      <td>0.021739</td>\n",
       "      <td>0.002540</td>\n",
       "      <td>0.006182</td>\n",
       "      <td>0.095866</td>\n",
       "      <td>40.785414</td>\n",
       "      <td>[0.03331803157925606; 0.033394765108823776; 0....</td>\n",
       "      <td>[[[0.7701444029808044; 0.7673375010490417; 0.7...</td>\n",
       "      <td>NaN</td>\n",
       "    </tr>\n",
       "    <tr>\n",
       "      <th>271999</th>\n",
       "      <td>Oil</td>\n",
       "      <td>1111111</td>\n",
       "      <td>RF</td>\n",
       "      <td>0.20</td>\n",
       "      <td>False</td>\n",
       "      <td>99</td>\n",
       "      <td>Non-targeted_fullVITA</td>\n",
       "      <td>0.212253</td>\n",
       "      <td>0.205629</td>\n",
       "      <td>0.210714</td>\n",
       "      <td>0.006625</td>\n",
       "      <td>0.001540</td>\n",
       "      <td>0.003357</td>\n",
       "      <td>0.055099</td>\n",
       "      <td>83.011726</td>\n",
       "      <td>[0.01194853987544775; 0.013588211499154568; 0....</td>\n",
       "      <td>[[[0.20847061276435852; 0.20365023612976074; 0...</td>\n",
       "      <td>NaN</td>\n",
       "    </tr>\n",
       "  </tbody>\n",
       "</table>\n",
       "<p>272000 rows × 18 columns</p>\n",
       "</div>"
      ],
      "text/plain": [
       "                 df     Seed Model  Epsilon  Targeted  Test Index  \\\n",
       "0       Electricity     2210   CNN     0.05     False           0   \n",
       "1       Electricity     2210   CNN     0.05     False           1   \n",
       "2       Electricity     2210   CNN     0.05     False           2   \n",
       "3       Electricity     2210   CNN     0.05     False           3   \n",
       "4       Electricity     2210   CNN     0.05     False           4   \n",
       "...             ...      ...   ...      ...       ...         ...   \n",
       "271995          Oil  1111111    RF     0.20     False          95   \n",
       "271996          Oil  1111111    RF     0.20     False          96   \n",
       "271997          Oil  1111111    RF     0.20     False          97   \n",
       "271998          Oil  1111111    RF     0.20     False          98   \n",
       "271999          Oil  1111111    RF     0.20     False          99   \n",
       "\n",
       "                  Attack Name    True y  Original y Pred  Attacked y Pred  \\\n",
       "0                    NOATTACK  0.672584         0.562173         0.562267   \n",
       "1                    NOATTACK  0.910354         0.783120         0.783135   \n",
       "2                    NOATTACK  0.245824         0.248524         0.248623   \n",
       "3                    NOATTACK  0.891482         0.885630         0.885629   \n",
       "4                    NOATTACK  0.857214         0.718997         0.718889   \n",
       "...                       ...       ...              ...              ...   \n",
       "271995  Non-targeted_fullVITA  0.212712         0.204908         0.209520   \n",
       "271996  Non-targeted_fullVITA  0.210418         0.218655         0.215679   \n",
       "271997  Non-targeted_fullVITA  0.859339         0.844805         0.850665   \n",
       "271998  Non-targeted_fullVITA  0.753327         0.775067         0.750787   \n",
       "271999  Non-targeted_fullVITA  0.212253         0.205629         0.210714   \n",
       "\n",
       "        Attacked AE  Original AE   Max Per   Sum Per  Cost Time  \\\n",
       "0          0.110410     0.110316  0.000000  0.000000   0.000001   \n",
       "1          0.127233     0.127219  0.000000  0.000000   0.000002   \n",
       "2          0.002700     0.002799  0.000000  0.000000   0.000002   \n",
       "3          0.005852     0.005853  0.000000  0.000000   0.000003   \n",
       "4          0.138217     0.138325  0.000000  0.000000   0.000002   \n",
       "...             ...          ...       ...       ...        ...   \n",
       "271995     0.007804     0.003192  0.002892  0.054818  83.213634   \n",
       "271996     0.008238     0.005262  0.001576  0.033144  70.966564   \n",
       "271997     0.014535     0.008674  0.004898  0.074796  64.839766   \n",
       "271998     0.021739     0.002540  0.006182  0.095866  40.785414   \n",
       "271999     0.006625     0.001540  0.003357  0.055099  83.011726   \n",
       "\n",
       "                                             Window Range  \\\n",
       "0       [0.04901205003261566; 0.08901553601026535; 0.4...   \n",
       "1       [0.44276919960975647; 0.14444103837013245; 0.0...   \n",
       "2       [0.29896682500839233; 0.2935175597667694; 0.15...   \n",
       "3       [0.4450129568576813; 0.3348195254802704; 0.010...   \n",
       "4       [0.021519480273127556; 0.38747474551200867; 0....   \n",
       "...                                                   ...   \n",
       "271995  [0.013556988909840584; 0.013588211499154568; 0...   \n",
       "271996  [0.007812503725290298; 0.008060810156166553; 0...   \n",
       "271997  [0.021139662712812424; 0.02118835039436817; 0....   \n",
       "271998  [0.03331803157925606; 0.033394765108823776; 0....   \n",
       "271999  [0.01194853987544775; 0.013588211499154568; 0....   \n",
       "\n",
       "                                              Adv Example  Unnamed: 17  \n",
       "0       [[[0.6418231129646301; 0.12937945127487183; 0....          NaN  \n",
       "1       [[[0.9424374103546143; 0.06804738193750381; 0....          NaN  \n",
       "2       [[[0.6672875285148621; 0.4920886158943176; 0.3...          NaN  \n",
       "3       [[[0.5957567095756531; 0.4335622191429138; 0.1...          NaN  \n",
       "4       [[[0.8583270907402039; 0.7205108404159546; 0.0...          NaN  \n",
       "...                                                   ...          ...  \n",
       "271995  [[[0.20008809864521027; 0.19622887670993805; 0...          NaN  \n",
       "271996  [[[0.2087525725364685; 0.20448164641857147; 0....          NaN  \n",
       "271997  [[[0.8630433678627014; 0.8570792078971863; 0.8...          NaN  \n",
       "271998  [[[0.7701444029808044; 0.7673375010490417; 0.7...          NaN  \n",
       "271999  [[[0.20847061276435852; 0.20365023612976074; 0...          NaN  \n",
       "\n",
       "[272000 rows x 18 columns]"
      ]
     },
     "execution_count": 9,
     "metadata": {},
     "output_type": "execute_result"
    }
   ],
   "source": [
    "df_nont"
   ]
  },
  {
   "cell_type": "code",
   "execution_count": 10,
   "id": "9c5010e8",
   "metadata": {},
   "outputs": [
    {
     "name": "stderr",
     "output_type": "stream",
     "text": [
      "C:\\Users\\markc\\AppData\\Local\\Temp\\ipykernel_15536\\1676046622.py:2: SettingWithCopyWarning: \n",
      "A value is trying to be set on a copy of a slice from a DataFrame\n",
      "\n",
      "See the caveats in the documentation: https://pandas.pydata.org/pandas-docs/stable/user_guide/indexing.html#returning-a-view-versus-a-copy\n",
      "  df_nont.rename(columns = {'Max Per':'Max Perturbation', 'Sum Per':'Total Perturbation'}, inplace = True)\n",
      "C:\\Users\\markc\\AppData\\Local\\Temp\\ipykernel_15536\\1676046622.py:3: SettingWithCopyWarning: \n",
      "A value is trying to be set on a copy of a slice from a DataFrame.\n",
      "Try using .loc[row_indexer,col_indexer] = value instead\n",
      "\n",
      "See the caveats in the documentation: https://pandas.pydata.org/pandas-docs/stable/user_guide/indexing.html#returning-a-view-versus-a-copy\n",
      "  df_nont['Attack Name'] = df_nont['Attack Name'].map(\n"
     ]
    }
   ],
   "source": [
    "df_nont = df_nont[['df','Seed', 'Model','Epsilon', 'Test Index','Attack Name', 'Attacked AE', 'Max Per', 'Sum Per', 'Cost Time']]\n",
    "df_nont.rename(columns = {'Max Per':'Max Perturbation', 'Sum Per':'Total Perturbation'}, inplace = True)\n",
    "df_nont['Attack Name'] = df_nont['Attack Name'].map(\n",
    "    {'NOATTACK': 'No Attack', 'Non-targeted_1VITA': '1VITA', 'Non-targeted_3VITA': '3VITA','Non-targeted_5VITA': '5VITA','Non-targeted_fullVITA': 'fullVITA','Non-targeted_FGSM': 'FGSM','Non-targeted_BIM': 'BIM','Non-targeted_BR5V':'BR5V','Non-targeted_BRS':'BRS'})"
   ]
  },
  {
   "cell_type": "code",
   "execution_count": 11,
   "id": "b075d16e",
   "metadata": {},
   "outputs": [],
   "source": [
    "df_nont_all4 = df_nont[['df','Seed', 'Model','Epsilon', 'Test Index','Attack Name', 'Attacked AE', 'Max Perturbation', 'Total Perturbation', 'Cost Time']].copy()"
   ]
  },
  {
   "cell_type": "code",
   "execution_count": 12,
   "id": "2051c011",
   "metadata": {},
   "outputs": [],
   "source": [
    "df_nont_anns = df_nont_all4[df_nont_all4['Model'] != \"RF\"]"
   ]
  },
  {
   "cell_type": "code",
   "execution_count": 13,
   "id": "04b63d4e",
   "metadata": {},
   "outputs": [],
   "source": [
    "df_nont_anns_grouped = df_nont_anns.groupby(['df', 'Model', 'Attack Name', 'Epsilon'], as_index=False)\n",
    "df_nont_anns_grouped = df_nont_anns_grouped.agg(\n",
    "    {'Total Perturbation':'mean', 'Max Perturbation':'mean', 'Attacked AE':'mean'})"
   ]
  },
  {
   "cell_type": "code",
   "execution_count": 14,
   "id": "39d477e0",
   "metadata": {},
   "outputs": [
    {
     "data": {
      "text/html": [
       "<div>\n",
       "<style scoped>\n",
       "    .dataframe tbody tr th:only-of-type {\n",
       "        vertical-align: middle;\n",
       "    }\n",
       "\n",
       "    .dataframe tbody tr th {\n",
       "        vertical-align: top;\n",
       "    }\n",
       "\n",
       "    .dataframe thead th {\n",
       "        text-align: right;\n",
       "    }\n",
       "</style>\n",
       "<table border=\"1\" class=\"dataframe\">\n",
       "  <thead>\n",
       "    <tr style=\"text-align: right;\">\n",
       "      <th></th>\n",
       "      <th>df</th>\n",
       "      <th>Model</th>\n",
       "      <th>Attack Name</th>\n",
       "      <th>Epsilon</th>\n",
       "      <th>Total Perturbation</th>\n",
       "      <th>Max Perturbation</th>\n",
       "      <th>Attacked AE</th>\n",
       "    </tr>\n",
       "  </thead>\n",
       "  <tbody>\n",
       "    <tr>\n",
       "      <th>0</th>\n",
       "      <td>CNYExch</td>\n",
       "      <td>CNN</td>\n",
       "      <td>1VITA</td>\n",
       "      <td>0.05</td>\n",
       "      <td>0.000916</td>\n",
       "      <td>0.000916</td>\n",
       "      <td>0.010545</td>\n",
       "    </tr>\n",
       "    <tr>\n",
       "      <th>1</th>\n",
       "      <td>CNYExch</td>\n",
       "      <td>CNN</td>\n",
       "      <td>1VITA</td>\n",
       "      <td>0.10</td>\n",
       "      <td>0.002322</td>\n",
       "      <td>0.002322</td>\n",
       "      <td>0.010780</td>\n",
       "    </tr>\n",
       "    <tr>\n",
       "      <th>2</th>\n",
       "      <td>CNYExch</td>\n",
       "      <td>CNN</td>\n",
       "      <td>1VITA</td>\n",
       "      <td>0.15</td>\n",
       "      <td>0.003857</td>\n",
       "      <td>0.003857</td>\n",
       "      <td>0.011082</td>\n",
       "    </tr>\n",
       "    <tr>\n",
       "      <th>3</th>\n",
       "      <td>CNYExch</td>\n",
       "      <td>CNN</td>\n",
       "      <td>1VITA</td>\n",
       "      <td>0.20</td>\n",
       "      <td>0.005418</td>\n",
       "      <td>0.005418</td>\n",
       "      <td>0.011346</td>\n",
       "    </tr>\n",
       "    <tr>\n",
       "      <th>4</th>\n",
       "      <td>CNYExch</td>\n",
       "      <td>CNN</td>\n",
       "      <td>3VITA</td>\n",
       "      <td>0.05</td>\n",
       "      <td>0.002461</td>\n",
       "      <td>0.001191</td>\n",
       "      <td>0.010663</td>\n",
       "    </tr>\n",
       "    <tr>\n",
       "      <th>...</th>\n",
       "      <td>...</td>\n",
       "      <td>...</td>\n",
       "      <td>...</td>\n",
       "      <td>...</td>\n",
       "      <td>...</td>\n",
       "      <td>...</td>\n",
       "      <td>...</td>\n",
       "    </tr>\n",
       "    <tr>\n",
       "      <th>427</th>\n",
       "      <td>Oil</td>\n",
       "      <td>LSTM</td>\n",
       "      <td>No Attack</td>\n",
       "      <td>0.20</td>\n",
       "      <td>0.000000</td>\n",
       "      <td>0.000000</td>\n",
       "      <td>0.008445</td>\n",
       "    </tr>\n",
       "    <tr>\n",
       "      <th>428</th>\n",
       "      <td>Oil</td>\n",
       "      <td>LSTM</td>\n",
       "      <td>fullVITA</td>\n",
       "      <td>0.05</td>\n",
       "      <td>0.030076</td>\n",
       "      <td>0.002889</td>\n",
       "      <td>0.008780</td>\n",
       "    </tr>\n",
       "    <tr>\n",
       "      <th>429</th>\n",
       "      <td>Oil</td>\n",
       "      <td>LSTM</td>\n",
       "      <td>fullVITA</td>\n",
       "      <td>0.10</td>\n",
       "      <td>0.063020</td>\n",
       "      <td>0.005888</td>\n",
       "      <td>0.009557</td>\n",
       "    </tr>\n",
       "    <tr>\n",
       "      <th>430</th>\n",
       "      <td>Oil</td>\n",
       "      <td>LSTM</td>\n",
       "      <td>fullVITA</td>\n",
       "      <td>0.15</td>\n",
       "      <td>0.095904</td>\n",
       "      <td>0.009004</td>\n",
       "      <td>0.010497</td>\n",
       "    </tr>\n",
       "    <tr>\n",
       "      <th>431</th>\n",
       "      <td>Oil</td>\n",
       "      <td>LSTM</td>\n",
       "      <td>fullVITA</td>\n",
       "      <td>0.20</td>\n",
       "      <td>0.130863</td>\n",
       "      <td>0.012019</td>\n",
       "      <td>0.011562</td>\n",
       "    </tr>\n",
       "  </tbody>\n",
       "</table>\n",
       "<p>432 rows × 7 columns</p>\n",
       "</div>"
      ],
      "text/plain": [
       "          df Model Attack Name  Epsilon  Total Perturbation  Max Perturbation  \\\n",
       "0    CNYExch   CNN       1VITA     0.05            0.000916          0.000916   \n",
       "1    CNYExch   CNN       1VITA     0.10            0.002322          0.002322   \n",
       "2    CNYExch   CNN       1VITA     0.15            0.003857          0.003857   \n",
       "3    CNYExch   CNN       1VITA     0.20            0.005418          0.005418   \n",
       "4    CNYExch   CNN       3VITA     0.05            0.002461          0.001191   \n",
       "..       ...   ...         ...      ...                 ...               ...   \n",
       "427      Oil  LSTM   No Attack     0.20            0.000000          0.000000   \n",
       "428      Oil  LSTM    fullVITA     0.05            0.030076          0.002889   \n",
       "429      Oil  LSTM    fullVITA     0.10            0.063020          0.005888   \n",
       "430      Oil  LSTM    fullVITA     0.15            0.095904          0.009004   \n",
       "431      Oil  LSTM    fullVITA     0.20            0.130863          0.012019   \n",
       "\n",
       "     Attacked AE  \n",
       "0       0.010545  \n",
       "1       0.010780  \n",
       "2       0.011082  \n",
       "3       0.011346  \n",
       "4       0.010663  \n",
       "..           ...  \n",
       "427     0.008445  \n",
       "428     0.008780  \n",
       "429     0.009557  \n",
       "430     0.010497  \n",
       "431     0.011562  \n",
       "\n",
       "[432 rows x 7 columns]"
      ]
     },
     "execution_count": 14,
     "metadata": {},
     "output_type": "execute_result"
    }
   ],
   "source": [
    "df_nont_anns_grouped"
   ]
  },
  {
   "cell_type": "code",
   "execution_count": 15,
   "id": "abcef1dd",
   "metadata": {},
   "outputs": [
    {
     "data": {
      "image/png": "[encoded data removed]",
      "text/plain": [
       "<Figure size 1080x216 with 4 Axes>"
      ]
     },
     "metadata": {
      "needs_background": "light"
     },
     "output_type": "display_data"
    }
   ],
   "source": [
    "import matplotlib.ticker as mtick\n",
    "f, ax = plt.subplots(1, 4, figsize=(15, 3), sharey=False)\n",
    "for i, ds in enumerate(all_d_names):\n",
    "    g = sns.barplot(palette=cdict, hue_order=order_nont_anns, ax=ax[i], errwidth=1.5,\n",
    "                 data=df_nont_anns_grouped.loc[df_nont_anns_grouped['df'] == ds], hue='Attack Name', y='Attacked AE', x='Epsilon')\n",
    "    g.legend_.remove()\n",
    "    #g.set(xlabel=None, xticks=[])\n",
    "    g.set(ylabel=\"MAE to ground truth (↑)\")\n",
    "    g.set(title=ds)\n",
    "    if i==2:\n",
    "        g.legend(loc='upper center', bbox_to_anchor=(-0.25, -0.2), frameon=False, ncol=9)\n",
    "    if i>0:\n",
    "        g.set(ylabel=None)\n",
    "plt.subplots_adjust(left=None, bottom=None, right=None, top=None, wspace=0.4, hspace=None)\n",
    "plt.savefig('nont_epsilon_vs_MAE_group_by_dataset.pdf', bbox_inches='tight')"
   ]
  },
  {
   "cell_type": "markdown",
   "id": "b0e4a9c4",
   "metadata": {},
   "source": [
    "#### Reverse the Sign of the AE"
   ]
  },
  {
   "cell_type": "code",
   "execution_count": 16,
   "id": "03a54552",
   "metadata": {},
   "outputs": [],
   "source": [
    "df_nont_anns_grouped_rev = copy.deepcopy(df_nont_anns_grouped)\n",
    "df_nont_anns_grouped_rev['Attacked AE'] = -df_nont_anns_grouped_rev['Attacked AE']"
   ]
  },
  {
   "cell_type": "code",
   "execution_count": 17,
   "id": "f247ac08",
   "metadata": {},
   "outputs": [
    {
     "data": {
      "image/png": "[encoded data removed]",
      "text/plain": [
       "<Figure size 624.5x216 with 1 Axes>"
      ]
     },
     "metadata": {
      "needs_background": "light"
     },
     "output_type": "display_data"
    }
   ],
   "source": [
    "sns.catplot(data=df_nont_anns_grouped, kind='bar', height=3, aspect=2.5, palette=cdict, hue_order=order_nont_anns,\n",
    "               hue='Attack Name', y='Attacked AE', x='Epsilon', ci=90)\n",
    "plt.ylabel(\"MAE\")\n",
    "plt.savefig('nont_epsilon_vs_MAE.pdf', bbox_inches='tight')"
   ]
  },
  {
   "cell_type": "markdown",
   "id": "7f2c0e1f",
   "metadata": {},
   "source": [
    "sns.catplot(data=df_grouped, kind='bar', height=2, aspect=4, row='Dataset', palette=cdict, hue_order=order_nont, sharey=False,\n",
    "               hue='Attack', y='AE', x='Epsilon')"
   ]
  },
  {
   "cell_type": "markdown",
   "id": "f30f446c",
   "metadata": {},
   "source": [
    "sns.catplot(data=df_grouped, kind='bar', height=2, aspect=4, row='Model', palette=cdict, hue_order=order_nont, sharey=False,\n",
    "               hue='Attack', y='AE', x='Epsilon')"
   ]
  },
  {
   "cell_type": "code",
   "execution_count": 18,
   "id": "8d84fc7d",
   "metadata": {},
   "outputs": [
    {
     "data": {
      "image/png": "[encoded data removed]",
      "text/plain": [
       "<Figure size 624.5x216 with 1 Axes>"
      ]
     },
     "metadata": {
      "needs_background": "light"
     },
     "output_type": "display_data"
    }
   ],
   "source": [
    "sns.catplot(data=df_nont_anns_grouped, kind='bar', height=3, aspect=2.5, palette=cdict, hue_order=order_nont_anns,\n",
    "               hue='Attack Name', y='Total Perturbation', x='Epsilon')\n",
    "plt.savefig('nont_epsilon_vs_total_perturbation.pdf', bbox_inches='tight')"
   ]
  },
  {
   "cell_type": "code",
   "execution_count": 19,
   "id": "f1899146",
   "metadata": {},
   "outputs": [
    {
     "data": {
      "image/png": "[encoded data removed]",
      "text/plain": [
       "<Figure size 624.5x216 with 1 Axes>"
      ]
     },
     "metadata": {
      "needs_background": "light"
     },
     "output_type": "display_data"
    }
   ],
   "source": [
    "sns.catplot(data=df_nont_anns_grouped, kind='bar', height=3, aspect=2.5, palette=cdict, hue_order=order_nont_anns,\n",
    "               hue='Attack Name', y='Max Perturbation', x='Epsilon')\n",
    "plt.savefig('nont_epsilon_vs_maximum_perturbation.pdf', bbox_inches='tight')"
   ]
  },
  {
   "cell_type": "markdown",
   "id": "8557c2cd",
   "metadata": {},
   "source": [
    "## Non-T CD plots"
   ]
  },
  {
   "cell_type": "code",
   "execution_count": 20,
   "id": "cd8e5453",
   "metadata": {},
   "outputs": [
    {
     "data": {
      "text/plain": [
       "False"
      ]
     },
     "execution_count": 20,
     "metadata": {},
     "output_type": "execute_result"
    }
   ],
   "source": [
    "nont_df_g = copy.deepcopy(df_nont_anns)[['df','Seed', 'Model', 'Test Index','Attack Name', 'Epsilon', 'Attacked AE']]\n",
    "nont_df_g.columns = ['Dataset','Seed', 'Model', 'Window Index', 'Attack', 'Epsilon', 'AE']\n",
    "nont_df_g['AE'] = -nont_df_g['AE']\n",
    "nont_df_g.isnull().values.any() "
   ]
  },
  {
   "cell_type": "code",
   "execution_count": 21,
   "id": "440f39ac",
   "metadata": {},
   "outputs": [
    {
     "data": {
      "text/html": [
       "<div>\n",
       "<style scoped>\n",
       "    .dataframe tbody tr th:only-of-type {\n",
       "        vertical-align: middle;\n",
       "    }\n",
       "\n",
       "    .dataframe tbody tr th {\n",
       "        vertical-align: top;\n",
       "    }\n",
       "\n",
       "    .dataframe thead th {\n",
       "        text-align: right;\n",
       "    }\n",
       "</style>\n",
       "<table border=\"1\" class=\"dataframe\">\n",
       "  <thead>\n",
       "    <tr style=\"text-align: right;\">\n",
       "      <th></th>\n",
       "      <th>Dataset</th>\n",
       "      <th>Seed</th>\n",
       "      <th>Model</th>\n",
       "      <th>Window Index</th>\n",
       "      <th>Attack</th>\n",
       "      <th>Epsilon</th>\n",
       "      <th>AE</th>\n",
       "    </tr>\n",
       "  </thead>\n",
       "  <tbody>\n",
       "    <tr>\n",
       "      <th>0</th>\n",
       "      <td>Electricity</td>\n",
       "      <td>2210</td>\n",
       "      <td>CNN</td>\n",
       "      <td>0</td>\n",
       "      <td>No Attack</td>\n",
       "      <td>0.05</td>\n",
       "      <td>-0.110410</td>\n",
       "    </tr>\n",
       "    <tr>\n",
       "      <th>1</th>\n",
       "      <td>Electricity</td>\n",
       "      <td>2210</td>\n",
       "      <td>CNN</td>\n",
       "      <td>1</td>\n",
       "      <td>No Attack</td>\n",
       "      <td>0.05</td>\n",
       "      <td>-0.127233</td>\n",
       "    </tr>\n",
       "    <tr>\n",
       "      <th>2</th>\n",
       "      <td>Electricity</td>\n",
       "      <td>2210</td>\n",
       "      <td>CNN</td>\n",
       "      <td>2</td>\n",
       "      <td>No Attack</td>\n",
       "      <td>0.05</td>\n",
       "      <td>-0.002700</td>\n",
       "    </tr>\n",
       "    <tr>\n",
       "      <th>3</th>\n",
       "      <td>Electricity</td>\n",
       "      <td>2210</td>\n",
       "      <td>CNN</td>\n",
       "      <td>3</td>\n",
       "      <td>No Attack</td>\n",
       "      <td>0.05</td>\n",
       "      <td>-0.005852</td>\n",
       "    </tr>\n",
       "    <tr>\n",
       "      <th>4</th>\n",
       "      <td>Electricity</td>\n",
       "      <td>2210</td>\n",
       "      <td>CNN</td>\n",
       "      <td>4</td>\n",
       "      <td>No Attack</td>\n",
       "      <td>0.05</td>\n",
       "      <td>-0.138217</td>\n",
       "    </tr>\n",
       "    <tr>\n",
       "      <th>...</th>\n",
       "      <td>...</td>\n",
       "      <td>...</td>\n",
       "      <td>...</td>\n",
       "      <td>...</td>\n",
       "      <td>...</td>\n",
       "      <td>...</td>\n",
       "      <td>...</td>\n",
       "    </tr>\n",
       "    <tr>\n",
       "      <th>271295</th>\n",
       "      <td>Oil</td>\n",
       "      <td>1111111</td>\n",
       "      <td>GRU</td>\n",
       "      <td>95</td>\n",
       "      <td>fullVITA</td>\n",
       "      <td>0.20</td>\n",
       "      <td>-0.007499</td>\n",
       "    </tr>\n",
       "    <tr>\n",
       "      <th>271296</th>\n",
       "      <td>Oil</td>\n",
       "      <td>1111111</td>\n",
       "      <td>GRU</td>\n",
       "      <td>96</td>\n",
       "      <td>fullVITA</td>\n",
       "      <td>0.20</td>\n",
       "      <td>-0.004008</td>\n",
       "    </tr>\n",
       "    <tr>\n",
       "      <th>271297</th>\n",
       "      <td>Oil</td>\n",
       "      <td>1111111</td>\n",
       "      <td>GRU</td>\n",
       "      <td>97</td>\n",
       "      <td>fullVITA</td>\n",
       "      <td>0.20</td>\n",
       "      <td>-0.005285</td>\n",
       "    </tr>\n",
       "    <tr>\n",
       "      <th>271298</th>\n",
       "      <td>Oil</td>\n",
       "      <td>1111111</td>\n",
       "      <td>GRU</td>\n",
       "      <td>98</td>\n",
       "      <td>fullVITA</td>\n",
       "      <td>0.20</td>\n",
       "      <td>-0.008967</td>\n",
       "    </tr>\n",
       "    <tr>\n",
       "      <th>271299</th>\n",
       "      <td>Oil</td>\n",
       "      <td>1111111</td>\n",
       "      <td>GRU</td>\n",
       "      <td>99</td>\n",
       "      <td>fullVITA</td>\n",
       "      <td>0.20</td>\n",
       "      <td>-0.005843</td>\n",
       "    </tr>\n",
       "  </tbody>\n",
       "</table>\n",
       "<p>216000 rows × 7 columns</p>\n",
       "</div>"
      ],
      "text/plain": [
       "            Dataset     Seed Model  Window Index     Attack  Epsilon        AE\n",
       "0       Electricity     2210   CNN             0  No Attack     0.05 -0.110410\n",
       "1       Electricity     2210   CNN             1  No Attack     0.05 -0.127233\n",
       "2       Electricity     2210   CNN             2  No Attack     0.05 -0.002700\n",
       "3       Electricity     2210   CNN             3  No Attack     0.05 -0.005852\n",
       "4       Electricity     2210   CNN             4  No Attack     0.05 -0.138217\n",
       "...             ...      ...   ...           ...        ...      ...       ...\n",
       "271295          Oil  1111111   GRU            95   fullVITA     0.20 -0.007499\n",
       "271296          Oil  1111111   GRU            96   fullVITA     0.20 -0.004008\n",
       "271297          Oil  1111111   GRU            97   fullVITA     0.20 -0.005285\n",
       "271298          Oil  1111111   GRU            98   fullVITA     0.20 -0.008967\n",
       "271299          Oil  1111111   GRU            99   fullVITA     0.20 -0.005843\n",
       "\n",
       "[216000 rows x 7 columns]"
      ]
     },
     "execution_count": 21,
     "metadata": {},
     "output_type": "execute_result"
    }
   ],
   "source": [
    "nont_df_g"
   ]
  },
  {
   "cell_type": "code",
   "execution_count": 22,
   "id": "cff4f2c8",
   "metadata": {},
   "outputs": [
    {
     "data": {
      "text/plain": [
       "False"
      ]
     },
     "execution_count": 22,
     "metadata": {},
     "output_type": "execute_result"
    }
   ],
   "source": [
    "nont_df_g_all = copy.deepcopy(nont_df_g)\n",
    "\n",
    "nont_df_g_all = nont_df_g_all.pivot(index=['Dataset','Seed','Model','Epsilon','Window Index'], \n",
    "        columns=\"Attack\",\n",
    "        values=\"AE\")\n",
    "nont_df_g_all.isnull().values.any() "
   ]
  },
  {
   "cell_type": "code",
   "execution_count": 23,
   "id": "4c7fc9e1",
   "metadata": {},
   "outputs": [
    {
     "name": "stderr",
     "output_type": "stream",
     "text": [
      "D:\\Programming\\IDE\\Anaconda\\envs\\hons\\lib\\site-packages\\scipy\\stats\\morestats.py:1760: UserWarning: p-value may not be accurate for N > 5000.\n",
      "  warnings.warn(\"p-value may not be accurate for N > 5000.\")\n"
     ]
    },
    {
     "name": "stdout",
     "output_type": "stream",
     "text": [
      "RankResult(rankdf=\n",
      "           meanrank    median       mad  ci_lower  ci_upper effect_size  \\\n",
      "Attack                                                                    \n",
      "BIM        1.588792 -0.041301  0.037038 -0.046904 -0.036744         0.0   \n",
      "FGSM       1.809792 -0.040100  0.035775  -0.04545 -0.035809   -0.022245   \n",
      "fullVITA   3.365333 -0.037443  0.034452 -0.042492 -0.033228   -0.072747   \n",
      "5VITA      4.785500 -0.031231  0.028811 -0.034558  -0.02757   -0.204695   \n",
      "3VITA      5.442042 -0.029417  0.026974 -0.032806 -0.026341   -0.247392   \n",
      "1VITA      6.430417 -0.024329  0.021668 -0.026275 -0.022475    -0.37728   \n",
      "BRS        6.801833 -0.017487   0.01504 -0.018639 -0.016431    -0.56823   \n",
      "BR5V       7.250250 -0.015928   0.01336 -0.016934 -0.015147   -0.614684   \n",
      "No Attack  7.526042 -0.015090  0.012404 -0.015844 -0.014315   -0.640079   \n",
      "\n",
      "            magnitude  \n",
      "Attack                 \n",
      "BIM        negligible  \n",
      "FGSM       negligible  \n",
      "fullVITA   negligible  \n",
      "5VITA           small  \n",
      "3VITA           small  \n",
      "1VITA           small  \n",
      "BRS            medium  \n",
      "BR5V           medium  \n",
      "No Attack      medium  \n",
      "pvalue=0.0\n",
      "cd=0.07754343544031586\n",
      "omnibus=friedman\n",
      "posthoc=nemenyi\n",
      "all_normal=False\n",
      "pvals_shapiro=[0.0, 0.0, 0.0, 0.0, 0.0, 0.0, 0.0, 0.0, 0.0]\n",
      "homoscedastic=False\n",
      "pval_homogeneity=0.0\n",
      "homogeneity_test=levene\n",
      "alpha=0.05\n",
      "alpha_normality=0.005555555555555556\n",
      "num_samples=24000\n",
      "posterior_matrix=\n",
      "None\n",
      "decision_matrix=\n",
      "None\n",
      "rope=None\n",
      "rope_mode=None\n",
      "effect_size=akinshin_gamma)\n"
     ]
    }
   ],
   "source": [
    "untargeted_result_all = autorank.autorank(nont_df_g_all, alpha=0.05, verbose=False, order='ascending')\n",
    "print(untargeted_result_all)"
   ]
  },
  {
   "cell_type": "code",
   "execution_count": 24,
   "id": "f217bd2f",
   "metadata": {},
   "outputs": [
    {
     "data": {
      "image/png": "[encoded data removed]",
      "text/plain": [
       "<Figure size 432x147.6 with 1 Axes>"
      ]
     },
     "metadata": {},
     "output_type": "display_data"
    }
   ],
   "source": [
    "autorank.plot_stats(untargeted_result_all)\n",
    "#plt.title(\"the CD Diagram of the Untargeted Attack (All)\")\n",
    "plt.savefig(\"nont_cd_all.pdf\", bbox_inches='tight')\n",
    "plt.show()"
   ]
  },
  {
   "cell_type": "code",
   "execution_count": 25,
   "id": "33dd58be",
   "metadata": {},
   "outputs": [
    {
     "name": "stdout",
     "output_type": "stream",
     "text": [
      "False\n"
     ]
    },
    {
     "name": "stderr",
     "output_type": "stream",
     "text": [
      "D:\\Programming\\IDE\\Anaconda\\envs\\hons\\lib\\site-packages\\scipy\\stats\\morestats.py:1760: UserWarning: p-value may not be accurate for N > 5000.\n",
      "  warnings.warn(\"p-value may not be accurate for N > 5000.\")\n"
     ]
    },
    {
     "data": {
      "image/png": "[encoded data removed]",
      "text/plain": [
       "<Figure size 432x147.6 with 1 Axes>"
      ]
     },
     "metadata": {},
     "output_type": "display_data"
    }
   ],
   "source": [
    "nont_df_g_cnn = copy.deepcopy(nont_df_g).loc[nont_df_g['Model'] == \"CNN\"]\n",
    "\n",
    "nont_df_g_cnn = nont_df_g_cnn.pivot(index=['Dataset','Seed','Model','Epsilon','Window Index'], \n",
    "        columns=\"Attack\",\n",
    "        values=\"AE\")\n",
    "print(nont_df_g_cnn.isnull().values.any())\n",
    "untargeted_result_cnn = autorank.autorank(nont_df_g_cnn, alpha=0.05, verbose=False, order='ascending')\n",
    "\n",
    "autorank.plot_stats(untargeted_result_cnn)\n",
    "#plt.title(\"the CD Diagram of the Untargeted Attack (All)\")\n",
    "plt.savefig(\"nont_cd_cnn.pdf\", bbox_inches='tight')\n",
    "plt.show()"
   ]
  },
  {
   "cell_type": "code",
   "execution_count": 26,
   "id": "941f7c4d",
   "metadata": {},
   "outputs": [
    {
     "name": "stdout",
     "output_type": "stream",
     "text": [
      "False\n"
     ]
    },
    {
     "name": "stderr",
     "output_type": "stream",
     "text": [
      "D:\\Programming\\IDE\\Anaconda\\envs\\hons\\lib\\site-packages\\scipy\\stats\\morestats.py:1760: UserWarning: p-value may not be accurate for N > 5000.\n",
      "  warnings.warn(\"p-value may not be accurate for N > 5000.\")\n"
     ]
    },
    {
     "data": {
      "image/png": "[encoded data removed]",
      "text/plain": [
       "<Figure size 432x147.6 with 1 Axes>"
      ]
     },
     "metadata": {},
     "output_type": "display_data"
    }
   ],
   "source": [
    "nont_df_g_lstm = copy.deepcopy(nont_df_g).loc[nont_df_g['Model'] == \"LSTM\"]\n",
    "\n",
    "nont_df_g_lstm = nont_df_g_lstm.pivot(index=['Dataset','Seed','Model','Epsilon','Window Index'], \n",
    "        columns=\"Attack\",\n",
    "        values=\"AE\")\n",
    "print(nont_df_g_lstm.isnull().values.any())\n",
    "untargeted_result_lstm = autorank.autorank(nont_df_g_lstm, alpha=0.05, verbose=False, order='ascending')\n",
    "\n",
    "autorank.plot_stats(untargeted_result_lstm)\n",
    "#plt.title(\"the CD Diagram of the Untargeted Attack (All)\")\n",
    "plt.savefig(\"nont_cd_lstm.pdf\", bbox_inches='tight')\n",
    "plt.show()"
   ]
  },
  {
   "cell_type": "code",
   "execution_count": 27,
   "id": "3bdf8bb8",
   "metadata": {},
   "outputs": [
    {
     "name": "stdout",
     "output_type": "stream",
     "text": [
      "False\n"
     ]
    },
    {
     "name": "stderr",
     "output_type": "stream",
     "text": [
      "D:\\Programming\\IDE\\Anaconda\\envs\\hons\\lib\\site-packages\\scipy\\stats\\morestats.py:1760: UserWarning: p-value may not be accurate for N > 5000.\n",
      "  warnings.warn(\"p-value may not be accurate for N > 5000.\")\n"
     ]
    },
    {
     "data": {
      "image/png": "[encoded data removed]",
      "text/plain": [
       "<Figure size 432x147.6 with 1 Axes>"
      ]
     },
     "metadata": {},
     "output_type": "display_data"
    }
   ],
   "source": [
    "nont_df_g_gru = copy.deepcopy(nont_df_g).loc[nont_df_g['Model'] == \"GRU\"]\n",
    "\n",
    "nont_df_g_gru = nont_df_g_gru.pivot(index=['Dataset','Seed','Model','Epsilon','Window Index'], \n",
    "        columns=\"Attack\",\n",
    "        values=\"AE\")\n",
    "print(nont_df_g_gru.isnull().values.any())\n",
    "untargeted_result_gru = autorank.autorank(nont_df_g_gru, alpha=0.05, verbose=False, order='ascending')\n",
    "\n",
    "autorank.plot_stats(untargeted_result_gru)\n",
    "#plt.title(\"the CD Diagram of the Untargeted Attack (All)\")\n",
    "plt.savefig(\"nont_cd_gru.pdf\", bbox_inches='tight')\n",
    "plt.show()"
   ]
  },
  {
   "cell_type": "raw",
   "id": "33d00100",
   "metadata": {},
   "source": [
    "nont_df_g_5 = copy.deepcopy(nont_df_g)[nont_df_g['Epsilon']== 0.05] \n",
    "\n",
    "nont_df_g_5 = nont_df_g_5.pivot(index=['Dataset','Model','Epsilon','Window Index'], \n",
    "        columns=\"Attack\",\n",
    "        values=\"AE\")\n",
    "\n",
    "nont_df_g_10 = copy.deepcopy(nont_df_g)[nont_df_g['Epsilon']== 0.1] \n",
    "\n",
    "\n",
    "nont_df_g_10 = nont_df_g_10.pivot(index=['Dataset','Model','Epsilon','Window Index'], \n",
    "        columns=\"Attack\",\n",
    "        values=\"AE\")\n",
    "\n",
    "nont_df_g_20 = copy.deepcopy(nont_df_g)[nont_df_g['Epsilon']== 0.20] \n",
    "\n",
    "nont_df_g_20 = nont_df_g_20.pivot(index=['Dataset','Model','Epsilon','Window Index'], \n",
    "        columns=\"Attack\",\n",
    "        values=\"AE\")"
   ]
  },
  {
   "cell_type": "raw",
   "id": "a34dbcf4",
   "metadata": {},
   "source": [
    "untargeted_result_5 = autorank.autorank(nont_df_g_5, alpha=0.05, verbose=False, order='ascending')\n",
    "#print(untargeted_result_5 )"
   ]
  },
  {
   "cell_type": "raw",
   "id": "fe47cc95",
   "metadata": {},
   "source": [
    "autorank.plot_stats(untargeted_result_5)\n",
    "#plt.title(\"the CD Diagram of the Untargeted Attack (All)\")\n",
    "#plt.savefig(\"Repeated_Result_Figures\\\\Untargeted_All.png\")\n",
    "plt.show()"
   ]
  },
  {
   "cell_type": "raw",
   "id": "064287f8",
   "metadata": {},
   "source": [
    "untargeted_result_10 = autorank.autorank(nont_df_g_10, alpha=0.05, verbose=False, order='ascending')"
   ]
  },
  {
   "cell_type": "raw",
   "id": "b92e2323",
   "metadata": {},
   "source": [
    "autorank.plot_stats(untargeted_result_10)\n",
    "#plt.title(\"the CD Diagram of the Untargeted Attack (All)\")\n",
    "#plt.savefig(\"Repeated_Result_Figures\\\\Untargeted_All.png\")\n",
    "plt.show()"
   ]
  },
  {
   "cell_type": "raw",
   "id": "20c0b584",
   "metadata": {},
   "source": [
    "untargeted_result_20 = autorank.autorank(nont_df_g_20, alpha=0.05, verbose=False, order='ascending')\n",
    "print(untargeted_result_20 )"
   ]
  },
  {
   "cell_type": "raw",
   "id": "c4c2794d",
   "metadata": {},
   "source": [
    "autorank.plot_stats(untargeted_result_20)\n",
    "#plt.title(\"the CD Diagram of the Untargeted Attack (All)\")\n",
    "#plt.savefig(\"Repeated_Result_Figures\\\\Untargeted_All.png\")\n",
    "plt.show()"
   ]
  },
  {
   "cell_type": "code",
   "execution_count": 28,
   "id": "3806ee88",
   "metadata": {},
   "outputs": [
    {
     "data": {
      "text/plain": [
       "False"
      ]
     },
     "execution_count": 28,
     "metadata": {},
     "output_type": "execute_result"
    }
   ],
   "source": [
    "nont_df_g_models = copy.deepcopy(nont_df_g)\n",
    "nont_df_g_models = nont_df_g_models.drop(nont_df_g_models[nont_df_g_models.Attack == 'BRS'].index)\n",
    "nont_df_g_models = nont_df_g_models.drop(nont_df_g_models[nont_df_g_models.Attack == 'BR5V'].index)\n",
    "nont_df_g_models = nont_df_g_models.drop(nont_df_g_models[nont_df_g_models.Attack == '1VITA'].index)\n",
    "nont_df_g_models = nont_df_g_models.drop(nont_df_g_models[nont_df_g_models.Attack == '3VITA'].index)\n",
    "nont_df_g_models = nont_df_g_models.drop(nont_df_g_models[nont_df_g_models.Attack == '5VITA'].index)\n",
    "nont_df_g_models = nont_df_g_models.drop(nont_df_g_models[nont_df_g_models.Attack == 'FGSM'].index)\n",
    "nont_df_g_models = nont_df_g_models.drop(nont_df_g_models[nont_df_g_models.Attack == 'No Attack'].index)\n",
    "nont_df_g_models = nont_df_g_models.pivot(index=['Dataset','Seed','Model','Epsilon','Window Index'], \n",
    "        columns=\"Attack\",\n",
    "        values=\"AE\")\n",
    "nont_df_g_models.isnull().values.any() "
   ]
  },
  {
   "cell_type": "code",
   "execution_count": 29,
   "id": "fd22f5ee",
   "metadata": {},
   "outputs": [
    {
     "name": "stdout",
     "output_type": "stream",
     "text": [
      "RankResult(rankdf=\n",
      "          meanrank    median       mad  ci_lower  ci_upper effect_size  \\\n",
      "Attack                                                                   \n",
      "BIM       1.038833 -0.041301  0.037038 -0.045976  -0.03752         0.0   \n",
      "fullVITA  1.961167 -0.037443  0.034452 -0.041612 -0.034102   -0.072747   \n",
      "\n",
      "           magnitude  \n",
      "Attack                \n",
      "BIM       negligible  \n",
      "fullVITA  negligible  \n",
      "pvalue=0.0\n",
      "cd=None\n",
      "omnibus=wilcoxon\n",
      "posthoc=None\n",
      "all_normal=False\n",
      "pvals_shapiro=[0.0, 0.0]\n",
      "homoscedastic=True\n",
      "pval_homogeneity=0.05861966041462649\n",
      "homogeneity_test=levene\n",
      "alpha=0.05\n",
      "alpha_normality=0.025\n",
      "num_samples=24000\n",
      "posterior_matrix=\n",
      "None\n",
      "decision_matrix=\n",
      "None\n",
      "rope=None\n",
      "rope_mode=None\n",
      "effect_size=akinshin_gamma)\n"
     ]
    },
    {
     "name": "stderr",
     "output_type": "stream",
     "text": [
      "D:\\Programming\\IDE\\Anaconda\\envs\\hons\\lib\\site-packages\\scipy\\stats\\morestats.py:1760: UserWarning: p-value may not be accurate for N > 5000.\n",
      "  warnings.warn(\"p-value may not be accurate for N > 5000.\")\n"
     ]
    }
   ],
   "source": [
    "untargeted_result_models = autorank.autorank(nont_df_g_models, alpha=0.05, verbose=False, order='ascending')\n",
    "print(untargeted_result_models)"
   ]
  },
  {
   "cell_type": "code",
   "execution_count": 30,
   "id": "f9d1a989",
   "metadata": {},
   "outputs": [
    {
     "name": "stderr",
     "output_type": "stream",
     "text": [
      "D:\\Programming\\IDE\\Anaconda\\envs\\hons\\lib\\site-packages\\autorank\\autorank.py:333: UserWarning: No plot to visualize statistics for Wilcoxon test available. Doing nothing.\n",
      "  warnings.warn('No plot to visualize statistics for Wilcoxon test available. Doing nothing.')\n"
     ]
    },
    {
     "data": {
      "text/plain": [
       "<Figure size 432x288 with 0 Axes>"
      ]
     },
     "metadata": {},
     "output_type": "display_data"
    }
   ],
   "source": [
    "autorank.plot_stats(untargeted_result_models)\n",
    "plt.savefig(\"nont_cd_model.pdf\", bbox_inches='tight')\n",
    "plt.show()"
   ]
  },
  {
   "cell_type": "markdown",
   "id": "4c53deb9",
   "metadata": {},
   "source": [
    "### Non-targeted with Random Forest"
   ]
  },
  {
   "cell_type": "code",
   "execution_count": 31,
   "id": "8bad47fa",
   "metadata": {},
   "outputs": [
    {
     "name": "stderr",
     "output_type": "stream",
     "text": [
      "C:\\Users\\markc\\AppData\\Local\\Temp\\ipykernel_15536\\2220227857.py:2: SettingWithCopyWarning: \n",
      "A value is trying to be set on a copy of a slice from a DataFrame.\n",
      "Try using .loc[row_indexer,col_indexer] = value instead\n",
      "\n",
      "See the caveats in the documentation: https://pandas.pydata.org/pandas-docs/stable/user_guide/indexing.html#returning-a-view-versus-a-copy\n",
      "  df_nont_all4_no_base['Attacked AE'] = -df_nont_all4_no_base['Attacked AE']\n"
     ]
    }
   ],
   "source": [
    "df_nont_all4_no_base = df_nont_all4[df_nont_all4[\"Attack Name\"].isin(order_nont_anns[3:])]\n",
    "df_nont_all4_no_base['Attacked AE'] = -df_nont_all4_no_base['Attacked AE']\n",
    "# Get -AE to keep consistency with targeted\n",
    "\n",
    "df_nont_all4_no_base_grouped = df_nont_all4_no_base.groupby(['df', 'Model', 'Attack Name', 'Epsilon'], as_index=False)\n",
    "\n",
    "df_nont_all4_no_base_grouped = df_nont_all4_no_base_grouped.agg(\n",
    "    {'Total Perturbation':'mean', 'Max Perturbation':'mean', 'Attacked AE':'mean'})\n",
    "#df_grouped = df_grouped[~df_grouped['Attack Name'].isin(['RFGSM', 'BPM', 'BNM'])]"
   ]
  },
  {
   "cell_type": "code",
   "execution_count": 32,
   "id": "9fc97b27",
   "metadata": {},
   "outputs": [
    {
     "name": "stderr",
     "output_type": "stream",
     "text": [
      "D:\\Programming\\IDE\\Anaconda\\envs\\hons\\lib\\site-packages\\seaborn\\relational.py:657: VisibleDeprecationWarning: Creating an ndarray from ragged nested sequences (which is a list-or-tuple of lists-or-tuples-or ndarrays with different lengths or shapes) is deprecated. If you meant to do this, you must specify 'dtype=object' when creating the ndarray.\n",
      "  args = np.asarray(x), np.asarray(y), np.asarray(s), np.asarray(c)\n",
      "D:\\Programming\\IDE\\Anaconda\\envs\\hons\\lib\\site-packages\\seaborn\\relational.py:657: VisibleDeprecationWarning: Creating an ndarray from ragged nested sequences (which is a list-or-tuple of lists-or-tuples-or ndarrays with different lengths or shapes) is deprecated. If you meant to do this, you must specify 'dtype=object' when creating the ndarray.\n",
      "  args = np.asarray(x), np.asarray(y), np.asarray(s), np.asarray(c)\n",
      "D:\\Programming\\IDE\\Anaconda\\envs\\hons\\lib\\site-packages\\seaborn\\relational.py:657: VisibleDeprecationWarning: Creating an ndarray from ragged nested sequences (which is a list-or-tuple of lists-or-tuples-or ndarrays with different lengths or shapes) is deprecated. If you meant to do this, you must specify 'dtype=object' when creating the ndarray.\n",
      "  args = np.asarray(x), np.asarray(y), np.asarray(s), np.asarray(c)\n",
      "D:\\Programming\\IDE\\Anaconda\\envs\\hons\\lib\\site-packages\\seaborn\\relational.py:657: VisibleDeprecationWarning: Creating an ndarray from ragged nested sequences (which is a list-or-tuple of lists-or-tuples-or ndarrays with different lengths or shapes) is deprecated. If you meant to do this, you must specify 'dtype=object' when creating the ndarray.\n",
      "  args = np.asarray(x), np.asarray(y), np.asarray(s), np.asarray(c)\n",
      "D:\\Programming\\IDE\\Anaconda\\envs\\hons\\lib\\site-packages\\seaborn\\relational.py:657: VisibleDeprecationWarning: Creating an ndarray from ragged nested sequences (which is a list-or-tuple of lists-or-tuples-or ndarrays with different lengths or shapes) is deprecated. If you meant to do this, you must specify 'dtype=object' when creating the ndarray.\n",
      "  args = np.asarray(x), np.asarray(y), np.asarray(s), np.asarray(c)\n",
      "D:\\Programming\\IDE\\Anaconda\\envs\\hons\\lib\\site-packages\\seaborn\\relational.py:657: VisibleDeprecationWarning: Creating an ndarray from ragged nested sequences (which is a list-or-tuple of lists-or-tuples-or ndarrays with different lengths or shapes) is deprecated. If you meant to do this, you must specify 'dtype=object' when creating the ndarray.\n",
      "  args = np.asarray(x), np.asarray(y), np.asarray(s), np.asarray(c)\n",
      "D:\\Programming\\IDE\\Anaconda\\envs\\hons\\lib\\site-packages\\seaborn\\relational.py:657: VisibleDeprecationWarning: Creating an ndarray from ragged nested sequences (which is a list-or-tuple of lists-or-tuples-or ndarrays with different lengths or shapes) is deprecated. If you meant to do this, you must specify 'dtype=object' when creating the ndarray.\n",
      "  args = np.asarray(x), np.asarray(y), np.asarray(s), np.asarray(c)\n",
      "D:\\Programming\\IDE\\Anaconda\\envs\\hons\\lib\\site-packages\\seaborn\\relational.py:657: VisibleDeprecationWarning: Creating an ndarray from ragged nested sequences (which is a list-or-tuple of lists-or-tuples-or ndarrays with different lengths or shapes) is deprecated. If you meant to do this, you must specify 'dtype=object' when creating the ndarray.\n",
      "  args = np.asarray(x), np.asarray(y), np.asarray(s), np.asarray(c)\n",
      "D:\\Programming\\IDE\\Anaconda\\envs\\hons\\lib\\site-packages\\seaborn\\relational.py:657: VisibleDeprecationWarning: Creating an ndarray from ragged nested sequences (which is a list-or-tuple of lists-or-tuples-or ndarrays with different lengths or shapes) is deprecated. If you meant to do this, you must specify 'dtype=object' when creating the ndarray.\n",
      "  args = np.asarray(x), np.asarray(y), np.asarray(s), np.asarray(c)\n",
      "D:\\Programming\\IDE\\Anaconda\\envs\\hons\\lib\\site-packages\\seaborn\\relational.py:657: VisibleDeprecationWarning: Creating an ndarray from ragged nested sequences (which is a list-or-tuple of lists-or-tuples-or ndarrays with different lengths or shapes) is deprecated. If you meant to do this, you must specify 'dtype=object' when creating the ndarray.\n",
      "  args = np.asarray(x), np.asarray(y), np.asarray(s), np.asarray(c)\n",
      "D:\\Programming\\IDE\\Anaconda\\envs\\hons\\lib\\site-packages\\seaborn\\relational.py:657: VisibleDeprecationWarning: Creating an ndarray from ragged nested sequences (which is a list-or-tuple of lists-or-tuples-or ndarrays with different lengths or shapes) is deprecated. If you meant to do this, you must specify 'dtype=object' when creating the ndarray.\n",
      "  args = np.asarray(x), np.asarray(y), np.asarray(s), np.asarray(c)\n",
      "D:\\Programming\\IDE\\Anaconda\\envs\\hons\\lib\\site-packages\\seaborn\\relational.py:657: VisibleDeprecationWarning: Creating an ndarray from ragged nested sequences (which is a list-or-tuple of lists-or-tuples-or ndarrays with different lengths or shapes) is deprecated. If you meant to do this, you must specify 'dtype=object' when creating the ndarray.\n",
      "  args = np.asarray(x), np.asarray(y), np.asarray(s), np.asarray(c)\n"
     ]
    },
    {
     "data": {
      "image/png": "[encoded data removed]",
      "text/plain": [
       "<Figure size 720x720 with 16 Axes>"
      ]
     },
     "metadata": {
      "needs_background": "light"
     },
     "output_type": "display_data"
    }
   ],
   "source": [
    "f, ax = plt.subplots(4, 4, figsize=(10, 10), sharey=False, sharex=False)\n",
    "for i, m in enumerate(df_nont_all4_no_base_grouped['Epsilon'].unique()):\n",
    "    df_models = df_nont_all4_no_base_grouped.loc[df_nont_all4_no_base_grouped['Epsilon'] == m].copy()\n",
    "                            \n",
    "    for j, n in enumerate(df_nont_all4_no_base_grouped['Model'].unique()):\n",
    "        df = df_models.loc[df_models['Model'] == n].copy()\n",
    "        g = sns.scatterplot(palette=cdict, hue_order=order_nont_anns[3:], ax=ax[i, j], \n",
    "                            data=df, x='Total Perturbation', y='Attacked AE', hue='Attack Name', style=\"Attack Name\", style_order=df_nont_all4_no_base_grouped['Attack Name'].unique().tolist())\n",
    "        \n",
    "        x_range = g.get_xlim()[1] - g.get_xlim()[0]\n",
    "        y_range = g.get_ylim()[1] - g.get_ylim()[0]\n",
    "\n",
    "        g.axvline(x=g.get_xlim()[0]+x_range/2, color=\"black\", linestyle=\"--\")\n",
    "        g.axhline(y=g.get_ylim()[0]+y_range/2, color=\"black\", linestyle=\"--\")\n",
    "        g.text(g.get_xlim()[0]+0.6*x_range/4, g.get_ylim()[0]+y_range/4, \"LPGR\", fontsize=10)\n",
    "        g.text(g.get_xlim()[1]-1.45*x_range/4, g.get_ylim()[0]+y_range/4, \"HPGR\", fontsize=10)\n",
    "        g.text(g.get_xlim()[0]+0.6*x_range/4, g.get_ylim()[1]-y_range/4, \"LPBR\", fontsize=10)\n",
    "        g.text(g.get_xlim()[1]-1.45*x_range/4, g.get_ylim()[1]-y_range/4, \"HPBR\", fontsize=10)\n",
    "        \n",
    "        if i!=3: g.set(xlabel=None)\n",
    "        g.set(title=str(n)+\" Epsilon \"+str(m))\n",
    "        if j==0: \n",
    "            g.set(ylabel=\"-MAE to Ground Truth (↓)\")\n",
    "        else:\n",
    "            g.set(ylabel=None)\n",
    "        if i==3 and j==1: \n",
    "            g.legend(loc='upper center', bbox_to_anchor=(1.1, -0.25), frameon=False, ncol=8)\n",
    "        else:\n",
    "            g.legend_.remove()\n",
    "            \n",
    "plt.subplots_adjust(left=None, bottom=None, right=None, top=None, wspace=0.35, hspace=0.3)\n",
    "plt.savefig('non_total_perturbation_vs_MAE_group_by_epsilon_and_model.pdf', bbox_inches='tight')"
   ]
  },
  {
   "cell_type": "markdown",
   "id": "9f7622d7",
   "metadata": {},
   "source": [
    "## targeted Check"
   ]
  },
  {
   "cell_type": "code",
   "execution_count": 33,
   "id": "1b185950",
   "metadata": {},
   "outputs": [
    {
     "name": "stdout",
     "output_type": "stream",
     "text": [
      "Total number of csv result files for targeted experiments are 5440\n"
     ]
    }
   ],
   "source": [
    "t_d = {}\n",
    "total_count = 0\n",
    "for df in my_metadata[\"data\"]:\n",
    "    for seed in my_metadata[\"seeds\"]:\n",
    "        for eps in my_metadata[\"epsilons\"]:\n",
    "            for td in my_metadata[\"targets\"]:\n",
    "                for model in my_metadata[\"models\"]:\n",
    "                    if model == \"RF\":\n",
    "                        attacks = [\"NOATTACK\", \"BRS\", \"Targeted_BR5V\", \"Targeted_1VITA\", \"Targeted_3VITA\", \"Targeted_5VITA\", \"FULLVITA\"]\n",
    "                    else:\n",
    "                        attacks = [\"NOATTACK\", \"BRS\", \"Targeted_BR5V\", \"FGSM\", \"BIM\", \"Targeted_1VITA\", \"Targeted_3VITA\", \"Targeted_5VITA\", \"FULLVITA\"]\n",
    "                    for attack in attacks:\n",
    "                        rcsv = RequiredCSV(df, seed, eps, model, attack, True, td)\n",
    "                        total_count += 1\n",
    "                        t_d[str(rcsv)] = rcsv\n",
    "print(\"Total number of csv result files for targeted experiments are \" + str(total_count))"
   ]
  },
  {
   "cell_type": "code",
   "execution_count": 34,
   "id": "105aea59",
   "metadata": {},
   "outputs": [
    {
     "data": {
      "text/html": [
       "<div>\n",
       "<style scoped>\n",
       "    .dataframe tbody tr th:only-of-type {\n",
       "        vertical-align: middle;\n",
       "    }\n",
       "\n",
       "    .dataframe tbody tr th {\n",
       "        vertical-align: top;\n",
       "    }\n",
       "\n",
       "    .dataframe thead th {\n",
       "        text-align: right;\n",
       "    }\n",
       "</style>\n",
       "<table border=\"1\" class=\"dataframe\">\n",
       "  <thead>\n",
       "    <tr style=\"text-align: right;\">\n",
       "      <th></th>\n",
       "      <th>df</th>\n",
       "      <th>Seed</th>\n",
       "      <th>Model</th>\n",
       "      <th>Epsilon</th>\n",
       "      <th>Test Index</th>\n",
       "      <th>Attack Name</th>\n",
       "      <th>Attacked AE</th>\n",
       "      <th>Max Perturbation</th>\n",
       "      <th>Total Perturbation</th>\n",
       "      <th>Cost Time</th>\n",
       "    </tr>\n",
       "  </thead>\n",
       "  <tbody>\n",
       "    <tr>\n",
       "      <th>300</th>\n",
       "      <td>Electricity</td>\n",
       "      <td>2210</td>\n",
       "      <td>CNN</td>\n",
       "      <td>0.05</td>\n",
       "      <td>0</td>\n",
       "      <td>FGSM</td>\n",
       "      <td>-0.119490</td>\n",
       "      <td>0.022500</td>\n",
       "      <td>0.117606</td>\n",
       "      <td>0.018489</td>\n",
       "    </tr>\n",
       "    <tr>\n",
       "      <th>301</th>\n",
       "      <td>Electricity</td>\n",
       "      <td>2210</td>\n",
       "      <td>CNN</td>\n",
       "      <td>0.05</td>\n",
       "      <td>1</td>\n",
       "      <td>FGSM</td>\n",
       "      <td>-0.212591</td>\n",
       "      <td>0.022138</td>\n",
       "      <td>0.121702</td>\n",
       "      <td>0.004023</td>\n",
       "    </tr>\n",
       "    <tr>\n",
       "      <th>302</th>\n",
       "      <td>Electricity</td>\n",
       "      <td>2210</td>\n",
       "      <td>CNN</td>\n",
       "      <td>0.05</td>\n",
       "      <td>2</td>\n",
       "      <td>FGSM</td>\n",
       "      <td>-0.044431</td>\n",
       "      <td>0.014948</td>\n",
       "      <td>0.149579</td>\n",
       "      <td>0.003622</td>\n",
       "    </tr>\n",
       "    <tr>\n",
       "      <th>303</th>\n",
       "      <td>Electricity</td>\n",
       "      <td>2210</td>\n",
       "      <td>CNN</td>\n",
       "      <td>0.05</td>\n",
       "      <td>3</td>\n",
       "      <td>FGSM</td>\n",
       "      <td>-0.064609</td>\n",
       "      <td>0.022251</td>\n",
       "      <td>0.158120</td>\n",
       "      <td>0.003808</td>\n",
       "    </tr>\n",
       "    <tr>\n",
       "      <th>304</th>\n",
       "      <td>Electricity</td>\n",
       "      <td>2210</td>\n",
       "      <td>CNN</td>\n",
       "      <td>0.05</td>\n",
       "      <td>4</td>\n",
       "      <td>FGSM</td>\n",
       "      <td>-0.142171</td>\n",
       "      <td>0.019374</td>\n",
       "      <td>0.099195</td>\n",
       "      <td>0.003612</td>\n",
       "    </tr>\n",
       "    <tr>\n",
       "      <th>...</th>\n",
       "      <td>...</td>\n",
       "      <td>...</td>\n",
       "      <td>...</td>\n",
       "      <td>...</td>\n",
       "      <td>...</td>\n",
       "      <td>...</td>\n",
       "      <td>...</td>\n",
       "      <td>...</td>\n",
       "      <td>...</td>\n",
       "      <td>...</td>\n",
       "    </tr>\n",
       "    <tr>\n",
       "      <th>271995</th>\n",
       "      <td>Oil</td>\n",
       "      <td>1111111</td>\n",
       "      <td>RF</td>\n",
       "      <td>0.20</td>\n",
       "      <td>95</td>\n",
       "      <td>fullVITA</td>\n",
       "      <td>-0.007804</td>\n",
       "      <td>0.002892</td>\n",
       "      <td>0.054818</td>\n",
       "      <td>83.213634</td>\n",
       "    </tr>\n",
       "    <tr>\n",
       "      <th>271996</th>\n",
       "      <td>Oil</td>\n",
       "      <td>1111111</td>\n",
       "      <td>RF</td>\n",
       "      <td>0.20</td>\n",
       "      <td>96</td>\n",
       "      <td>fullVITA</td>\n",
       "      <td>-0.008238</td>\n",
       "      <td>0.001576</td>\n",
       "      <td>0.033144</td>\n",
       "      <td>70.966564</td>\n",
       "    </tr>\n",
       "    <tr>\n",
       "      <th>271997</th>\n",
       "      <td>Oil</td>\n",
       "      <td>1111111</td>\n",
       "      <td>RF</td>\n",
       "      <td>0.20</td>\n",
       "      <td>97</td>\n",
       "      <td>fullVITA</td>\n",
       "      <td>-0.014535</td>\n",
       "      <td>0.004898</td>\n",
       "      <td>0.074796</td>\n",
       "      <td>64.839766</td>\n",
       "    </tr>\n",
       "    <tr>\n",
       "      <th>271998</th>\n",
       "      <td>Oil</td>\n",
       "      <td>1111111</td>\n",
       "      <td>RF</td>\n",
       "      <td>0.20</td>\n",
       "      <td>98</td>\n",
       "      <td>fullVITA</td>\n",
       "      <td>-0.021739</td>\n",
       "      <td>0.006182</td>\n",
       "      <td>0.095866</td>\n",
       "      <td>40.785414</td>\n",
       "    </tr>\n",
       "    <tr>\n",
       "      <th>271999</th>\n",
       "      <td>Oil</td>\n",
       "      <td>1111111</td>\n",
       "      <td>RF</td>\n",
       "      <td>0.20</td>\n",
       "      <td>99</td>\n",
       "      <td>fullVITA</td>\n",
       "      <td>-0.006625</td>\n",
       "      <td>0.003357</td>\n",
       "      <td>0.055099</td>\n",
       "      <td>83.011726</td>\n",
       "    </tr>\n",
       "  </tbody>\n",
       "</table>\n",
       "<p>176000 rows × 10 columns</p>\n",
       "</div>"
      ],
      "text/plain": [
       "                 df     Seed Model  Epsilon  Test Index Attack Name  \\\n",
       "300     Electricity     2210   CNN     0.05           0        FGSM   \n",
       "301     Electricity     2210   CNN     0.05           1        FGSM   \n",
       "302     Electricity     2210   CNN     0.05           2        FGSM   \n",
       "303     Electricity     2210   CNN     0.05           3        FGSM   \n",
       "304     Electricity     2210   CNN     0.05           4        FGSM   \n",
       "...             ...      ...   ...      ...         ...         ...   \n",
       "271995          Oil  1111111    RF     0.20          95    fullVITA   \n",
       "271996          Oil  1111111    RF     0.20          96    fullVITA   \n",
       "271997          Oil  1111111    RF     0.20          97    fullVITA   \n",
       "271998          Oil  1111111    RF     0.20          98    fullVITA   \n",
       "271999          Oil  1111111    RF     0.20          99    fullVITA   \n",
       "\n",
       "        Attacked AE  Max Perturbation  Total Perturbation  Cost Time  \n",
       "300       -0.119490          0.022500            0.117606   0.018489  \n",
       "301       -0.212591          0.022138            0.121702   0.004023  \n",
       "302       -0.044431          0.014948            0.149579   0.003622  \n",
       "303       -0.064609          0.022251            0.158120   0.003808  \n",
       "304       -0.142171          0.019374            0.099195   0.003612  \n",
       "...             ...               ...                 ...        ...  \n",
       "271995    -0.007804          0.002892            0.054818  83.213634  \n",
       "271996    -0.008238          0.001576            0.033144  70.966564  \n",
       "271997    -0.014535          0.004898            0.074796  64.839766  \n",
       "271998    -0.021739          0.006182            0.095866  40.785414  \n",
       "271999    -0.006625          0.003357            0.055099  83.011726  \n",
       "\n",
       "[176000 rows x 10 columns]"
      ]
     },
     "execution_count": 34,
     "metadata": {},
     "output_type": "execute_result"
    }
   ],
   "source": [
    "df_nont_all4_no_base"
   ]
  },
  {
   "cell_type": "code",
   "execution_count": 35,
   "id": "e0f6061c",
   "metadata": {},
   "outputs": [],
   "source": [
    "for (root,dirs,files) in os.walk(PATH_TARE, topdown=True):\n",
    "    for file in (f for f in files if f.endswith(\".csv\")):\n",
    "        file_path = Path(root, file)\n",
    "        df = pd.read_csv(file_path, index_col=None, header=0)\n",
    "        if df.shape[0] == 100:\n",
    "            # Complete result\n",
    "            suffix_ind = -5\n",
    "            while file[suffix_ind] == \"1\":\n",
    "                suffix_ind -= 1\n",
    "            t_d[file[:suffix_ind+1]].count+=1\n",
    "            t_d[file[:suffix_ind+1]].all_paths.append(file_path)\n",
    "            # Append the existing file name, it can be modified to remove duplication"
   ]
  },
  {
   "cell_type": "raw",
   "id": "bb9ef8d5",
   "metadata": {},
   "source": [
    "# Generate targeted result check csv file\n",
    "ta_fl = [\"df_name\", \"seed\", \"eps\", \"model\", \"attack\", \"target_direction\", \"occurrence\", \"full_name\"]\n",
    "ta_path = os.path.join(PATH_ROOT, \"results\", \"targeted_check_result.csv\")\n",
    "create_empty_result_csv_file(ta_path, ta_fl)\n",
    "for k in t_d:\n",
    "    line_list = t_d[k].get_output_line_list()\n",
    "    append_result_to_csv_file(ta_path, line_list)"
   ]
  },
  {
   "cell_type": "markdown",
   "id": "5a2b9eb2",
   "metadata": {},
   "source": [
    "# Targeted"
   ]
  },
  {
   "cell_type": "code",
   "execution_count": 36,
   "id": "3a19ebef",
   "metadata": {},
   "outputs": [],
   "source": [
    "# order_nont = [\"No Attack\",\"BR\", \"1VITA\", \"3VITA\", \"5VITA\", \"FULLVITA\", \"FGSM\", \"BIM\"]\n",
    "# order_t_anns = [\"No Attack\", \"BRS\", \"1VITA\", \"3VITA\", \"5VITA\", \"fullVITA\", \"FGSM\", \"BIM\"]\n",
    "order_t_anns = [\"No Attack\",\"BR5V\", \"BRS\", \"1VITAt\", \"3VITAt\", \"5VITAt\", \"fullVITAt\", \"FGSMt\", \"BIMt\"]\n",
    "cdict_t = {\"1VITAt\": cdict[\"1VITA\"],\n",
    "           \"3VITAt\": cdict[\"3VITA\"],\n",
    "           \"5VITAt\": cdict[\"5VITA\"],\n",
    "           \"fullVITAt\": cdict[\"fullVITA\"],\n",
    "           \"FGSMt\": cdict[\"FGSM\"],\n",
    "           \"BIMt\": cdict[\"BIM\"],\n",
    "           \"BR5V\": cdict[\"BR5V\"],\n",
    "           \"BRS\": cdict[\"BRS\"],\n",
    "           \"No Attack\": cdict[\"No Attack\"]}\n",
    "cdict = cdict_t"
   ]
  },
  {
   "cell_type": "code",
   "execution_count": 37,
   "id": "be5ac550",
   "metadata": {},
   "outputs": [
    {
     "name": "stdout",
     "output_type": "stream",
     "text": [
      "Total number of csv result files for targeted experiments are 5440\n",
      "We currently have 5440\n"
     ]
    }
   ],
   "source": [
    "li = []\n",
    "result_count = 0\n",
    "for r in t_d:\n",
    "    curr_exp = t_d[r]\n",
    "    if curr_exp.count >= 1:\n",
    "        # if the valid csv file is larger than 1\n",
    "        file_path = curr_exp.all_paths[0]\n",
    "        # read the first valid result csv\n",
    "        df = pd.read_csv(file_path, index_col=None, header=0)\n",
    "        li.append(df)\n",
    "        result_count+=1\n",
    "\n",
    "df_t = pd.concat(li, axis=0, ignore_index=True)\n",
    "print(\"Total number of csv result files for targeted experiments are 5440\")\n",
    "print(\"We currently have\",result_count)"
   ]
  },
  {
   "cell_type": "code",
   "execution_count": 38,
   "id": "dbce55c8",
   "metadata": {},
   "outputs": [],
   "source": [
    "df_t.rename(columns = {'Max Per':'Max Perturbation', 'Sum Per':'Total Perturbation'}, inplace = True)\n",
    "df_t['Attack Name'] = df_t['Attack Name'].map(\n",
    "    {'NOATTACK': 'No Attack', 'Targeted_1VITA': '1VITAt', 'Targeted_3VITA': '3VITAt','Targeted_5VITA': '5VITAt','Targeted_fullVITA': 'fullVITAt','Targeted_FGSM': 'FGSMt','Targeted_BIM': 'BIMt','Targeted_BR5V':'BR5V','Targeted_BRS':'BRS'})\n"
   ]
  },
  {
   "cell_type": "code",
   "execution_count": 39,
   "id": "1d5048ff",
   "metadata": {},
   "outputs": [],
   "source": [
    "df_t_all4 = df_t[['df','Seed', 'Model','Epsilon','Target Direction', 'Test Index','Attack Name', 'Attacked AE', 'Max Perturbation', 'Total Perturbation', 'Cost Time']].copy()"
   ]
  },
  {
   "cell_type": "code",
   "execution_count": 40,
   "id": "a07e3226",
   "metadata": {},
   "outputs": [],
   "source": [
    "df_t_anns = df_t_all4[df_t_all4['Model'] != \"RF\"].copy()"
   ]
  },
  {
   "cell_type": "code",
   "execution_count": 41,
   "id": "1badb002",
   "metadata": {},
   "outputs": [],
   "source": [
    "df_t_anns_grouped = df_t_anns.groupby(['df', 'Model', 'Attack Name', 'Epsilon', 'Target Direction'], as_index=False)\n",
    "df_t_anns_grouped = df_t_anns_grouped.agg(\n",
    "    {'Total Perturbation':'mean', 'Max Perturbation':'mean', 'Attacked AE':'mean'})\n",
    "#df_grouped = df_grouped[~df_grouped['Attack Name'].isin(['RFGSM', 'BPM', 'BNM'])]"
   ]
  },
  {
   "cell_type": "code",
   "execution_count": 42,
   "id": "71ac1cda",
   "metadata": {},
   "outputs": [
    {
     "data": {
      "image/png": "[encoded data removed]",
      "text/plain": [
       "<Figure size 1080x216 with 4 Axes>"
      ]
     },
     "metadata": {
      "needs_background": "light"
     },
     "output_type": "display_data"
    }
   ],
   "source": [
    "import matplotlib.ticker as mtick\n",
    "f, ax = plt.subplots(1, 4, figsize=(15, 3), sharey=False)\n",
    "for i, ds in enumerate(all_d_names):\n",
    "    g = sns.barplot(palette=cdict, hue_order=order_t_anns, ax=ax[i], errwidth=1.5,\n",
    "                 data=df_t_anns_grouped.loc[df_t_anns_grouped['df'] == ds], hue='Attack Name', y='Attacked AE', x='Epsilon')\n",
    "    g.legend_.remove()\n",
    "    g.set(ylabel=\"MAE to Target (↓)\")\n",
    "    g.set(title=ds)\n",
    "    if i==2:\n",
    "        g.legend(loc='upper center', bbox_to_anchor=(-0.25, -0.2), frameon=False, ncol=9)\n",
    "    if i>0:\n",
    "        g.set(ylabel=None)\n",
    "plt.subplots_adjust(left=None, bottom=None, right=None, top=None, wspace=0.4, hspace=None)\n",
    "plt.savefig('tar_epsilon_vs_MAE_group_by_dataset.pdf', bbox_inches='tight')"
   ]
  },
  {
   "cell_type": "markdown",
   "id": "530d603a",
   "metadata": {},
   "source": [
    "f, ax = plt.subplots(5, 4, figsize=(10, 8), sharey=False, sharex=False)\n",
    "for j, d in enumerate(df_grouped['Dataset'].unique()):\n",
    "    for i, m in enumerate(['CNN', 'LSTM', 'RNN', 'GRU']):\n",
    "        print(i%2+j+i//2, i//2)\n",
    "        g = sns.scatterplot(palette=cdict, hue_order=order_t, ax=ax[j, i], \n",
    "                            data=df_grouped.loc[(df_grouped['Model'] == m) & (df_grouped['Dataset'] == d)], x='Total Perturbation', y='AE', hue='Attack')\n",
    "        x_range = g.get_xlim()[1] - g.get_xlim()[0]\n",
    "        y_range = g.get_ylim()[1] - g.get_ylim()[0]\n",
    "\n",
    "        g.axvline(x=g.get_xlim()[0]+x_range/2, color=\"black\", linestyle=\"--\")\n",
    "        g.axhline(y=g.get_ylim()[0]+y_range/2, color=\"black\", linestyle=\"--\")\n",
    "        g.text(g.get_xlim()[0]+0.8*x_range/4, g.get_ylim()[0]+y_range/4, \"LPLR\", fontsize=10)\n",
    "        g.text(g.get_xlim()[1]-1.2*x_range/4, g.get_ylim()[0]+y_range/4, \"HPLR\", fontsize=10)\n",
    "        g.text(g.get_xlim()[0]+0.8*x_range/4, g.get_ylim()[1]-y_range/4, \"LPHR\", fontsize=10)\n",
    "        g.text(g.get_xlim()[1]-1.2*x_range/4, g.get_ylim()[1]-y_range/4, \"HPHR\", fontsize=10)\n",
    "        if i%2==0: g.set(xticks=[], xlabel=None)\n",
    "        g.set(title=m)\n",
    "        g.set(ylabel=\"MAE\")\n",
    "        if i!=3 and j!= 5: \n",
    "            g.legend_.remove()\n",
    "        else:\n",
    "            g.legend(loc='upper center', bbox_to_anchor=(-0.18, -0.25), frameon=False, ncol=4)\n",
    "plt.savefig('nont_total_perturbation_vs_MAE_group_by_model.pdf', bbox_inches='tight')"
   ]
  },
  {
   "cell_type": "code",
   "execution_count": 43,
   "id": "b4a6cd25",
   "metadata": {},
   "outputs": [
    {
     "data": {
      "image/png": "[encoded data removed]",
      "text/plain": [
       "<Figure size 624.5x216 with 1 Axes>"
      ]
     },
     "metadata": {
      "needs_background": "light"
     },
     "output_type": "display_data"
    }
   ],
   "source": [
    "sns.catplot(kind='bar', height=3, aspect=2.5, palette=cdict, hue_order=order_t_anns,\n",
    "            data=df_t_anns_grouped, hue='Attack Name', y='Attacked AE', x='Target Direction')\n",
    "plt.ylabel(\"MAE\")\n",
    "plt.savefig('tar_target_vs_MAE.pdf', bbox_inches='tight')"
   ]
  },
  {
   "cell_type": "code",
   "execution_count": 44,
   "id": "2e7ae68d",
   "metadata": {},
   "outputs": [],
   "source": [
    "df_t_anns_no_base_grouped = df_t_anns_grouped[df_t_anns_grouped[\"Attack Name\"].isin(order_t_anns[3:])]"
   ]
  },
  {
   "cell_type": "code",
   "execution_count": 45,
   "id": "d102df95",
   "metadata": {},
   "outputs": [
    {
     "data": {
      "image/png": "[encoded data removed]",
      "text/plain": [
       "<Figure size 1080x216 with 2 Axes>"
      ]
     },
     "metadata": {
      "needs_background": "light"
     },
     "output_type": "display_data"
    }
   ],
   "source": [
    "import matplotlib.ticker as mtick\n",
    "f, ax = plt.subplots(1, 2, figsize=(15, 3), sharey=True)\n",
    "for i, ds in enumerate(df_t_anns_no_base_grouped['Target Direction'].unique()):\n",
    "    g = sns.barplot(palette=cdict, hue_order=order_t_anns[3:], ax=ax[i], errwidth=1.5,\n",
    "                 data=df_t_anns_no_base_grouped.loc[df_t_anns_no_base_grouped['Target Direction'] == ds], hue='Attack Name', y='Attacked AE', x='Epsilon')\n",
    "    g.legend_.remove()\n",
    "    #g.set(xlabel=None, xticks=[])\n",
    "    g.set(ylabel=\"MAE\")\n",
    "    g.set(title=ds)\n",
    "    if i==1:\n",
    "        g.legend(loc='upper center', bbox_to_anchor=(-0.03, -0.2), frameon=False, ncol=6)\n",
    "    if i>0:\n",
    "        g.set(ylabel=None)\n",
    "           \n",
    "plt.subplots_adjust(left=None, bottom=None, right=None, top=None, wspace=0.1, hspace=None)\n",
    "plt.savefig('tar_epsilon_vs_MAE_group_by_target.pdf', bbox_inches='tight')"
   ]
  },
  {
   "cell_type": "code",
   "execution_count": 46,
   "id": "4789f74b",
   "metadata": {},
   "outputs": [
    {
     "data": {
      "text/plain": [
       "<seaborn.axisgrid.FacetGrid at 0x1bc958ecf70>"
      ]
     },
     "execution_count": 46,
     "metadata": {},
     "output_type": "execute_result"
    },
    {
     "data": {
      "image/png": "[encoded data removed]",
      "text/plain": [
       "<Figure size 984.5x360 with 1 Axes>"
      ]
     },
     "metadata": {
      "needs_background": "light"
     },
     "output_type": "display_data"
    }
   ],
   "source": [
    "sns.catplot(kind='bar', aspect=2.5, palette=cdict, hue_order=order_t_anns,\n",
    "            data=df_t_anns_grouped, hue='Attack Name', y='Attacked AE', x='Epsilon')"
   ]
  },
  {
   "cell_type": "markdown",
   "id": "d64319bf",
   "metadata": {},
   "source": [
    "## Tar CD plots"
   ]
  },
  {
   "cell_type": "code",
   "execution_count": 47,
   "id": "15c60487",
   "metadata": {},
   "outputs": [
    {
     "data": {
      "text/html": [
       "<div>\n",
       "<style scoped>\n",
       "    .dataframe tbody tr th:only-of-type {\n",
       "        vertical-align: middle;\n",
       "    }\n",
       "\n",
       "    .dataframe tbody tr th {\n",
       "        vertical-align: top;\n",
       "    }\n",
       "\n",
       "    .dataframe thead th {\n",
       "        text-align: right;\n",
       "    }\n",
       "</style>\n",
       "<table border=\"1\" class=\"dataframe\">\n",
       "  <thead>\n",
       "    <tr style=\"text-align: right;\">\n",
       "      <th></th>\n",
       "      <th>df</th>\n",
       "      <th>Model</th>\n",
       "      <th>Attack Name</th>\n",
       "      <th>Epsilon</th>\n",
       "      <th>Target Direction</th>\n",
       "      <th>Total Perturbation</th>\n",
       "      <th>Max Perturbation</th>\n",
       "      <th>Attacked AE</th>\n",
       "    </tr>\n",
       "  </thead>\n",
       "  <tbody>\n",
       "    <tr>\n",
       "      <th>0</th>\n",
       "      <td>CNYExch</td>\n",
       "      <td>CNN</td>\n",
       "      <td>1VITAt</td>\n",
       "      <td>0.05</td>\n",
       "      <td>Negative</td>\n",
       "      <td>0.000762</td>\n",
       "      <td>0.000762</td>\n",
       "      <td>0.100857</td>\n",
       "    </tr>\n",
       "    <tr>\n",
       "      <th>1</th>\n",
       "      <td>CNYExch</td>\n",
       "      <td>CNN</td>\n",
       "      <td>1VITAt</td>\n",
       "      <td>0.05</td>\n",
       "      <td>Positive</td>\n",
       "      <td>0.000762</td>\n",
       "      <td>0.000762</td>\n",
       "      <td>0.100877</td>\n",
       "    </tr>\n",
       "    <tr>\n",
       "      <th>2</th>\n",
       "      <td>CNYExch</td>\n",
       "      <td>CNN</td>\n",
       "      <td>1VITAt</td>\n",
       "      <td>0.10</td>\n",
       "      <td>Negative</td>\n",
       "      <td>0.001791</td>\n",
       "      <td>0.001791</td>\n",
       "      <td>0.100733</td>\n",
       "    </tr>\n",
       "    <tr>\n",
       "      <th>3</th>\n",
       "      <td>CNYExch</td>\n",
       "      <td>CNN</td>\n",
       "      <td>1VITAt</td>\n",
       "      <td>0.10</td>\n",
       "      <td>Positive</td>\n",
       "      <td>0.001810</td>\n",
       "      <td>0.001810</td>\n",
       "      <td>0.100745</td>\n",
       "    </tr>\n",
       "    <tr>\n",
       "      <th>4</th>\n",
       "      <td>CNYExch</td>\n",
       "      <td>CNN</td>\n",
       "      <td>1VITAt</td>\n",
       "      <td>0.15</td>\n",
       "      <td>Negative</td>\n",
       "      <td>0.002927</td>\n",
       "      <td>0.002927</td>\n",
       "      <td>0.100567</td>\n",
       "    </tr>\n",
       "    <tr>\n",
       "      <th>...</th>\n",
       "      <td>...</td>\n",
       "      <td>...</td>\n",
       "      <td>...</td>\n",
       "      <td>...</td>\n",
       "      <td>...</td>\n",
       "      <td>...</td>\n",
       "      <td>...</td>\n",
       "      <td>...</td>\n",
       "    </tr>\n",
       "    <tr>\n",
       "      <th>859</th>\n",
       "      <td>Oil</td>\n",
       "      <td>LSTM</td>\n",
       "      <td>fullVITAt</td>\n",
       "      <td>0.10</td>\n",
       "      <td>Positive</td>\n",
       "      <td>0.062206</td>\n",
       "      <td>0.005995</td>\n",
       "      <td>0.102015</td>\n",
       "    </tr>\n",
       "    <tr>\n",
       "      <th>860</th>\n",
       "      <td>Oil</td>\n",
       "      <td>LSTM</td>\n",
       "      <td>fullVITAt</td>\n",
       "      <td>0.15</td>\n",
       "      <td>Negative</td>\n",
       "      <td>0.096009</td>\n",
       "      <td>0.009005</td>\n",
       "      <td>0.101267</td>\n",
       "    </tr>\n",
       "    <tr>\n",
       "      <th>861</th>\n",
       "      <td>Oil</td>\n",
       "      <td>LSTM</td>\n",
       "      <td>fullVITAt</td>\n",
       "      <td>0.15</td>\n",
       "      <td>Positive</td>\n",
       "      <td>0.094721</td>\n",
       "      <td>0.008788</td>\n",
       "      <td>0.101345</td>\n",
       "    </tr>\n",
       "    <tr>\n",
       "      <th>862</th>\n",
       "      <td>Oil</td>\n",
       "      <td>LSTM</td>\n",
       "      <td>fullVITAt</td>\n",
       "      <td>0.20</td>\n",
       "      <td>Negative</td>\n",
       "      <td>0.127776</td>\n",
       "      <td>0.012019</td>\n",
       "      <td>0.100504</td>\n",
       "    </tr>\n",
       "    <tr>\n",
       "      <th>863</th>\n",
       "      <td>Oil</td>\n",
       "      <td>LSTM</td>\n",
       "      <td>fullVITAt</td>\n",
       "      <td>0.20</td>\n",
       "      <td>Positive</td>\n",
       "      <td>0.128329</td>\n",
       "      <td>0.011911</td>\n",
       "      <td>0.100403</td>\n",
       "    </tr>\n",
       "  </tbody>\n",
       "</table>\n",
       "<p>864 rows × 8 columns</p>\n",
       "</div>"
      ],
      "text/plain": [
       "          df Model Attack Name  Epsilon Target Direction  Total Perturbation  \\\n",
       "0    CNYExch   CNN      1VITAt     0.05         Negative            0.000762   \n",
       "1    CNYExch   CNN      1VITAt     0.05         Positive            0.000762   \n",
       "2    CNYExch   CNN      1VITAt     0.10         Negative            0.001791   \n",
       "3    CNYExch   CNN      1VITAt     0.10         Positive            0.001810   \n",
       "4    CNYExch   CNN      1VITAt     0.15         Negative            0.002927   \n",
       "..       ...   ...         ...      ...              ...                 ...   \n",
       "859      Oil  LSTM   fullVITAt     0.10         Positive            0.062206   \n",
       "860      Oil  LSTM   fullVITAt     0.15         Negative            0.096009   \n",
       "861      Oil  LSTM   fullVITAt     0.15         Positive            0.094721   \n",
       "862      Oil  LSTM   fullVITAt     0.20         Negative            0.127776   \n",
       "863      Oil  LSTM   fullVITAt     0.20         Positive            0.128329   \n",
       "\n",
       "     Max Perturbation  Attacked AE  \n",
       "0            0.000762     0.100857  \n",
       "1            0.000762     0.100877  \n",
       "2            0.001791     0.100733  \n",
       "3            0.001810     0.100745  \n",
       "4            0.002927     0.100567  \n",
       "..                ...          ...  \n",
       "859          0.005995     0.102015  \n",
       "860          0.009005     0.101267  \n",
       "861          0.008788     0.101345  \n",
       "862          0.012019     0.100504  \n",
       "863          0.011911     0.100403  \n",
       "\n",
       "[864 rows x 8 columns]"
      ]
     },
     "execution_count": 47,
     "metadata": {},
     "output_type": "execute_result"
    }
   ],
   "source": [
    "df_t_anns_grouped"
   ]
  },
  {
   "cell_type": "code",
   "execution_count": 48,
   "id": "b6be9683",
   "metadata": {},
   "outputs": [
    {
     "data": {
      "text/html": [
       "<div>\n",
       "<style scoped>\n",
       "    .dataframe tbody tr th:only-of-type {\n",
       "        vertical-align: middle;\n",
       "    }\n",
       "\n",
       "    .dataframe tbody tr th {\n",
       "        vertical-align: top;\n",
       "    }\n",
       "\n",
       "    .dataframe thead th {\n",
       "        text-align: right;\n",
       "    }\n",
       "</style>\n",
       "<table border=\"1\" class=\"dataframe\">\n",
       "  <thead>\n",
       "    <tr style=\"text-align: right;\">\n",
       "      <th></th>\n",
       "      <th>df</th>\n",
       "      <th>Seed</th>\n",
       "      <th>Model</th>\n",
       "      <th>Epsilon</th>\n",
       "      <th>Target Direction</th>\n",
       "      <th>Test Index</th>\n",
       "      <th>Attack Name</th>\n",
       "      <th>Attacked AE</th>\n",
       "      <th>Max Perturbation</th>\n",
       "      <th>Total Perturbation</th>\n",
       "      <th>Cost Time</th>\n",
       "    </tr>\n",
       "  </thead>\n",
       "  <tbody>\n",
       "    <tr>\n",
       "      <th>0</th>\n",
       "      <td>Electricity</td>\n",
       "      <td>2210</td>\n",
       "      <td>CNN</td>\n",
       "      <td>0.05</td>\n",
       "      <td>Positive</td>\n",
       "      <td>0</td>\n",
       "      <td>No Attack</td>\n",
       "      <td>0.101838</td>\n",
       "      <td>0.000000</td>\n",
       "      <td>0.000000</td>\n",
       "      <td>0.000001</td>\n",
       "    </tr>\n",
       "    <tr>\n",
       "      <th>1</th>\n",
       "      <td>Electricity</td>\n",
       "      <td>2210</td>\n",
       "      <td>CNN</td>\n",
       "      <td>0.05</td>\n",
       "      <td>Positive</td>\n",
       "      <td>1</td>\n",
       "      <td>No Attack</td>\n",
       "      <td>0.101925</td>\n",
       "      <td>0.000000</td>\n",
       "      <td>0.000000</td>\n",
       "      <td>0.000005</td>\n",
       "    </tr>\n",
       "    <tr>\n",
       "      <th>2</th>\n",
       "      <td>Electricity</td>\n",
       "      <td>2210</td>\n",
       "      <td>CNN</td>\n",
       "      <td>0.05</td>\n",
       "      <td>Positive</td>\n",
       "      <td>2</td>\n",
       "      <td>No Attack</td>\n",
       "      <td>0.100922</td>\n",
       "      <td>0.000000</td>\n",
       "      <td>0.000000</td>\n",
       "      <td>0.000004</td>\n",
       "    </tr>\n",
       "    <tr>\n",
       "      <th>3</th>\n",
       "      <td>Electricity</td>\n",
       "      <td>2210</td>\n",
       "      <td>CNN</td>\n",
       "      <td>0.05</td>\n",
       "      <td>Positive</td>\n",
       "      <td>3</td>\n",
       "      <td>No Attack</td>\n",
       "      <td>0.101889</td>\n",
       "      <td>0.000000</td>\n",
       "      <td>0.000000</td>\n",
       "      <td>0.000004</td>\n",
       "    </tr>\n",
       "    <tr>\n",
       "      <th>4</th>\n",
       "      <td>Electricity</td>\n",
       "      <td>2210</td>\n",
       "      <td>CNN</td>\n",
       "      <td>0.05</td>\n",
       "      <td>Positive</td>\n",
       "      <td>4</td>\n",
       "      <td>No Attack</td>\n",
       "      <td>0.102438</td>\n",
       "      <td>0.000000</td>\n",
       "      <td>0.000000</td>\n",
       "      <td>0.000015</td>\n",
       "    </tr>\n",
       "    <tr>\n",
       "      <th>...</th>\n",
       "      <td>...</td>\n",
       "      <td>...</td>\n",
       "      <td>...</td>\n",
       "      <td>...</td>\n",
       "      <td>...</td>\n",
       "      <td>...</td>\n",
       "      <td>...</td>\n",
       "      <td>...</td>\n",
       "      <td>...</td>\n",
       "      <td>...</td>\n",
       "      <td>...</td>\n",
       "    </tr>\n",
       "    <tr>\n",
       "      <th>543295</th>\n",
       "      <td>Oil</td>\n",
       "      <td>1111111</td>\n",
       "      <td>GRU</td>\n",
       "      <td>0.20</td>\n",
       "      <td>Negative</td>\n",
       "      <td>95</td>\n",
       "      <td>fullVITAt</td>\n",
       "      <td>0.102741</td>\n",
       "      <td>0.002903</td>\n",
       "      <td>0.055521</td>\n",
       "      <td>0.831343</td>\n",
       "    </tr>\n",
       "    <tr>\n",
       "      <th>543296</th>\n",
       "      <td>Oil</td>\n",
       "      <td>1111111</td>\n",
       "      <td>GRU</td>\n",
       "      <td>0.20</td>\n",
       "      <td>Negative</td>\n",
       "      <td>96</td>\n",
       "      <td>fullVITAt</td>\n",
       "      <td>0.102849</td>\n",
       "      <td>0.001626</td>\n",
       "      <td>0.029471</td>\n",
       "      <td>4.205502</td>\n",
       "    </tr>\n",
       "    <tr>\n",
       "      <th>543297</th>\n",
       "      <td>Oil</td>\n",
       "      <td>1111111</td>\n",
       "      <td>GRU</td>\n",
       "      <td>0.20</td>\n",
       "      <td>Negative</td>\n",
       "      <td>97</td>\n",
       "      <td>fullVITAt</td>\n",
       "      <td>0.105170</td>\n",
       "      <td>0.005270</td>\n",
       "      <td>0.070274</td>\n",
       "      <td>188.870213</td>\n",
       "    </tr>\n",
       "    <tr>\n",
       "      <th>543298</th>\n",
       "      <td>Oil</td>\n",
       "      <td>1111111</td>\n",
       "      <td>GRU</td>\n",
       "      <td>0.20</td>\n",
       "      <td>Negative</td>\n",
       "      <td>98</td>\n",
       "      <td>fullVITAt</td>\n",
       "      <td>0.101597</td>\n",
       "      <td>0.005518</td>\n",
       "      <td>0.112222</td>\n",
       "      <td>702.146734</td>\n",
       "    </tr>\n",
       "    <tr>\n",
       "      <th>543299</th>\n",
       "      <td>Oil</td>\n",
       "      <td>1111111</td>\n",
       "      <td>GRU</td>\n",
       "      <td>0.20</td>\n",
       "      <td>Negative</td>\n",
       "      <td>99</td>\n",
       "      <td>fullVITAt</td>\n",
       "      <td>0.103127</td>\n",
       "      <td>0.002756</td>\n",
       "      <td>0.051014</td>\n",
       "      <td>18.808654</td>\n",
       "    </tr>\n",
       "  </tbody>\n",
       "</table>\n",
       "<p>432000 rows × 11 columns</p>\n",
       "</div>"
      ],
      "text/plain": [
       "                 df     Seed Model  Epsilon Target Direction  Test Index  \\\n",
       "0       Electricity     2210   CNN     0.05         Positive           0   \n",
       "1       Electricity     2210   CNN     0.05         Positive           1   \n",
       "2       Electricity     2210   CNN     0.05         Positive           2   \n",
       "3       Electricity     2210   CNN     0.05         Positive           3   \n",
       "4       Electricity     2210   CNN     0.05         Positive           4   \n",
       "...             ...      ...   ...      ...              ...         ...   \n",
       "543295          Oil  1111111   GRU     0.20         Negative          95   \n",
       "543296          Oil  1111111   GRU     0.20         Negative          96   \n",
       "543297          Oil  1111111   GRU     0.20         Negative          97   \n",
       "543298          Oil  1111111   GRU     0.20         Negative          98   \n",
       "543299          Oil  1111111   GRU     0.20         Negative          99   \n",
       "\n",
       "       Attack Name  Attacked AE  Max Perturbation  Total Perturbation  \\\n",
       "0        No Attack     0.101838          0.000000            0.000000   \n",
       "1        No Attack     0.101925          0.000000            0.000000   \n",
       "2        No Attack     0.100922          0.000000            0.000000   \n",
       "3        No Attack     0.101889          0.000000            0.000000   \n",
       "4        No Attack     0.102438          0.000000            0.000000   \n",
       "...            ...          ...               ...                 ...   \n",
       "543295   fullVITAt     0.102741          0.002903            0.055521   \n",
       "543296   fullVITAt     0.102849          0.001626            0.029471   \n",
       "543297   fullVITAt     0.105170          0.005270            0.070274   \n",
       "543298   fullVITAt     0.101597          0.005518            0.112222   \n",
       "543299   fullVITAt     0.103127          0.002756            0.051014   \n",
       "\n",
       "         Cost Time  \n",
       "0         0.000001  \n",
       "1         0.000005  \n",
       "2         0.000004  \n",
       "3         0.000004  \n",
       "4         0.000015  \n",
       "...            ...  \n",
       "543295    0.831343  \n",
       "543296    4.205502  \n",
       "543297  188.870213  \n",
       "543298  702.146734  \n",
       "543299   18.808654  \n",
       "\n",
       "[432000 rows x 11 columns]"
      ]
     },
     "execution_count": 48,
     "metadata": {},
     "output_type": "execute_result"
    }
   ],
   "source": [
    "df_t_anns"
   ]
  },
  {
   "cell_type": "code",
   "execution_count": 49,
   "id": "221f229a",
   "metadata": {},
   "outputs": [],
   "source": [
    "t_df_g = copy.deepcopy(df_t_anns[[\"df\", \"Seed\", \"Model\",\"Test Index\", \"Attack Name\", \"Epsilon\", \"Target Direction\", \"Attacked AE\"]])\n",
    "t_df_g.columns = ['Dataset','Seed', 'Model', 'Window Index', 'Attack', 'Epsilon', 'Target', 'AE']"
   ]
  },
  {
   "cell_type": "code",
   "execution_count": 50,
   "id": "e9917686",
   "metadata": {},
   "outputs": [
    {
     "data": {
      "text/plain": [
       "False"
      ]
     },
     "execution_count": 50,
     "metadata": {},
     "output_type": "execute_result"
    }
   ],
   "source": [
    "t_df_g_all = copy.deepcopy(t_df_g)\n",
    "\n",
    "t_df_g_all = t_df_g_all.pivot(index=['Dataset','Seed','Model','Epsilon','Window Index', 'Target'], \n",
    "        columns=\"Attack\",\n",
    "        values=\"AE\")\n",
    "t_df_g_all.isnull().values.any() "
   ]
  },
  {
   "cell_type": "code",
   "execution_count": 51,
   "id": "e9d43683",
   "metadata": {},
   "outputs": [
    {
     "name": "stderr",
     "output_type": "stream",
     "text": [
      "D:\\Programming\\IDE\\Anaconda\\envs\\hons\\lib\\site-packages\\scipy\\stats\\morestats.py:1760: UserWarning: p-value may not be accurate for N > 5000.\n",
      "  warnings.warn(\"p-value may not be accurate for N > 5000.\")\n"
     ]
    },
    {
     "name": "stdout",
     "output_type": "stream",
     "text": [
      "RankResult(rankdf=\n",
      "           meanrank    median       mad  ci_lower  ci_upper effect_size  \\\n",
      "Attack                                                                    \n",
      "BIMt       1.609708  0.091321  0.011311  0.090379  0.092174         0.0   \n",
      "FGSMt      2.320750  0.094446  0.008585  0.093909  0.094917   -0.209899   \n",
      "fullVITAt  3.525812  0.096621  0.007751  0.095862  0.097236   -0.368671   \n",
      "5VITAt     4.844313  0.099709  0.005002  0.099541  0.099844   -0.646971   \n",
      "3VITAt     5.339437  0.099922  0.004768  0.099804  0.100029   -0.668409   \n",
      "1VITAt     6.222667  0.100345  0.003939  0.100278  0.100421   -0.718731   \n",
      "BRS        6.830563  0.103014  0.003256  0.102921  0.103098   -0.947652   \n",
      "BR5V       7.056250  0.103108  0.002532  0.103032  0.103178   -0.970021   \n",
      "No Attack  7.250500  0.103398  0.001794  0.103342  0.103459   -1.005933   \n",
      "\n",
      "            magnitude  \n",
      "Attack                 \n",
      "BIMt       negligible  \n",
      "FGSMt           small  \n",
      "fullVITAt       small  \n",
      "5VITAt         medium  \n",
      "3VITAt         medium  \n",
      "1VITAt         medium  \n",
      "BRS             large  \n",
      "BR5V            large  \n",
      "No Attack       large  \n",
      "pvalue=0.0\n",
      "cd=0.0548314890363486\n",
      "omnibus=friedman\n",
      "posthoc=nemenyi\n",
      "all_normal=False\n",
      "pvals_shapiro=[0.0, 0.0, 0.0, 0.0, 0.0, 0.0, 0.0, 0.0, 0.0]\n",
      "homoscedastic=False\n",
      "pval_homogeneity=0.0\n",
      "homogeneity_test=levene\n",
      "alpha=0.05\n",
      "alpha_normality=0.005555555555555556\n",
      "num_samples=48000\n",
      "posterior_matrix=\n",
      "None\n",
      "decision_matrix=\n",
      "None\n",
      "rope=None\n",
      "rope_mode=None\n",
      "effect_size=akinshin_gamma)\n"
     ]
    }
   ],
   "source": [
    "targeted_result_all = autorank.autorank(t_df_g_all, alpha=0.05, verbose=False, order='ascending')\n",
    "print(targeted_result_all)"
   ]
  },
  {
   "cell_type": "code",
   "execution_count": 52,
   "id": "56442899",
   "metadata": {},
   "outputs": [
    {
     "data": {
      "image/png": "[encoded data removed]",
      "text/plain": [
       "<Figure size 432x147.6 with 1 Axes>"
      ]
     },
     "metadata": {},
     "output_type": "display_data"
    }
   ],
   "source": [
    "autorank.plot_stats(targeted_result_all)\n",
    "#plt.title(\"the CD Diagram of the Untargeted Attack (All)\")\n",
    "plt.savefig(\"tar_cd_all.pdf\", bbox_inches='tight')\n",
    "plt.show()"
   ]
  },
  {
   "cell_type": "code",
   "execution_count": 53,
   "id": "fd006fd7",
   "metadata": {},
   "outputs": [
    {
     "name": "stdout",
     "output_type": "stream",
     "text": [
      "False\n"
     ]
    },
    {
     "name": "stderr",
     "output_type": "stream",
     "text": [
      "D:\\Programming\\IDE\\Anaconda\\envs\\hons\\lib\\site-packages\\scipy\\stats\\morestats.py:1760: UserWarning: p-value may not be accurate for N > 5000.\n",
      "  warnings.warn(\"p-value may not be accurate for N > 5000.\")\n"
     ]
    },
    {
     "data": {
      "image/png": "[encoded data removed]",
      "text/plain": [
       "<Figure size 432x147.6 with 1 Axes>"
      ]
     },
     "metadata": {},
     "output_type": "display_data"
    }
   ],
   "source": [
    "t_df_g_cnn = copy.deepcopy(t_df_g).loc[t_df_g['Model'] == \"CNN\"]\n",
    "\n",
    "t_df_g_cnn = t_df_g_cnn.pivot(index=['Dataset','Seed','Model','Epsilon','Window Index', 'Target'], \n",
    "        columns=\"Attack\",\n",
    "        values=\"AE\")\n",
    "print(t_df_g_cnn.isnull().values.any() )\n",
    "\n",
    "targeted_result_cnn = autorank.autorank(t_df_g_cnn, alpha=0.05, verbose=False, order='ascending')\n",
    "\n",
    "autorank.plot_stats(targeted_result_cnn)\n",
    "#plt.title(\"the CD Diagram of the Untargeted Attack (cnn)\")\n",
    "plt.savefig(\"tar_cd_cnn.pdf\", bbox_inches='tight')\n",
    "plt.show()"
   ]
  },
  {
   "cell_type": "code",
   "execution_count": 54,
   "id": "a977a80f",
   "metadata": {},
   "outputs": [
    {
     "name": "stdout",
     "output_type": "stream",
     "text": [
      "False\n"
     ]
    },
    {
     "name": "stderr",
     "output_type": "stream",
     "text": [
      "D:\\Programming\\IDE\\Anaconda\\envs\\hons\\lib\\site-packages\\scipy\\stats\\morestats.py:1760: UserWarning: p-value may not be accurate for N > 5000.\n",
      "  warnings.warn(\"p-value may not be accurate for N > 5000.\")\n"
     ]
    },
    {
     "data": {
      "image/png": "[encoded data removed]",
      "text/plain": [
       "<Figure size 432x147.6 with 1 Axes>"
      ]
     },
     "metadata": {},
     "output_type": "display_data"
    }
   ],
   "source": [
    "t_df_g_lstm = copy.deepcopy(t_df_g).loc[t_df_g['Model'] == \"LSTM\"]\n",
    "\n",
    "t_df_g_lstm = t_df_g_lstm.pivot(index=['Dataset','Seed','Model','Epsilon','Window Index', 'Target'], \n",
    "        columns=\"Attack\",\n",
    "        values=\"AE\")\n",
    "print(t_df_g_lstm.isnull().values.any() )\n",
    "\n",
    "targeted_result_lstm = autorank.autorank(t_df_g_lstm, alpha=0.05, verbose=False, order='ascending')\n",
    "\n",
    "autorank.plot_stats(targeted_result_lstm)\n",
    "#plt.title(\"the CD Diagram of the Untargeted Attack (lstm)\")\n",
    "plt.savefig(\"tar_cd_lstm.pdf\", bbox_inches='tight')\n",
    "plt.show()"
   ]
  },
  {
   "cell_type": "code",
   "execution_count": 55,
   "id": "f9ab0db6",
   "metadata": {},
   "outputs": [
    {
     "name": "stdout",
     "output_type": "stream",
     "text": [
      "False\n"
     ]
    },
    {
     "name": "stderr",
     "output_type": "stream",
     "text": [
      "D:\\Programming\\IDE\\Anaconda\\envs\\hons\\lib\\site-packages\\scipy\\stats\\morestats.py:1760: UserWarning: p-value may not be accurate for N > 5000.\n",
      "  warnings.warn(\"p-value may not be accurate for N > 5000.\")\n"
     ]
    },
    {
     "data": {
      "image/png": "[encoded data removed]",
      "text/plain": [
       "<Figure size 432x147.6 with 1 Axes>"
      ]
     },
     "metadata": {},
     "output_type": "display_data"
    }
   ],
   "source": [
    "t_df_g_gru = copy.deepcopy(t_df_g).loc[t_df_g['Model'] == \"GRU\"]\n",
    "\n",
    "t_df_g_gru = t_df_g_gru.pivot(index=['Dataset','Seed','Model','Epsilon','Window Index', 'Target'], \n",
    "        columns=\"Attack\",\n",
    "        values=\"AE\")\n",
    "print(t_df_g_gru.isnull().values.any() )\n",
    "\n",
    "targeted_result_gru = autorank.autorank(t_df_g_gru, alpha=0.05, verbose=False, order='ascending')\n",
    "\n",
    "autorank.plot_stats(targeted_result_gru)\n",
    "#plt.title(\"the CD Diagram of the Untargeted Attack (gru)\")\n",
    "plt.savefig(\"tar_cd_gru.pdf\", bbox_inches='tight')\n",
    "plt.show()"
   ]
  },
  {
   "cell_type": "code",
   "execution_count": 56,
   "id": "fc8e616c",
   "metadata": {},
   "outputs": [
    {
     "data": {
      "text/plain": [
       "False"
      ]
     },
     "execution_count": 56,
     "metadata": {},
     "output_type": "execute_result"
    }
   ],
   "source": [
    "tar_df_g_models = copy.deepcopy(t_df_g)\n",
    "tar_df_g_models.columns = ['Dataset','Seed', 'Model', 'Window Index', 'Attack', 'Epsilon', 'Target', 'AE']\n",
    "tar_df_g_models = tar_df_g_models.drop(tar_df_g_models[tar_df_g_models.Attack == 'No Attack'].index)\n",
    "\n",
    "tar_df_g_models = tar_df_g_models.drop(tar_df_g_models[tar_df_g_models.Attack == 'BRS'].index)\n",
    "tar_df_g_models = tar_df_g_models.drop(tar_df_g_models[tar_df_g_models.Attack == 'BR5V'].index)\n",
    "tar_df_g_models = tar_df_g_models.drop(tar_df_g_models[tar_df_g_models.Attack == '1VITAt'].index)\n",
    "tar_df_g_models = tar_df_g_models.drop(tar_df_g_models[tar_df_g_models.Attack == '3VITAt'].index)\n",
    "tar_df_g_models = tar_df_g_models.drop(tar_df_g_models[tar_df_g_models.Attack == '5VITAt'].index)\n",
    "tar_df_g_models = tar_df_g_models.drop(tar_df_g_models[tar_df_g_models.Attack == 'FGSMt'].index)\n",
    "\n",
    "tar_df_g_models = tar_df_g_models.pivot(index=['Dataset','Seed', 'Epsilon','Window Index', 'Target'], \n",
    "        columns=['Model', 'Attack'],\n",
    "        values=\"AE\")\n",
    "tar_df_g_models.isnull().values.any() "
   ]
  },
  {
   "cell_type": "code",
   "execution_count": 57,
   "id": "7fe2285d",
   "metadata": {},
   "outputs": [
    {
     "name": "stderr",
     "output_type": "stream",
     "text": [
      "D:\\Programming\\IDE\\Anaconda\\envs\\hons\\lib\\site-packages\\scipy\\stats\\morestats.py:1760: UserWarning: p-value may not be accurate for N > 5000.\n",
      "  warnings.warn(\"p-value may not be accurate for N > 5000.\")\n"
     ]
    },
    {
     "name": "stdout",
     "output_type": "stream",
     "text": [
      "RankResult(rankdf=\n",
      "                 meanrank    median       mad  ci_lower  ci_upper effect_size  \\\n",
      "Model Attack                                                                    \n",
      "CNN   BIMt       1.897687  0.088986  0.010323  0.087802  0.090073         0.0   \n",
      "LSTM  BIMt       2.922125  0.093761   0.00901  0.092252  0.095062   -0.332385   \n",
      "CNN   fullVITAt  2.968625  0.094071  0.006568   0.09292  0.095044    -0.39644   \n",
      "GRU   BIMt       3.476500  0.092927  0.010949  0.090764  0.094551    -0.24983   \n",
      "LSTM  fullVITAt  4.642563  0.099186  0.005152  0.098077   0.10001   -0.843335   \n",
      "GRU   fullVITAt  5.092500  0.098759  0.006598  0.097174  0.099892   -0.760857   \n",
      "\n",
      "                  magnitude  \n",
      "Model Attack                 \n",
      "CNN   BIMt       negligible  \n",
      "LSTM  BIMt            small  \n",
      "CNN   fullVITAt       small  \n",
      "GRU   BIMt            small  \n",
      "LSTM  fullVITAt       large  \n",
      "GRU   fullVITAt      medium  \n",
      "pvalue=0.0\n",
      "cd=0.05960509953833893\n",
      "omnibus=friedman\n",
      "posthoc=nemenyi\n",
      "all_normal=False\n",
      "pvals_shapiro=[0.0, 0.0, 0.0, 0.0, 0.0, 0.0]\n",
      "homoscedastic=False\n",
      "pval_homogeneity=6.479098590588155e-59\n",
      "homogeneity_test=levene\n",
      "alpha=0.05\n",
      "alpha_normality=0.008333333333333333\n",
      "num_samples=16000\n",
      "posterior_matrix=\n",
      "None\n",
      "decision_matrix=\n",
      "None\n",
      "rope=None\n",
      "rope_mode=None\n",
      "effect_size=akinshin_gamma)\n"
     ]
    }
   ],
   "source": [
    "targeted_result_models = autorank.autorank(tar_df_g_models, alpha=0.05, verbose=False, order='ascending')\n",
    "print(targeted_result_models)"
   ]
  },
  {
   "cell_type": "code",
   "execution_count": 58,
   "id": "5dd9c0a3",
   "metadata": {},
   "outputs": [
    {
     "data": {
      "image/png": "[encoded data removed]",
      "text/plain": [
       "<Figure size 432x126 with 1 Axes>"
      ]
     },
     "metadata": {},
     "output_type": "display_data"
    }
   ],
   "source": [
    "autorank.plot_stats(targeted_result_models)\n",
    "plt.savefig(\"tar_cd_models_with_the_best_two.pdf\", bbox_inches='tight')\n",
    "plt.show()"
   ]
  },
  {
   "cell_type": "markdown",
   "id": "e3af2f99",
   "metadata": {},
   "source": [
    "### Targeted Random Forest"
   ]
  },
  {
   "cell_type": "code",
   "execution_count": 59,
   "id": "5fc3a89e",
   "metadata": {},
   "outputs": [],
   "source": [
    "df_t_all4_no_base = df_t_all4[df_t_all4[\"Attack Name\"].isin(order_t_anns[3:])]\n",
    "\n",
    "df_t_all4_no_base_grouped = df_t_all4_no_base.groupby(['df', 'Model', 'Attack Name', 'Epsilon', 'Target Direction'], as_index=False)\n",
    "\n",
    "df_t_all4_no_base_grouped = df_t_all4_no_base_grouped.agg(\n",
    "    {'Total Perturbation':'mean', 'Max Perturbation':'mean', 'Attacked AE':'mean'})\n",
    "#df_grouped = df_grouped[~df_grouped['Attack Name'].isin(['RFGSM', 'BPM', 'BNM'])]"
   ]
  },
  {
   "cell_type": "code",
   "execution_count": 60,
   "id": "448080e5",
   "metadata": {},
   "outputs": [
    {
     "name": "stderr",
     "output_type": "stream",
     "text": [
      "D:\\Programming\\IDE\\Anaconda\\envs\\hons\\lib\\site-packages\\seaborn\\relational.py:657: VisibleDeprecationWarning: Creating an ndarray from ragged nested sequences (which is a list-or-tuple of lists-or-tuples-or ndarrays with different lengths or shapes) is deprecated. If you meant to do this, you must specify 'dtype=object' when creating the ndarray.\n",
      "  args = np.asarray(x), np.asarray(y), np.asarray(s), np.asarray(c)\n",
      "D:\\Programming\\IDE\\Anaconda\\envs\\hons\\lib\\site-packages\\seaborn\\relational.py:657: VisibleDeprecationWarning: Creating an ndarray from ragged nested sequences (which is a list-or-tuple of lists-or-tuples-or ndarrays with different lengths or shapes) is deprecated. If you meant to do this, you must specify 'dtype=object' when creating the ndarray.\n",
      "  args = np.asarray(x), np.asarray(y), np.asarray(s), np.asarray(c)\n",
      "D:\\Programming\\IDE\\Anaconda\\envs\\hons\\lib\\site-packages\\seaborn\\relational.py:657: VisibleDeprecationWarning: Creating an ndarray from ragged nested sequences (which is a list-or-tuple of lists-or-tuples-or ndarrays with different lengths or shapes) is deprecated. If you meant to do this, you must specify 'dtype=object' when creating the ndarray.\n",
      "  args = np.asarray(x), np.asarray(y), np.asarray(s), np.asarray(c)\n",
      "D:\\Programming\\IDE\\Anaconda\\envs\\hons\\lib\\site-packages\\seaborn\\relational.py:657: VisibleDeprecationWarning: Creating an ndarray from ragged nested sequences (which is a list-or-tuple of lists-or-tuples-or ndarrays with different lengths or shapes) is deprecated. If you meant to do this, you must specify 'dtype=object' when creating the ndarray.\n",
      "  args = np.asarray(x), np.asarray(y), np.asarray(s), np.asarray(c)\n",
      "D:\\Programming\\IDE\\Anaconda\\envs\\hons\\lib\\site-packages\\seaborn\\relational.py:657: VisibleDeprecationWarning: Creating an ndarray from ragged nested sequences (which is a list-or-tuple of lists-or-tuples-or ndarrays with different lengths or shapes) is deprecated. If you meant to do this, you must specify 'dtype=object' when creating the ndarray.\n",
      "  args = np.asarray(x), np.asarray(y), np.asarray(s), np.asarray(c)\n",
      "D:\\Programming\\IDE\\Anaconda\\envs\\hons\\lib\\site-packages\\seaborn\\relational.py:657: VisibleDeprecationWarning: Creating an ndarray from ragged nested sequences (which is a list-or-tuple of lists-or-tuples-or ndarrays with different lengths or shapes) is deprecated. If you meant to do this, you must specify 'dtype=object' when creating the ndarray.\n",
      "  args = np.asarray(x), np.asarray(y), np.asarray(s), np.asarray(c)\n",
      "D:\\Programming\\IDE\\Anaconda\\envs\\hons\\lib\\site-packages\\seaborn\\relational.py:657: VisibleDeprecationWarning: Creating an ndarray from ragged nested sequences (which is a list-or-tuple of lists-or-tuples-or ndarrays with different lengths or shapes) is deprecated. If you meant to do this, you must specify 'dtype=object' when creating the ndarray.\n",
      "  args = np.asarray(x), np.asarray(y), np.asarray(s), np.asarray(c)\n",
      "D:\\Programming\\IDE\\Anaconda\\envs\\hons\\lib\\site-packages\\seaborn\\relational.py:657: VisibleDeprecationWarning: Creating an ndarray from ragged nested sequences (which is a list-or-tuple of lists-or-tuples-or ndarrays with different lengths or shapes) is deprecated. If you meant to do this, you must specify 'dtype=object' when creating the ndarray.\n",
      "  args = np.asarray(x), np.asarray(y), np.asarray(s), np.asarray(c)\n",
      "D:\\Programming\\IDE\\Anaconda\\envs\\hons\\lib\\site-packages\\seaborn\\relational.py:657: VisibleDeprecationWarning: Creating an ndarray from ragged nested sequences (which is a list-or-tuple of lists-or-tuples-or ndarrays with different lengths or shapes) is deprecated. If you meant to do this, you must specify 'dtype=object' when creating the ndarray.\n",
      "  args = np.asarray(x), np.asarray(y), np.asarray(s), np.asarray(c)\n",
      "D:\\Programming\\IDE\\Anaconda\\envs\\hons\\lib\\site-packages\\seaborn\\relational.py:657: VisibleDeprecationWarning: Creating an ndarray from ragged nested sequences (which is a list-or-tuple of lists-or-tuples-or ndarrays with different lengths or shapes) is deprecated. If you meant to do this, you must specify 'dtype=object' when creating the ndarray.\n",
      "  args = np.asarray(x), np.asarray(y), np.asarray(s), np.asarray(c)\n",
      "D:\\Programming\\IDE\\Anaconda\\envs\\hons\\lib\\site-packages\\seaborn\\relational.py:657: VisibleDeprecationWarning: Creating an ndarray from ragged nested sequences (which is a list-or-tuple of lists-or-tuples-or ndarrays with different lengths or shapes) is deprecated. If you meant to do this, you must specify 'dtype=object' when creating the ndarray.\n",
      "  args = np.asarray(x), np.asarray(y), np.asarray(s), np.asarray(c)\n",
      "D:\\Programming\\IDE\\Anaconda\\envs\\hons\\lib\\site-packages\\seaborn\\relational.py:657: VisibleDeprecationWarning: Creating an ndarray from ragged nested sequences (which is a list-or-tuple of lists-or-tuples-or ndarrays with different lengths or shapes) is deprecated. If you meant to do this, you must specify 'dtype=object' when creating the ndarray.\n",
      "  args = np.asarray(x), np.asarray(y), np.asarray(s), np.asarray(c)\n"
     ]
    },
    {
     "data": {
      "image/png": "[encoded data removed]",
      "text/plain": [
       "<Figure size 720x720 with 16 Axes>"
      ]
     },
     "metadata": {
      "needs_background": "light"
     },
     "output_type": "display_data"
    }
   ],
   "source": [
    "f, ax = plt.subplots(4, 4, figsize=(10, 10), sharey=False, sharex=False)\n",
    "for i, m in enumerate(df_t_all4_no_base_grouped['Epsilon'].unique()):\n",
    "    df_models = df_t_all4_no_base_grouped.loc[df_t_all4_no_base_grouped['Epsilon'] == m].copy()\n",
    "                            \n",
    "    for j, n in enumerate(df_t_all4_no_base_grouped['Model'].unique()):\n",
    "        df = df_models.loc[df_models['Model'] == n].copy()\n",
    "        g = sns.scatterplot(palette=cdict, hue_order=order_t_anns[3:], ax=ax[i, j], \n",
    "                            data=df, x='Total Perturbation', y='Attacked AE', hue='Attack Name', style=\"Attack Name\",style_order=df_t_all4_no_base_grouped['Attack Name'].unique().tolist())\n",
    "        \n",
    "        x_range = g.get_xlim()[1] - g.get_xlim()[0]\n",
    "        y_range = g.get_ylim()[1] - g.get_ylim()[0]\n",
    "\n",
    "        g.axvline(x=g.get_xlim()[0]+x_range/2, color=\"black\", linestyle=\"--\")\n",
    "        g.axhline(y=g.get_ylim()[0]+y_range/2, color=\"black\", linestyle=\"--\")\n",
    "        g.text(g.get_xlim()[0]+0.6*x_range/4, g.get_ylim()[0]+y_range/4, \"LPGR\", fontsize=10)\n",
    "        g.text(g.get_xlim()[1]-1.45*x_range/4, g.get_ylim()[0]+y_range/4, \"HPGR\", fontsize=10)\n",
    "        g.text(g.get_xlim()[0]+0.6*x_range/4, g.get_ylim()[1]-y_range/4, \"LPBR\", fontsize=10)\n",
    "        g.text(g.get_xlim()[1]-1.45*x_range/4, g.get_ylim()[1]-y_range/4, \"HPBR\", fontsize=10)\n",
    "        \n",
    "        if i!=3: g.set(xlabel=None)\n",
    "        g.set(title=str(n)+\" Epsilon \"+str(m))\n",
    "        if j==0: \n",
    "            g.set(ylabel=\"MAE to Target (↓)\")\n",
    "        else:\n",
    "            g.set(ylabel=None)\n",
    "        if i==3 and j==1: \n",
    "            g.legend(loc='upper center', bbox_to_anchor=(1.1, -0.25), frameon=False, ncol=8)\n",
    "        else:\n",
    "            g.legend_.remove()\n",
    "            \n",
    "plt.subplots_adjust(left=None, bottom=None, right=None, top=None, wspace=0.35, hspace=0.3)\n",
    "plt.savefig('tar_total_perturbation_vs_MAE_group_by_epsilon_and_model.pdf', bbox_inches='tight')"
   ]
  },
  {
   "cell_type": "markdown",
   "id": "a1bab32d",
   "metadata": {},
   "source": [
    "# Plot: Sliding Windows"
   ]
  },
  {
   "cell_type": "code",
   "execution_count": 61,
   "id": "3e3eb886",
   "metadata": {},
   "outputs": [],
   "source": [
    "X = np.array([0.46, 0.52, 0.44, 0.58, 0.54, 0.41, 0.49, 0.55, 0.51, 0.52, 0.62, 0.45, 0.57, 0.48, 0.61])\n",
    "num = 15"
   ]
  },
  {
   "cell_type": "code",
   "execution_count": 62,
   "id": "7e9f93fe",
   "metadata": {},
   "outputs": [],
   "source": [
    "from matplotlib import colors\n",
    "#cmap = cm.get_cmap('Blues')\n",
    "#cmap = colors.LinearSegmentedColormap.from_list(\"\", [\"lightskyblue\",\"purple\"])\n",
    "cmap = colors.LinearSegmentedColormap.from_list(\"\", [\"lightskyblue\",\"blue\"])"
   ]
  },
  {
   "cell_type": "code",
   "execution_count": 63,
   "id": "fe578fe2",
   "metadata": {},
   "outputs": [],
   "source": [
    "# Source: https://stackoverflow.com/questions/31908982/python-matplotlib-multi-color-legend-entry\n",
    "\n",
    "# define an object that will be used by the legend\n",
    "class MulticolorPatch(object):\n",
    "    def __init__(self, colors):\n",
    "        self.colors = colors\n",
    "        \n",
    "# define a handler for the MulticolorPatch object\n",
    "class MulticolorPatchHandler(object):\n",
    "    def legend_artist(self, legend, orig_handle, fontsize, handlebox):\n",
    "        width, height = handlebox.width, handlebox.height\n",
    "        patches = []\n",
    "        for i, c in enumerate(orig_handle.colors):\n",
    "            patches.append(plt.Rectangle([width/len(orig_handle.colors) * i - handlebox.xdescent, \n",
    "                                          -handlebox.ydescent],\n",
    "                           width / len(orig_handle.colors),\n",
    "                           height, \n",
    "                           facecolor=c, \n",
    "                           edgecolor='none'))\n",
    "\n",
    "        patch = PatchCollection(patches,match_original=True)\n",
    "\n",
    "        handlebox.add_artist(patch)\n",
    "        return patch"
   ]
  },
  {
   "cell_type": "code",
   "execution_count": 64,
   "id": "3f9ed671",
   "metadata": {},
   "outputs": [
    {
     "data": {
      "image/png": "[encoded data removed]",
      "text/plain": [
       "<Figure size 504x180 with 1 Axes>"
      ]
     },
     "metadata": {},
     "output_type": "display_data"
    }
   ],
   "source": [
    "num_windows = 3\n",
    "plt.rc('font', family='serif')\n",
    "plt.rc('xtick', labelsize='x-small')\n",
    "plt.rc('ytick', labelsize='x-small')\n",
    "f, ax = plt.subplots(figsize=(7,2.5))\n",
    "plt.plot(range(len(X[:num])), X[:num], c='blue', label='Time Series', marker='.')\n",
    "plt.ylim([np.min(X[:num])-0.1*num_windows-0.2, np.max(X[:num])+0.05])\n",
    "colors = []\n",
    "for i in range(num_windows):#range(len(X[:num])-4):\n",
    "    col = cmap((i+1) / (num_windows+2))\n",
    "    colors.append(col)\n",
    "    plt.plot(range(i, i+5), X[i:i+5]-(i+2)*0.1, c=col, zorder=3, label=('Input Window' if i==0 else ''))\n",
    "    plt.plot(range(i+4, i+6), X[i+4:i+6]-(i+2)*0.1, c='orange', label=('Output Prediction' if i==0 else ''), zorder=3)\n",
    "    plt.fill_between(range(i, i+5), X[i:i+5]-(i+2)*0.1, X[i:i+5], alpha=0.08, color=col)\n",
    "    plt.vlines(x=i, ymin=X[i]-(i+2)*0.1, ymax=X[i], linestyles=':', colors=col, alpha=0.7)\n",
    "    plt.vlines(x=i+4, ymin=X[i+4]-(i+2)*0.1, ymax=X[i+4], linestyles=':', colors=col, alpha=0.7)\n",
    "plt.yticks([])\n",
    "plt.xticks([])\n",
    "plt.xlabel('Time')\n",
    "plt.ylabel('Value')\n",
    "h, l = ax.get_legend_handles_labels()\n",
    "h.append(MulticolorPatch(colors))\n",
    "#l.append('Walk-forwad Windows')\n",
    "plt.legend(h, l, loc='upper center', \n",
    "           handler_map={MulticolorPatch: MulticolorPatchHandler()}, bbox_to_anchor=(0.5, -0.09), frameon=False, ncol=4)\n",
    "#f.text(0.4,0.55, \"Window 1\", fontsize=8)\n",
    "#f.text(0.47,0.425, \"Window 2\", fontsize=8)\n",
    "#f.text(0.53,0.3, \"Window 3\", fontsize=8)\n",
    "plt.savefig('sliding_windows.pdf', bbox_inches='tight')"
   ]
  },
  {
   "cell_type": "code",
   "execution_count": null,
   "id": "d0711e02",
   "metadata": {},
   "outputs": [],
   "source": []
  }
 ],
 "metadata": {
  "kernelspec": {
   "display_name": "Python 3 (ipykernel)",
   "language": "python",
   "name": "python3"
  },
  "language_info": {
   "codemirror_mode": {
    "name": "ipython",
    "version": 3
   },
   "file_extension": ".py",
   "mimetype": "text/x-python",
   "name": "python",
   "nbconvert_exporter": "python",
   "pygments_lexer": "ipython3",
   "version": "3.9.12"
  }
 },
 "nbformat": 4,
 "nbformat_minor": 5
}
