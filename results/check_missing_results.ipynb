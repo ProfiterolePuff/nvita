{
 "cells": [
  {
   "cell_type": "code",
   "execution_count": 1,
   "id": "1318c24a",
   "metadata": {},
   "outputs": [
    {
     "name": "stderr",
     "output_type": "stream",
     "text": [
      "D:\\Programming\\IDE\\Anaconda\\envs\\hons\\lib\\site-packages\\tqdm\\auto.py:22: TqdmWarning: IProgress not found. Please update jupyter and ipywidgets. See https://ipywidgets.readthedocs.io/en/stable/user_install.html\n",
      "  from .autonotebook import tqdm as notebook_tqdm\n"
     ]
    }
   ],
   "source": [
    "import os\n",
    "from pathlib import Path\n",
    "import glob\n",
    "import pandas as pd\n",
    "from nvita.utils import open_json\n",
    "from nvita.attacks.utils import (append_result_to_csv_file,\n",
    "                                 check_result_file_path,\n",
    "                                 create_empty_result_csv_file)"
   ]
  },
  {
   "cell_type": "code",
   "execution_count": 2,
   "id": "c987b38d",
   "metadata": {},
   "outputs": [],
   "source": [
    "PATH_ROOT = Path(os.getcwd()).parent.absolute()\n",
    "PATH_NTRE = os.path.join(PATH_ROOT, \"results\", \"non_targeted_results\")\n",
    "PATH_TARE = os.path.join(PATH_ROOT, \"results\", \"targeted_results\")\n",
    "PATH_EXPS = os.path.join(PATH_ROOT, \"experiments\")"
   ]
  },
  {
   "cell_type": "code",
   "execution_count": 3,
   "id": "8c8aa17e",
   "metadata": {},
   "outputs": [
    {
     "name": "stdout",
     "output_type": "stream",
     "text": [
      "{'data': ['Electricity', 'NZTemp', 'CNYExch', 'Oil'], 'seeds': ['2210', '9999', '58361', '789789', '1111111'], 'y_col_name': ['Consumption', 'Auckland', 'Close', 'Close'], 'window_size': ['4', '3', '7', '7'], 'models': ['CNN', 'LSTM', 'GRU', 'RF'], 'attacks': ['NOATTACK', 'BRS', 'BRNV', 'FGSM', 'BIM', 'NVITA', 'FULLVITA'], 'n_values': [1, 3, 5], 'epsilons': [0.05, 0.1, 0.15, 0.2], 'targets': ['Positive', 'Negative']}\n"
     ]
    }
   ],
   "source": [
    "my_metadata = open_json(os.path.join(\n",
    "    PATH_ROOT, \"experiments\", \"metadata.json\"))\n",
    "print(my_metadata)"
   ]
  },
  {
   "cell_type": "code",
   "execution_count": 4,
   "id": "018e18b5",
   "metadata": {},
   "outputs": [],
   "source": [
    "class RequiredCSV:\n",
    "    \"\"\"\n",
    "    Required CSV class\n",
    "    \"\"\"\n",
    "    def __init__(self, df_name = None, seed = None, eps = None, model = None, attack = None, targeted = False, target_direction = None, count = 0):\n",
    "        self.df_name = df_name\n",
    "        self.seed = seed\n",
    "        self.eps = eps\n",
    "        self.model = model\n",
    "        self.attack = attack\n",
    "        self.targeted = targeted\n",
    "        self.target_direction = target_direction\n",
    "        self.count = count\n",
    "        self.all_names = []\n",
    "        # all_names list is used to check duplications\n",
    "    def get_output_line_list(self):\n",
    "        if self.targeted:\n",
    "            return [self.df_name, self.seed, self.eps, self.model, self.attack, self.target_direction, self.count, str(self)]\n",
    "        else:\n",
    "            return [self.df_name, self.seed, self.eps, self.model, self.attack, self.count, str(self)]\n",
    "        \n",
    "    def __str__(self) -> str:\n",
    "        if self.targeted:\n",
    "            return \"df_\"+self.df_name+\"_seed_\"+str(self.seed)+\"_model_\"+model+\"_epsilon_\"+str(self.eps)+\"_attack_\"+attack+\"_target_\"+self.target_direction\n",
    "        else:\n",
    "            return \"df_\"+self.df_name+\"_seed_\"+str(self.seed)+\"_model_\"+model+\"_epsilon_\"+str(self.eps)+\"_attack_\"+attack"
   ]
  },
  {
   "cell_type": "markdown",
   "id": "6fd3ee06",
   "metadata": {},
   "source": [
    "## Non-targeted Check"
   ]
  },
  {
   "cell_type": "code",
   "execution_count": 5,
   "id": "ee1dd8a3",
   "metadata": {},
   "outputs": [
    {
     "name": "stdout",
     "output_type": "stream",
     "text": [
      "Total number of csv result files for non-targeted experiments are 2720\n"
     ]
    }
   ],
   "source": [
    "nont_d = {}\n",
    "total_count = 0\n",
    "for df in my_metadata[\"data\"]:\n",
    "    for seed in my_metadata[\"seeds\"]:\n",
    "        for eps in my_metadata[\"epsilons\"]:\n",
    "            for model in my_metadata[\"models\"]:\n",
    "                if model == \"RF\":\n",
    "                    attacks = [\"NOATTACK\", \"BRS\", \"Non_Targeted_BR5V\", \"Non_Targeted_1VITA\", \"Non_Targeted_3VITA\", \"Non_Targeted_5VITA\", \"FULLVITA\"]\n",
    "                else:\n",
    "                    attacks = [\"NOATTACK\", \"BRS\", \"Non_Targeted_BR5V\", \"FGSM\", \"BIM\", \"Non_Targeted_1VITA\", \"Non_Targeted_3VITA\", \"Non_Targeted_5VITA\", \"FULLVITA\"]\n",
    "                for attack in attacks:\n",
    "                    rcsv = RequiredCSV(df, seed, eps, model, attack)\n",
    "                    total_count += 1\n",
    "                    nont_d[str(rcsv)] = rcsv\n",
    "print(\"Total number of csv result files for non-targeted experiments are \" + str(total_count))"
   ]
  },
  {
   "cell_type": "code",
   "execution_count": 6,
   "id": "213fe372",
   "metadata": {},
   "outputs": [],
   "source": [
    "for (root,dirs,files) in os.walk(PATH_NTRE, topdown=True):\n",
    "    for file in (f for f in files if f.endswith(\".csv\")):\n",
    "        file_path = Path(root, file)\n",
    "        df = pd.read_csv(file_path, index_col=None, header=0)\n",
    "        if df.shape[0] == 100:\n",
    "            # Complete result\n",
    "            suffix_ind = -5\n",
    "            while file[suffix_ind] == \"1\":\n",
    "                suffix_ind -= 1\n",
    "            nont_d[file[:suffix_ind+1]].count+=1\n",
    "            nont_d[file[:suffix_ind+1]].all_names.append(file)\n",
    "            # Append the existing file name, it can be modified to remove duplication"
   ]
  },
  {
   "cell_type": "code",
   "execution_count": 7,
   "id": "13ed4807",
   "metadata": {},
   "outputs": [],
   "source": [
    "nt_fl = [\"df_name\", \"seed\", \"eps\", \"model\", \"attack\", \"occurrence\", \"full_name\"]\n",
    "nt_path = os.path.join(PATH_ROOT, \"results\", \"non_targeted_check_result.csv\")\n",
    "create_empty_result_csv_file(nt_path, nt_fl)\n",
    "for k in nont_d:\n",
    "    line_list = nont_d[k].get_output_line_list()\n",
    "    append_result_to_csv_file(nt_path, line_list)"
   ]
  },
  {
   "cell_type": "markdown",
   "id": "e97d2e69",
   "metadata": {},
   "source": [
    "# Non-targeted Check"
   ]
  },
  {
   "cell_type": "code",
   "execution_count": 8,
   "id": "84cbe50b",
   "metadata": {},
   "outputs": [
    {
     "name": "stdout",
     "output_type": "stream",
     "text": [
      "Total number of csv result files for targeted experiments are 5440\n"
     ]
    }
   ],
   "source": [
    "t_d = {}\n",
    "total_count = 0\n",
    "for df in my_metadata[\"data\"]:\n",
    "    for seed in my_metadata[\"seeds\"]:\n",
    "        for eps in my_metadata[\"epsilons\"]:\n",
    "            for td in my_metadata[\"targets\"]:\n",
    "                for model in my_metadata[\"models\"]:\n",
    "                    if model == \"RF\":\n",
    "                        attacks = [\"NOATTACK\", \"BRS\", \"Targeted_BR5V\", \"Targeted_1VITA\", \"Targeted_3VITA\", \"Targeted_5VITA\", \"FULLVITA\"]\n",
    "                    else:\n",
    "                        attacks = [\"NOATTACK\", \"BRS\", \"Targeted_BR5V\", \"FGSM\", \"BIM\", \"Targeted_1VITA\", \"Targeted_3VITA\", \"Targeted_5VITA\", \"FULLVITA\"]\n",
    "                    for attack in attacks:\n",
    "                        rcsv = RequiredCSV(df, seed, eps, model, attack, True, td)\n",
    "                        total_count += 1\n",
    "                        t_d[str(rcsv)] = rcsv\n",
    "print(\"Total number of csv result files for targeted experiments are \" + str(total_count))"
   ]
  },
  {
   "cell_type": "code",
   "execution_count": 9,
   "id": "feae5b8b",
   "metadata": {},
   "outputs": [],
   "source": [
    "for (root,dirs,files) in os.walk(PATH_TARE, topdown=True):\n",
    "    for file in (f for f in files if f.endswith(\".csv\")):\n",
    "        file_path = Path(root, file)\n",
    "        df = pd.read_csv(file_path, index_col=None, header=0)\n",
    "        if df.shape[0] == 100:\n",
    "            # Complete result\n",
    "            suffix_ind = -5\n",
    "            while file[suffix_ind] == \"1\":\n",
    "                suffix_ind -= 1\n",
    "            t_d[file[:suffix_ind+1]].count+=1\n",
    "            t_d[file[:suffix_ind+1]].all_names.append(file)\n",
    "            # Append the existing file name, it can be modified to remove duplication"
   ]
  },
  {
   "cell_type": "code",
   "execution_count": 10,
   "id": "6d2122a0",
   "metadata": {},
   "outputs": [],
   "source": [
    "ta_fl = [\"df_name\", \"seed\", \"eps\", \"model\", \"attack\", \"target_direction\", \"occurrence\", \"full_name\"]\n",
    "ta_path = os.path.join(PATH_ROOT, \"results\", \"targeted_check_result.csv\")\n",
    "create_empty_result_csv_file(ta_path, ta_fl)\n",
    "for k in t_d:\n",
    "    line_list = t_d[k].get_output_line_list()\n",
    "    append_result_to_csv_file(ta_path, line_list)"
   ]
  }
 ],
 "metadata": {
  "kernelspec": {
   "display_name": "Python 3 (ipykernel)",
   "language": "python",
   "name": "python3"
  },
  "language_info": {
   "codemirror_mode": {
    "name": "ipython",
    "version": 3
   },
   "file_extension": ".py",
   "mimetype": "text/x-python",
   "name": "python",
   "nbconvert_exporter": "python",
   "pygments_lexer": "ipython3",
   "version": "3.9.12"
  }
 },
 "nbformat": 4,
 "nbformat_minor": 5
}
