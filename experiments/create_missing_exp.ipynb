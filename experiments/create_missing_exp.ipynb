{
 "cells": [
  {
   "cell_type": "markdown",
   "metadata": {},
   "source": [
    "## Create script for missing experiments\n",
    "\n",
    "This script reads `./results/non_targeted_check_result.csv` and `./results/targeted_check_result.csv`\n",
    "and create slurm script for each missing experiments."
   ]
  },
  {
   "cell_type": "code",
   "execution_count": 1,
   "metadata": {},
   "outputs": [],
   "source": [
    "import os\n",
    "from pathlib import Path\n",
    "from glob import glob\n",
    "\n",
    "import pandas as pd\n",
    "\n",
    "from nvita.utils import create_dir"
   ]
  },
  {
   "cell_type": "code",
   "execution_count": 2,
   "metadata": {},
   "outputs": [
    {
     "name": "stdout",
     "output_type": "stream",
     "text": [
      "/home/lukec/workspace/nvita\n"
     ]
    }
   ],
   "source": [
    "PATH_ROOT = Path(os.getcwd()).parent.absolute()\n",
    "PATH_RESULT = os.path.join(PATH_ROOT, 'results')\n",
    "PATH_OUTPUT = os.path.join(PATH_ROOT, 'slurm', 'missing')\n",
    "create_dir(PATH_OUTPUT)\n",
    "PATH_TARGET = os.path.join(PATH_RESULT, 'targeted_results')\n",
    "PATH_UNTARGET = os.path.join(PATH_RESULT, 'non_targeted_results')\n",
    "\n",
    "FILE_TARGET = 'targeted_check_result.csv'\n",
    "FILE_UNTARGET = 'non_targeted_check_result.csv'\n",
    "\n",
    "print(PATH_ROOT)"
   ]
  },
  {
   "cell_type": "code",
   "execution_count": 3,
   "metadata": {},
   "outputs": [],
   "source": [
    "# Clear previous results\n",
    "for root, dirs, files in os.walk(PATH_OUTPUT):\n",
    "    for file in files:\n",
    "        os.remove(os.path.join(root, file))"
   ]
  },
  {
   "cell_type": "code",
   "execution_count": 4,
   "metadata": {},
   "outputs": [
    {
     "data": {
      "text/html": [
       "<div>\n",
       "<style scoped>\n",
       "    .dataframe tbody tr th:only-of-type {\n",
       "        vertical-align: middle;\n",
       "    }\n",
       "\n",
       "    .dataframe tbody tr th {\n",
       "        vertical-align: top;\n",
       "    }\n",
       "\n",
       "    .dataframe thead th {\n",
       "        text-align: right;\n",
       "    }\n",
       "</style>\n",
       "<table border=\"1\" class=\"dataframe\">\n",
       "  <thead>\n",
       "    <tr style=\"text-align: right;\">\n",
       "      <th></th>\n",
       "      <th>df_name</th>\n",
       "      <th>seed</th>\n",
       "      <th>eps</th>\n",
       "      <th>model</th>\n",
       "      <th>attack</th>\n",
       "      <th>occurrence</th>\n",
       "      <th>full_name</th>\n",
       "      <th>Unnamed: 7</th>\n",
       "    </tr>\n",
       "  </thead>\n",
       "  <tbody>\n",
       "    <tr>\n",
       "      <th>1763</th>\n",
       "      <td>CNYExch</td>\n",
       "      <td>58361</td>\n",
       "      <td>0.20</td>\n",
       "      <td>RF</td>\n",
       "      <td>Non_Targeted_BR5V</td>\n",
       "      <td>0</td>\n",
       "      <td>df_CNYExch_seed_58361_model_RF_epsilon_0.2_att...</td>\n",
       "      <td>NaN</td>\n",
       "    </tr>\n",
       "    <tr>\n",
       "      <th>1765</th>\n",
       "      <td>CNYExch</td>\n",
       "      <td>58361</td>\n",
       "      <td>0.20</td>\n",
       "      <td>RF</td>\n",
       "      <td>Non_Targeted_3VITA</td>\n",
       "      <td>0</td>\n",
       "      <td>df_CNYExch_seed_58361_model_RF_epsilon_0.2_att...</td>\n",
       "      <td>NaN</td>\n",
       "    </tr>\n",
       "    <tr>\n",
       "      <th>1766</th>\n",
       "      <td>CNYExch</td>\n",
       "      <td>58361</td>\n",
       "      <td>0.20</td>\n",
       "      <td>RF</td>\n",
       "      <td>Non_Targeted_5VITA</td>\n",
       "      <td>0</td>\n",
       "      <td>df_CNYExch_seed_58361_model_RF_epsilon_0.2_att...</td>\n",
       "      <td>NaN</td>\n",
       "    </tr>\n",
       "    <tr>\n",
       "      <th>2128</th>\n",
       "      <td>Oil</td>\n",
       "      <td>2210</td>\n",
       "      <td>0.15</td>\n",
       "      <td>GRU</td>\n",
       "      <td>Non_Targeted_BR5V</td>\n",
       "      <td>0</td>\n",
       "      <td>df_Oil_seed_2210_model_GRU_epsilon_0.15_attack...</td>\n",
       "      <td>NaN</td>\n",
       "    </tr>\n",
       "    <tr>\n",
       "      <th>2133</th>\n",
       "      <td>Oil</td>\n",
       "      <td>2210</td>\n",
       "      <td>0.15</td>\n",
       "      <td>GRU</td>\n",
       "      <td>Non_Targeted_5VITA</td>\n",
       "      <td>0</td>\n",
       "      <td>df_Oil_seed_2210_model_GRU_epsilon_0.15_attack...</td>\n",
       "      <td>NaN</td>\n",
       "    </tr>\n",
       "    <tr>\n",
       "      <th>...</th>\n",
       "      <td>...</td>\n",
       "      <td>...</td>\n",
       "      <td>...</td>\n",
       "      <td>...</td>\n",
       "      <td>...</td>\n",
       "      <td>...</td>\n",
       "      <td>...</td>\n",
       "      <td>...</td>\n",
       "    </tr>\n",
       "    <tr>\n",
       "      <th>2715</th>\n",
       "      <td>Oil</td>\n",
       "      <td>1111111</td>\n",
       "      <td>0.20</td>\n",
       "      <td>RF</td>\n",
       "      <td>Non_Targeted_BR5V</td>\n",
       "      <td>0</td>\n",
       "      <td>df_Oil_seed_1111111_model_RF_epsilon_0.2_attac...</td>\n",
       "      <td>NaN</td>\n",
       "    </tr>\n",
       "    <tr>\n",
       "      <th>2716</th>\n",
       "      <td>Oil</td>\n",
       "      <td>1111111</td>\n",
       "      <td>0.20</td>\n",
       "      <td>RF</td>\n",
       "      <td>Non_Targeted_1VITA</td>\n",
       "      <td>0</td>\n",
       "      <td>df_Oil_seed_1111111_model_RF_epsilon_0.2_attac...</td>\n",
       "      <td>NaN</td>\n",
       "    </tr>\n",
       "    <tr>\n",
       "      <th>2717</th>\n",
       "      <td>Oil</td>\n",
       "      <td>1111111</td>\n",
       "      <td>0.20</td>\n",
       "      <td>RF</td>\n",
       "      <td>Non_Targeted_3VITA</td>\n",
       "      <td>0</td>\n",
       "      <td>df_Oil_seed_1111111_model_RF_epsilon_0.2_attac...</td>\n",
       "      <td>NaN</td>\n",
       "    </tr>\n",
       "    <tr>\n",
       "      <th>2718</th>\n",
       "      <td>Oil</td>\n",
       "      <td>1111111</td>\n",
       "      <td>0.20</td>\n",
       "      <td>RF</td>\n",
       "      <td>Non_Targeted_5VITA</td>\n",
       "      <td>0</td>\n",
       "      <td>df_Oil_seed_1111111_model_RF_epsilon_0.2_attac...</td>\n",
       "      <td>NaN</td>\n",
       "    </tr>\n",
       "    <tr>\n",
       "      <th>2719</th>\n",
       "      <td>Oil</td>\n",
       "      <td>1111111</td>\n",
       "      <td>0.20</td>\n",
       "      <td>RF</td>\n",
       "      <td>FULLVITA</td>\n",
       "      <td>0</td>\n",
       "      <td>df_Oil_seed_1111111_model_RF_epsilon_0.2_attac...</td>\n",
       "      <td>NaN</td>\n",
       "    </tr>\n",
       "  </tbody>\n",
       "</table>\n",
       "<p>221 rows × 8 columns</p>\n",
       "</div>"
      ],
      "text/plain": [
       "      df_name     seed   eps model              attack  occurrence  \\\n",
       "1763  CNYExch    58361  0.20    RF   Non_Targeted_BR5V           0   \n",
       "1765  CNYExch    58361  0.20    RF  Non_Targeted_3VITA           0   \n",
       "1766  CNYExch    58361  0.20    RF  Non_Targeted_5VITA           0   \n",
       "2128      Oil     2210  0.15   GRU   Non_Targeted_BR5V           0   \n",
       "2133      Oil     2210  0.15   GRU  Non_Targeted_5VITA           0   \n",
       "...       ...      ...   ...   ...                 ...         ...   \n",
       "2715      Oil  1111111  0.20    RF   Non_Targeted_BR5V           0   \n",
       "2716      Oil  1111111  0.20    RF  Non_Targeted_1VITA           0   \n",
       "2717      Oil  1111111  0.20    RF  Non_Targeted_3VITA           0   \n",
       "2718      Oil  1111111  0.20    RF  Non_Targeted_5VITA           0   \n",
       "2719      Oil  1111111  0.20    RF            FULLVITA           0   \n",
       "\n",
       "                                              full_name  Unnamed: 7  \n",
       "1763  df_CNYExch_seed_58361_model_RF_epsilon_0.2_att...         NaN  \n",
       "1765  df_CNYExch_seed_58361_model_RF_epsilon_0.2_att...         NaN  \n",
       "1766  df_CNYExch_seed_58361_model_RF_epsilon_0.2_att...         NaN  \n",
       "2128  df_Oil_seed_2210_model_GRU_epsilon_0.15_attack...         NaN  \n",
       "2133  df_Oil_seed_2210_model_GRU_epsilon_0.15_attack...         NaN  \n",
       "...                                                 ...         ...  \n",
       "2715  df_Oil_seed_1111111_model_RF_epsilon_0.2_attac...         NaN  \n",
       "2716  df_Oil_seed_1111111_model_RF_epsilon_0.2_attac...         NaN  \n",
       "2717  df_Oil_seed_1111111_model_RF_epsilon_0.2_attac...         NaN  \n",
       "2718  df_Oil_seed_1111111_model_RF_epsilon_0.2_attac...         NaN  \n",
       "2719  df_Oil_seed_1111111_model_RF_epsilon_0.2_attac...         NaN  \n",
       "\n",
       "[221 rows x 8 columns]"
      ]
     },
     "execution_count": 4,
     "metadata": {},
     "output_type": "execute_result"
    }
   ],
   "source": [
    "df_untarget = pd.read_csv(os.path.join(PATH_RESULT, FILE_UNTARGET))\n",
    "df_untarget_missing = df_untarget[df_untarget['occurrence'] == 0]\n",
    "\n",
    "df_untarget_missing"
   ]
  },
  {
   "cell_type": "code",
   "execution_count": 5,
   "metadata": {},
   "outputs": [
    {
     "data": {
      "text/html": [
       "<div>\n",
       "<style scoped>\n",
       "    .dataframe tbody tr th:only-of-type {\n",
       "        vertical-align: middle;\n",
       "    }\n",
       "\n",
       "    .dataframe tbody tr th {\n",
       "        vertical-align: top;\n",
       "    }\n",
       "\n",
       "    .dataframe thead th {\n",
       "        text-align: right;\n",
       "    }\n",
       "</style>\n",
       "<table border=\"1\" class=\"dataframe\">\n",
       "  <thead>\n",
       "    <tr style=\"text-align: right;\">\n",
       "      <th></th>\n",
       "      <th>df_name</th>\n",
       "      <th>seed</th>\n",
       "      <th>eps</th>\n",
       "      <th>model</th>\n",
       "      <th>attack</th>\n",
       "      <th>target_direction</th>\n",
       "      <th>occurrence</th>\n",
       "      <th>full_name</th>\n",
       "      <th>Unnamed: 8</th>\n",
       "    </tr>\n",
       "  </thead>\n",
       "  <tbody>\n",
       "    <tr>\n",
       "      <th>1791</th>\n",
       "      <td>NZTemp</td>\n",
       "      <td>9999</td>\n",
       "      <td>0.15</td>\n",
       "      <td>GRU</td>\n",
       "      <td>Targeted_1VITA</td>\n",
       "      <td>Positive</td>\n",
       "      <td>0</td>\n",
       "      <td>df_NZTemp_seed_9999_model_GRU_epsilon_0.15_att...</td>\n",
       "      <td>NaN</td>\n",
       "    </tr>\n",
       "  </tbody>\n",
       "</table>\n",
       "</div>"
      ],
      "text/plain": [
       "     df_name  seed   eps model          attack target_direction  occurrence  \\\n",
       "1791  NZTemp  9999  0.15   GRU  Targeted_1VITA         Positive           0   \n",
       "\n",
       "                                              full_name  Unnamed: 8  \n",
       "1791  df_NZTemp_seed_9999_model_GRU_epsilon_0.15_att...         NaN  "
      ]
     },
     "execution_count": 5,
     "metadata": {},
     "output_type": "execute_result"
    }
   ],
   "source": [
    "df_target = pd.read_csv(os.path.join(PATH_RESULT, FILE_TARGET))\n",
    "df_target_missing = df_target[df_target['occurrence'] == 0]\n",
    "\n",
    "df_target_missing"
   ]
  },
  {
   "cell_type": "code",
   "execution_count": 6,
   "metadata": {},
   "outputs": [],
   "source": [
    "def parse_attack_name(attack: str):\n",
    "    \"\"\"Return a valid attack name and the value of n\"\"\"\n",
    "    prefix1 = 'Non_Targeted_'\n",
    "    prefix2 = 'Targeted_'\n",
    "    if attack.startswith(prefix1) or attack.startswith(prefix2):\n",
    "        attack = attack.split('_')[-1]\n",
    "        \n",
    "    n = 1  # 1 is the default value for all attacks except nvita\n",
    "    if attack[0].isdigit():\n",
    "        n = int(attack[0])\n",
    "        attack = 'NVITA'\n",
    "    \n",
    "    if attack == 'BR5V':\n",
    "        attack = 'BRNV'\n",
    "        n = 5\n",
    "    return attack, n"
   ]
  },
  {
   "cell_type": "code",
   "execution_count": 7,
   "metadata": {},
   "outputs": [
    {
     "data": {
      "text/plain": [
       "Index(['df_name', 'seed', 'eps', 'model', 'attack', 'occurrence', 'full_name',\n",
       "       'Unnamed: 7'],\n",
       "      dtype='object')"
      ]
     },
     "execution_count": 7,
     "metadata": {},
     "output_type": "execute_result"
    }
   ],
   "source": [
    "df_untarget_missing.columns"
   ]
  },
  {
   "cell_type": "code",
   "execution_count": 8,
   "metadata": {},
   "outputs": [],
   "source": [
    "df = pd.DataFrame(columns=['Target', 'Seed', 'Dataset', 'Model', 'Attack', 'Epsilon', 'N', 'Direction'])"
   ]
  },
  {
   "cell_type": "code",
   "execution_count": 9,
   "metadata": {},
   "outputs": [],
   "source": [
    "# Loop through untargeted missing files\n",
    "for i in range(len(df_untarget_missing)):\n",
    "    row = df_untarget_missing.iloc[i]\n",
    "    attackname, n = parse_attack_name(row['attack'])\n",
    "    _df = pd.DataFrame([{\n",
    "        'Target': 'untargeted', \n",
    "        'Seed': row['seed'], \n",
    "        'Dataset': row['df_name'], \n",
    "        'Model': row['model'], \n",
    "        'Attack': attackname, \n",
    "        'Epsilon': row['eps'], \n",
    "        'N': n, \n",
    "        'Direction': None,\n",
    "    }])\n",
    "    df = pd.concat([df, _df], ignore_index=True)"
   ]
  },
  {
   "cell_type": "code",
   "execution_count": 10,
   "metadata": {},
   "outputs": [],
   "source": [
    "# Loop through targeted missing files\n",
    "for i in range(len(df_target_missing)):\n",
    "    row = df_target_missing.iloc[i]\n",
    "    attackname, n = parse_attack_name(row['attack'])\n",
    "    _df = pd.DataFrame([{\n",
    "        'Target': 'targeted', \n",
    "        'Seed': row['seed'], \n",
    "        'Dataset': row['df_name'], \n",
    "        'Model': row['model'], \n",
    "        'Attack': attackname, \n",
    "        'Epsilon': row['eps'], \n",
    "        'N': n, \n",
    "        'Direction': row['target_direction'],\n",
    "    }])\n",
    "    df = pd.concat([df, _df], ignore_index=True)"
   ]
  },
  {
   "cell_type": "code",
   "execution_count": 11,
   "metadata": {},
   "outputs": [],
   "source": [
    "path_output = os.path.join(PATH_RESULT, 'missing_exp.csv')\n",
    "df = df.sort_values(['Target', 'Seed', 'Dataset', 'Model', 'Direction', 'Epsilon', 'Attack', 'N'])\n",
    "df.to_csv(path_output, index=False)"
   ]
  },
  {
   "cell_type": "code",
   "execution_count": 12,
   "metadata": {},
   "outputs": [],
   "source": [
    "TARGET_SCRIPT = {\n",
    "    'untargeted': 'step4_attack_non_target.py',\n",
    "    'targeted': 'step5_attack_target.py',\n",
    "}\n",
    "SLURM_HEADER = \"\"\"#!/bin/bash\n",
    "#SBATSH --job-name=nvita_missing\n",
    "#SBATCH --output=log/log_%x_%j_%a.out\n",
    "#SBATCH --error=log/log_%x_%j_%a.err\n",
    "#SBATCH --time=72:00:00\n",
    "#SBATCH --mem=8G\n",
    "#SBATCH --cpus-per-task=6\n",
    "\n",
    "module load Python/3.9.9-gimkl-2020a\n",
    "source /nesi/project/uoa03620/nvita/venv/bin/activate\n",
    "\"\"\""
   ]
  },
  {
   "cell_type": "code",
   "execution_count": 13,
   "metadata": {},
   "outputs": [],
   "source": [
    "def script_builder(target, dataset, model, attack, seed, eps, n, direction=None):\n",
    "    script = f'python experiments/{TARGET_SCRIPT[target]} -d {dataset} -m {model} -a {attack} -s {seed} -e {eps} -n {n}'\n",
    "    if target == 'targeted':\n",
    "        script += f' -t {direction}'\n",
    "    script += '\\n'\n",
    "    return script"
   ]
  },
  {
   "cell_type": "code",
   "execution_count": 14,
   "metadata": {},
   "outputs": [
    {
     "name": "stdout",
     "output_type": "stream",
     "text": [
      "python experiments/step5_attack_target.py -d NZTemp -m GRU -a NVITA -s 9999 -e 0.15 -n 1 -t Positive\n",
      " python experiments/step4_attack_non_target.py -d Oil -m CNN -a BIM -s 2210 -e 0.2 -n 1\n",
      " python experiments/step4_attack_non_target.py -d Oil -m CNN -a BRNV -s 2210 -e 0.2 -n 5\n",
      " python experiments/step4_attack_non_target.py -d Oil -m CNN -a BRS -s 2210 -e 0.2 -n 1\n",
      " python experiments/step4_attack_non_target.py -d Oil -m CNN -a FGSM -s 2210 -e 0.2 -n 1\n",
      "\n",
      "# of lines: 222\n"
     ]
    }
   ],
   "source": [
    "slurm_scripts = []\n",
    "\n",
    "for i in range(len(df)):\n",
    "    row = df.iloc[i]\n",
    "    script = script_builder(\n",
    "        target=row['Target'], \n",
    "        dataset=row['Dataset'], \n",
    "        model=row['Model'], \n",
    "        attack=row['Attack'], \n",
    "        seed=row['Seed'], \n",
    "        eps=row['Epsilon'], \n",
    "        n=row['N'], \n",
    "        direction=row['Direction'],\n",
    "    )\n",
    "    slurm_scripts.append(script)\n",
    "\n",
    "print(*slurm_scripts[:5])\n",
    "print('# of lines:', len(slurm_scripts))"
   ]
  },
  {
   "cell_type": "code",
   "execution_count": 15,
   "metadata": {},
   "outputs": [],
   "source": [
    "def save_script(lines, output_dir, idx):\n",
    "    my_script = SLURM_HEADER + '\\n' + ''.join(lines) + '\\n'\n",
    "    output_name = f'part_{idx}.sh'\n",
    "    with open(os.path.join(PATH_ROOT, output_dir, output_name), 'w') as file:\n",
    "        file.writelines(my_script)"
   ]
  },
  {
   "cell_type": "code",
   "execution_count": 16,
   "metadata": {},
   "outputs": [
    {
     "name": "stdout",
     "output_type": "stream",
     "text": [
      "Generated 45 files\n"
     ]
    }
   ],
   "source": [
    "# Create files\n",
    "# Save script every 5 lines\n",
    "file_count = 1\n",
    "for i in range(0, len(slurm_scripts), 5):\n",
    "    start = i\n",
    "    end = len(slurm_scripts) if i + 5 >= len(slurm_scripts) else i + 5\n",
    "\n",
    "    lines = slurm_scripts[start:end]\n",
    "    save_script(lines, PATH_OUTPUT, file_count)\n",
    "    file_count += 1\n",
    "\n",
    "file_count = file_count - 1\n",
    "print(f'Generated {file_count} files')\n",
    "\n",
    "actual_count = len(glob(os.path.join(PATH_OUTPUT, 'part_*.sh')))\n",
    "assert actual_count == file_count, \\\n",
    "    'Unmatched file count. Found: {actual_count} Received: {file_count}'"
   ]
  },
  {
   "cell_type": "code",
   "execution_count": 17,
   "metadata": {},
   "outputs": [],
   "source": [
    "# Create the script to submit all files\n",
    "\n",
    "def get_content(n):\n",
    "    content = '''#!/bin/bash\n",
    "\n",
    "for I in {{1..{}}}; do\n",
    "    sbatch ./slurm/missing/part_$I.sh\n",
    "done\n",
    "        \n",
    "squeue --me\n",
    "'''.format(n)\n",
    "    return content\n",
    "\n",
    "\n",
    "with open(os.path.join(PATH_OUTPUT, 'run_missing.sh'), 'w') as file:\n",
    "    file.writelines(get_content(file_count))"
   ]
  },
  {
   "cell_type": "code",
   "execution_count": null,
   "metadata": {},
   "outputs": [],
   "source": []
  }
 ],
 "metadata": {
  "kernelspec": {
   "display_name": "Python 3.9.13 ('venv': venv)",
   "language": "python",
   "name": "python3"
  },
  "language_info": {
   "codemirror_mode": {
    "name": "ipython",
    "version": 3
   },
   "file_extension": ".py",
   "mimetype": "text/x-python",
   "name": "python",
   "nbconvert_exporter": "python",
   "pygments_lexer": "ipython3",
   "version": "3.9.13"
  },
  "orig_nbformat": 4,
  "vscode": {
   "interpreter": {
    "hash": "fd61b9f0fcfb80f0ce957b5911962b4f63de3e016203680dd32567695c7a8e65"
   }
  }
 },
 "nbformat": 4,
 "nbformat_minor": 2
}
