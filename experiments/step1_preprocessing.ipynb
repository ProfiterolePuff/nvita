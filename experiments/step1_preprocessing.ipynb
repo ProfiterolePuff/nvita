{
 "cells": [
  {
   "cell_type": "markdown",
   "metadata": {},
   "source": [
    "# Step 1: Data Preprocessing"
   ]
  },
  {
   "cell_type": "code",
   "execution_count": 26,
   "metadata": {},
   "outputs": [],
   "source": [
    "import os\n",
    "from pathlib import Path\n",
    "import matplotlib.pyplot as plt\n",
    "import numpy as np\n",
    "import pandas as pd\n",
    "\n",
    "from statsmodels.graphics.tsaplots import plot_acf"
   ]
  },
  {
   "cell_type": "code",
   "execution_count": 27,
   "metadata": {},
   "outputs": [],
   "source": [
    "plt.rcParams.update({\"figure.figsize\": (15, 6), \"figure.dpi\": 120}) # matplotlib plot size\n",
    "\n",
    "PATH_ROOT = Path(os.getcwd()).parent.absolute()\n",
    "PATH_RAW = os.path.join(PATH_ROOT, \"data\", \"raw_data\")\n",
    "PATH_CLEAN = os.path.join(PATH_ROOT, \"data\", \"clean_data\")"
   ]
  },
  {
   "cell_type": "code",
   "execution_count": 28,
   "metadata": {},
   "outputs": [],
   "source": [
    "def fill_nan_with_mean_from_prev_and_next(df):\n",
    "    # errors whould occure if there is no previous available value or next available value\n",
    "        \n",
    "        count = 0\n",
    "        NANrows = pd.isnull(df).any(1).to_numpy().nonzero()[0]\n",
    "        null_df = df.isnull()\n",
    "        \n",
    "        for row in NANrows :\n",
    "            \n",
    "            for column in range(0, df.shape[1]):\n",
    "\n",
    "                    prev_av = None # previous_available_value\n",
    "                    prev_i = 1\n",
    "                    while pd.isna(prev_av):\n",
    "                        prev_av = df.iat[row - prev_i, column]\n",
    "                        prev_i += 1\n",
    "                    \n",
    "                    next_av = None # next_available_value\n",
    "                    next_i = 1\n",
    "                    while pd.isna(next_av):\n",
    "                        next_av = df.iat[row + next_i, column]\n",
    "                        next_i += 1\n",
    "                        \n",
    "                    df.iat[row, column] = (float(prev_av) + float(next_av)) / 2\n",
    "\n",
    "                    #print(df.iat[row, column], prev_av, next_av, (prev_av + next_av) / 2)\n",
    "                    count += 1 \n",
    "                    \n",
    "        print(\"There are \" + str(count) + \" Missing values filled.\")\n",
    "\n",
    "        return df"
   ]
  },
  {
   "cell_type": "markdown",
   "metadata": {},
   "source": [
    "### Germany Electricity Consumption (Electricity)"
   ]
  },
  {
   "cell_type": "code",
   "execution_count": 29,
   "metadata": {},
   "outputs": [
    {
     "name": "stdout",
     "output_type": "stream",
     "text": [
      "(2192, 3)\n"
     ]
    },
    {
     "data": {
      "text/html": [
       "<div>\n",
       "<style scoped>\n",
       "    .dataframe tbody tr th:only-of-type {\n",
       "        vertical-align: middle;\n",
       "    }\n",
       "\n",
       "    .dataframe tbody tr th {\n",
       "        vertical-align: top;\n",
       "    }\n",
       "\n",
       "    .dataframe thead th {\n",
       "        text-align: right;\n",
       "    }\n",
       "</style>\n",
       "<table border=\"1\" class=\"dataframe\">\n",
       "  <thead>\n",
       "    <tr style=\"text-align: right;\">\n",
       "      <th></th>\n",
       "      <th>Consumption</th>\n",
       "      <th>Wind</th>\n",
       "      <th>Solar</th>\n",
       "    </tr>\n",
       "  </thead>\n",
       "  <tbody>\n",
       "    <tr>\n",
       "      <th>0</th>\n",
       "      <td>948.128</td>\n",
       "      <td>227.465</td>\n",
       "      <td>6.587</td>\n",
       "    </tr>\n",
       "    <tr>\n",
       "      <th>1</th>\n",
       "      <td>1269.581</td>\n",
       "      <td>207.327</td>\n",
       "      <td>6.574</td>\n",
       "    </tr>\n",
       "    <tr>\n",
       "      <th>2</th>\n",
       "      <td>1334.745</td>\n",
       "      <td>473.468</td>\n",
       "      <td>24.679</td>\n",
       "    </tr>\n",
       "    <tr>\n",
       "      <th>3</th>\n",
       "      <td>1347.136</td>\n",
       "      <td>499.804</td>\n",
       "      <td>14.681</td>\n",
       "    </tr>\n",
       "    <tr>\n",
       "      <th>4</th>\n",
       "      <td>1376.658</td>\n",
       "      <td>523.851</td>\n",
       "      <td>5.071</td>\n",
       "    </tr>\n",
       "  </tbody>\n",
       "</table>\n",
       "</div>"
      ],
      "text/plain": [
       "   Consumption     Wind   Solar\n",
       "0      948.128  227.465   6.587\n",
       "1     1269.581  207.327   6.574\n",
       "2     1334.745  473.468  24.679\n",
       "3     1347.136  499.804  14.681\n",
       "4     1376.658  523.851   5.071"
      ]
     },
     "execution_count": 29,
     "metadata": {},
     "output_type": "execute_result"
    }
   ],
   "source": [
    "df1 = pd.read_csv(os.path.join(PATH_RAW, \"opsd_germany_daily.csv\"), sep = \",\")\n",
    "df1 = df1.iloc[2191:, 1:-1].copy()\n",
    "df1 = df1.reset_index(drop = True)\n",
    "print(df1.shape)\n",
    "df1.head(5)"
   ]
  },
  {
   "cell_type": "code",
   "execution_count": 30,
   "metadata": {},
   "outputs": [
    {
     "data": {
      "text/plain": [
       "5"
      ]
     },
     "execution_count": 30,
     "metadata": {},
     "output_type": "execute_result"
    }
   ],
   "source": [
    "df1.isnull().values.sum()"
   ]
  },
  {
   "cell_type": "code",
   "execution_count": 31,
   "metadata": {},
   "outputs": [
    {
     "name": "stdout",
     "output_type": "stream",
     "text": [
      "There are 15 Missing values filled.\n"
     ]
    },
    {
     "data": {
      "text/plain": [
       "0"
      ]
     },
     "execution_count": 31,
     "metadata": {},
     "output_type": "execute_result"
    }
   ],
   "source": [
    "df1 = fill_nan_with_mean_from_prev_and_next(df1)\n",
    "df1.isnull().values.sum()"
   ]
  },
  {
   "cell_type": "code",
   "execution_count": 32,
   "metadata": {},
   "outputs": [],
   "source": [
    "df1.to_csv(os.path.join(PATH_CLEAN, \"Electricity.csv\"), index = False)"
   ]
  },
  {
   "cell_type": "code",
   "execution_count": 38,
   "metadata": {},
   "outputs": [
    {
     "data": {
      "image/png": "[encoded data removed]",
      "text/plain": [
       "<Figure size 1800x720 with 1 Axes>"
      ]
     },
     "metadata": {
      "needs_background": "light"
     },
     "output_type": "display_data"
    }
   ],
   "source": [
    "acf_df1 = plot_acf(df1[\"Consumption\"].values, lags=30)"
   ]
  },
  {
   "cell_type": "markdown",
   "metadata": {},
   "source": [
    "### New Zealand Land Temperatures d02"
   ]
  },
  {
   "cell_type": "code",
   "execution_count": 39,
   "metadata": {},
   "outputs": [
    {
     "data": {
      "text/html": [
       "<div>\n",
       "<style scoped>\n",
       "    .dataframe tbody tr th:only-of-type {\n",
       "        vertical-align: middle;\n",
       "    }\n",
       "\n",
       "    .dataframe tbody tr th {\n",
       "        vertical-align: top;\n",
       "    }\n",
       "\n",
       "    .dataframe thead th {\n",
       "        text-align: right;\n",
       "    }\n",
       "</style>\n",
       "<table border=\"1\" class=\"dataframe\">\n",
       "  <thead>\n",
       "    <tr style=\"text-align: right;\">\n",
       "      <th></th>\n",
       "      <th>dt</th>\n",
       "      <th>AverageTemperature</th>\n",
       "      <th>AverageTemperatureUncertainty</th>\n",
       "      <th>City</th>\n",
       "    </tr>\n",
       "  </thead>\n",
       "  <tbody>\n",
       "    <tr>\n",
       "      <th>0</th>\n",
       "      <td>1853-01-01</td>\n",
       "      <td>17.401</td>\n",
       "      <td>1.969</td>\n",
       "      <td>Auckland</td>\n",
       "    </tr>\n",
       "    <tr>\n",
       "      <th>1</th>\n",
       "      <td>1853-02-01</td>\n",
       "      <td>17.355</td>\n",
       "      <td>1.806</td>\n",
       "      <td>Auckland</td>\n",
       "    </tr>\n",
       "    <tr>\n",
       "      <th>2</th>\n",
       "      <td>1853-03-01</td>\n",
       "      <td>16.740</td>\n",
       "      <td>2.013</td>\n",
       "      <td>Auckland</td>\n",
       "    </tr>\n",
       "    <tr>\n",
       "      <th>3</th>\n",
       "      <td>1853-04-01</td>\n",
       "      <td>15.230</td>\n",
       "      <td>1.754</td>\n",
       "      <td>Auckland</td>\n",
       "    </tr>\n",
       "    <tr>\n",
       "      <th>4</th>\n",
       "      <td>1853-05-01</td>\n",
       "      <td>13.792</td>\n",
       "      <td>1.440</td>\n",
       "      <td>Auckland</td>\n",
       "    </tr>\n",
       "  </tbody>\n",
       "</table>\n",
       "</div>"
      ],
      "text/plain": [
       "           dt  AverageTemperature  AverageTemperatureUncertainty      City\n",
       "0  1853-01-01              17.401                          1.969  Auckland\n",
       "1  1853-02-01              17.355                          1.806  Auckland\n",
       "2  1853-03-01              16.740                          2.013  Auckland\n",
       "3  1853-04-01              15.230                          1.754  Auckland\n",
       "4  1853-05-01              13.792                          1.440  Auckland"
      ]
     },
     "execution_count": 39,
     "metadata": {},
     "output_type": "execute_result"
    }
   ],
   "source": [
    "df2 = pd.read_csv(os.path.join(PATH_RAW, \"GlobalLandTemperaturesByCity.csv\"), sep = \",\")\n",
    "df2 = df2.loc[df2[\"Country\"] == \"New Zealand\"]\n",
    "df2 = df2.reset_index(drop = True)\n",
    "df2 = df2.iloc[:, :-3]\n",
    "df2.head(5)"
   ]
  },
  {
   "cell_type": "code",
   "execution_count": 40,
   "metadata": {},
   "outputs": [
    {
     "data": {
      "text/html": [
       "<div>\n",
       "<style scoped>\n",
       "    .dataframe tbody tr th:only-of-type {\n",
       "        vertical-align: middle;\n",
       "    }\n",
       "\n",
       "    .dataframe tbody tr th {\n",
       "        vertical-align: top;\n",
       "    }\n",
       "\n",
       "    .dataframe thead th {\n",
       "        text-align: right;\n",
       "    }\n",
       "</style>\n",
       "<table border=\"1\" class=\"dataframe\">\n",
       "  <thead>\n",
       "    <tr style=\"text-align: right;\">\n",
       "      <th>City</th>\n",
       "      <th>Auckland</th>\n",
       "      <th>Christchurch</th>\n",
       "      <th>Dunedin</th>\n",
       "      <th>Hamilton</th>\n",
       "      <th>Lower Hutt</th>\n",
       "      <th>North Shore</th>\n",
       "      <th>Tauranga</th>\n",
       "      <th>Waitakere</th>\n",
       "      <th>Wellington</th>\n",
       "    </tr>\n",
       "    <tr>\n",
       "      <th>dt</th>\n",
       "      <th></th>\n",
       "      <th></th>\n",
       "      <th></th>\n",
       "      <th></th>\n",
       "      <th></th>\n",
       "      <th></th>\n",
       "      <th></th>\n",
       "      <th></th>\n",
       "      <th></th>\n",
       "    </tr>\n",
       "  </thead>\n",
       "  <tbody>\n",
       "    <tr>\n",
       "      <th>1853-01-01</th>\n",
       "      <td>17.401</td>\n",
       "      <td>11.954</td>\n",
       "      <td>11.075</td>\n",
       "      <td>17.157</td>\n",
       "      <td>14.789</td>\n",
       "      <td>17.401</td>\n",
       "      <td>16.218</td>\n",
       "      <td>17.401</td>\n",
       "      <td>14.789</td>\n",
       "    </tr>\n",
       "    <tr>\n",
       "      <th>1853-02-01</th>\n",
       "      <td>17.355</td>\n",
       "      <td>11.613</td>\n",
       "      <td>10.524</td>\n",
       "      <td>16.905</td>\n",
       "      <td>14.516</td>\n",
       "      <td>17.355</td>\n",
       "      <td>15.869</td>\n",
       "      <td>17.355</td>\n",
       "      <td>14.516</td>\n",
       "    </tr>\n",
       "    <tr>\n",
       "      <th>1853-03-01</th>\n",
       "      <td>16.740</td>\n",
       "      <td>10.519</td>\n",
       "      <td>8.526</td>\n",
       "      <td>15.640</td>\n",
       "      <td>13.542</td>\n",
       "      <td>16.740</td>\n",
       "      <td>14.897</td>\n",
       "      <td>16.740</td>\n",
       "      <td>13.542</td>\n",
       "    </tr>\n",
       "    <tr>\n",
       "      <th>1853-04-01</th>\n",
       "      <td>15.230</td>\n",
       "      <td>9.248</td>\n",
       "      <td>6.036</td>\n",
       "      <td>13.423</td>\n",
       "      <td>12.088</td>\n",
       "      <td>15.230</td>\n",
       "      <td>13.170</td>\n",
       "      <td>15.230</td>\n",
       "      <td>12.088</td>\n",
       "    </tr>\n",
       "    <tr>\n",
       "      <th>1853-05-01</th>\n",
       "      <td>13.792</td>\n",
       "      <td>7.627</td>\n",
       "      <td>3.035</td>\n",
       "      <td>11.307</td>\n",
       "      <td>10.593</td>\n",
       "      <td>13.792</td>\n",
       "      <td>11.580</td>\n",
       "      <td>13.792</td>\n",
       "      <td>10.593</td>\n",
       "    </tr>\n",
       "    <tr>\n",
       "      <th>...</th>\n",
       "      <td>...</td>\n",
       "      <td>...</td>\n",
       "      <td>...</td>\n",
       "      <td>...</td>\n",
       "      <td>...</td>\n",
       "      <td>...</td>\n",
       "      <td>...</td>\n",
       "      <td>...</td>\n",
       "      <td>...</td>\n",
       "    </tr>\n",
       "    <tr>\n",
       "      <th>2013-04-01</th>\n",
       "      <td>17.839</td>\n",
       "      <td>11.941</td>\n",
       "      <td>8.543</td>\n",
       "      <td>16.224</td>\n",
       "      <td>15.112</td>\n",
       "      <td>17.839</td>\n",
       "      <td>16.037</td>\n",
       "      <td>17.839</td>\n",
       "      <td>15.112</td>\n",
       "    </tr>\n",
       "    <tr>\n",
       "      <th>2013-05-01</th>\n",
       "      <td>15.278</td>\n",
       "      <td>9.501</td>\n",
       "      <td>5.216</td>\n",
       "      <td>12.771</td>\n",
       "      <td>12.102</td>\n",
       "      <td>15.278</td>\n",
       "      <td>13.028</td>\n",
       "      <td>15.278</td>\n",
       "      <td>12.102</td>\n",
       "    </tr>\n",
       "    <tr>\n",
       "      <th>2013-06-01</th>\n",
       "      <td>13.450</td>\n",
       "      <td>7.129</td>\n",
       "      <td>1.919</td>\n",
       "      <td>10.517</td>\n",
       "      <td>10.164</td>\n",
       "      <td>13.450</td>\n",
       "      <td>11.150</td>\n",
       "      <td>13.450</td>\n",
       "      <td>10.164</td>\n",
       "    </tr>\n",
       "    <tr>\n",
       "      <th>2013-07-01</th>\n",
       "      <td>12.345</td>\n",
       "      <td>8.015</td>\n",
       "      <td>3.320</td>\n",
       "      <td>9.630</td>\n",
       "      <td>10.135</td>\n",
       "      <td>12.345</td>\n",
       "      <td>10.305</td>\n",
       "      <td>12.345</td>\n",
       "      <td>10.135</td>\n",
       "    </tr>\n",
       "    <tr>\n",
       "      <th>2013-08-01</th>\n",
       "      <td>13.758</td>\n",
       "      <td>8.739</td>\n",
       "      <td>4.728</td>\n",
       "      <td>11.582</td>\n",
       "      <td>11.106</td>\n",
       "      <td>13.758</td>\n",
       "      <td>11.940</td>\n",
       "      <td>13.758</td>\n",
       "      <td>11.106</td>\n",
       "    </tr>\n",
       "  </tbody>\n",
       "</table>\n",
       "<p>1928 rows × 9 columns</p>\n",
       "</div>"
      ],
      "text/plain": [
       "City        Auckland  Christchurch  Dunedin  Hamilton  Lower Hutt  \\\n",
       "dt                                                                  \n",
       "1853-01-01    17.401        11.954   11.075    17.157      14.789   \n",
       "1853-02-01    17.355        11.613   10.524    16.905      14.516   \n",
       "1853-03-01    16.740        10.519    8.526    15.640      13.542   \n",
       "1853-04-01    15.230         9.248    6.036    13.423      12.088   \n",
       "1853-05-01    13.792         7.627    3.035    11.307      10.593   \n",
       "...              ...           ...      ...       ...         ...   \n",
       "2013-04-01    17.839        11.941    8.543    16.224      15.112   \n",
       "2013-05-01    15.278         9.501    5.216    12.771      12.102   \n",
       "2013-06-01    13.450         7.129    1.919    10.517      10.164   \n",
       "2013-07-01    12.345         8.015    3.320     9.630      10.135   \n",
       "2013-08-01    13.758         8.739    4.728    11.582      11.106   \n",
       "\n",
       "City        North Shore  Tauranga  Waitakere  Wellington  \n",
       "dt                                                        \n",
       "1853-01-01       17.401    16.218     17.401      14.789  \n",
       "1853-02-01       17.355    15.869     17.355      14.516  \n",
       "1853-03-01       16.740    14.897     16.740      13.542  \n",
       "1853-04-01       15.230    13.170     15.230      12.088  \n",
       "1853-05-01       13.792    11.580     13.792      10.593  \n",
       "...                 ...       ...        ...         ...  \n",
       "2013-04-01       17.839    16.037     17.839      15.112  \n",
       "2013-05-01       15.278    13.028     15.278      12.102  \n",
       "2013-06-01       13.450    11.150     13.450      10.164  \n",
       "2013-07-01       12.345    10.305     12.345      10.135  \n",
       "2013-08-01       13.758    11.940     13.758      11.106  \n",
       "\n",
       "[1928 rows x 9 columns]"
      ]
     },
     "execution_count": 40,
     "metadata": {},
     "output_type": "execute_result"
    }
   ],
   "source": [
    "df2 = df2.pivot(index = \"dt\", columns = \"City\", values = \"AverageTemperature\")\n",
    "df2 = df2.iloc[144:-1,:]\n",
    "df2"
   ]
  },
  {
   "cell_type": "code",
   "execution_count": 41,
   "metadata": {},
   "outputs": [
    {
     "data": {
      "text/plain": [
       "0"
      ]
     },
     "execution_count": 41,
     "metadata": {},
     "output_type": "execute_result"
    }
   ],
   "source": [
    "df2.isnull().values.sum()"
   ]
  },
  {
   "cell_type": "code",
   "execution_count": 42,
   "metadata": {},
   "outputs": [],
   "source": [
    "df2.to_csv(os.path.join(PATH_CLEAN, \"NZTemp.csv\"), index = False)"
   ]
  },
  {
   "cell_type": "code",
   "execution_count": 43,
   "metadata": {},
   "outputs": [
    {
     "data": {
      "image/png": "[encoded data removed]",
      "text/plain": [
       "<Figure size 1800x720 with 1 Axes>"
      ]
     },
     "metadata": {
      "needs_background": "light"
     },
     "output_type": "display_data"
    }
   ],
   "source": [
    "acf_df2 = plot_acf(df2[\"Auckland\"].values, lags=30)"
   ]
  },
  {
   "cell_type": "markdown",
   "metadata": {},
   "source": [
    "## Yahoo Finance\n",
    "### CNY USD Exchange Rate d03"
   ]
  },
  {
   "cell_type": "code",
   "execution_count": 44,
   "metadata": {},
   "outputs": [],
   "source": [
    "import yfinance as yf"
   ]
  },
  {
   "cell_type": "code",
   "execution_count": 45,
   "metadata": {},
   "outputs": [
    {
     "name": "stdout",
     "output_type": "stream",
     "text": [
      "[*********************100%***********************]  1 of 1 completed\n"
     ]
    },
    {
     "data": {
      "text/plain": [
       "0"
      ]
     },
     "execution_count": 45,
     "metadata": {},
     "output_type": "execute_result"
    }
   ],
   "source": [
    "df3 = yf.download(\"CNY=X\", start=\"2011-01-01\", end=\"2022-01-01\")\n",
    "df3.isnull().values.sum()"
   ]
  },
  {
   "cell_type": "code",
   "execution_count": 46,
   "metadata": {},
   "outputs": [
    {
     "data": {
      "text/html": [
       "<div>\n",
       "<style scoped>\n",
       "    .dataframe tbody tr th:only-of-type {\n",
       "        vertical-align: middle;\n",
       "    }\n",
       "\n",
       "    .dataframe tbody tr th {\n",
       "        vertical-align: top;\n",
       "    }\n",
       "\n",
       "    .dataframe thead th {\n",
       "        text-align: right;\n",
       "    }\n",
       "</style>\n",
       "<table border=\"1\" class=\"dataframe\">\n",
       "  <thead>\n",
       "    <tr style=\"text-align: right;\">\n",
       "      <th></th>\n",
       "      <th>Open</th>\n",
       "      <th>High</th>\n",
       "      <th>Low</th>\n",
       "      <th>Close</th>\n",
       "      <th>Adj Close</th>\n",
       "    </tr>\n",
       "    <tr>\n",
       "      <th>Date</th>\n",
       "      <th></th>\n",
       "      <th></th>\n",
       "      <th></th>\n",
       "      <th></th>\n",
       "      <th></th>\n",
       "    </tr>\n",
       "  </thead>\n",
       "  <tbody>\n",
       "    <tr>\n",
       "      <th>2010-12-31</th>\n",
       "      <td>6.5952</td>\n",
       "      <td>6.5952</td>\n",
       "      <td>6.5916</td>\n",
       "      <td>6.6124</td>\n",
       "      <td>6.6124</td>\n",
       "    </tr>\n",
       "    <tr>\n",
       "      <th>2011-01-03</th>\n",
       "      <td>6.5800</td>\n",
       "      <td>6.5800</td>\n",
       "      <td>6.5800</td>\n",
       "      <td>6.5916</td>\n",
       "      <td>6.5916</td>\n",
       "    </tr>\n",
       "    <tr>\n",
       "      <th>2011-01-04</th>\n",
       "      <td>6.5988</td>\n",
       "      <td>6.6000</td>\n",
       "      <td>6.5970</td>\n",
       "      <td>6.5800</td>\n",
       "      <td>6.5800</td>\n",
       "    </tr>\n",
       "    <tr>\n",
       "      <th>2011-01-05</th>\n",
       "      <td>6.6112</td>\n",
       "      <td>6.6112</td>\n",
       "      <td>6.5775</td>\n",
       "      <td>6.5970</td>\n",
       "      <td>6.5970</td>\n",
       "    </tr>\n",
       "    <tr>\n",
       "      <th>2011-01-06</th>\n",
       "      <td>6.6134</td>\n",
       "      <td>6.6165</td>\n",
       "      <td>6.6134</td>\n",
       "      <td>6.5775</td>\n",
       "      <td>6.5775</td>\n",
       "    </tr>\n",
       "    <tr>\n",
       "      <th>...</th>\n",
       "      <td>...</td>\n",
       "      <td>...</td>\n",
       "      <td>...</td>\n",
       "      <td>...</td>\n",
       "      <td>...</td>\n",
       "    </tr>\n",
       "    <tr>\n",
       "      <th>2021-12-27</th>\n",
       "      <td>6.3666</td>\n",
       "      <td>6.3722</td>\n",
       "      <td>6.3613</td>\n",
       "      <td>6.3666</td>\n",
       "      <td>6.3666</td>\n",
       "    </tr>\n",
       "    <tr>\n",
       "      <th>2021-12-28</th>\n",
       "      <td>6.3698</td>\n",
       "      <td>6.3715</td>\n",
       "      <td>6.3608</td>\n",
       "      <td>6.3698</td>\n",
       "      <td>6.3698</td>\n",
       "    </tr>\n",
       "    <tr>\n",
       "      <th>2021-12-29</th>\n",
       "      <td>6.3672</td>\n",
       "      <td>6.3714</td>\n",
       "      <td>6.3584</td>\n",
       "      <td>6.3672</td>\n",
       "      <td>6.3672</td>\n",
       "    </tr>\n",
       "    <tr>\n",
       "      <th>2021-12-30</th>\n",
       "      <td>6.3673</td>\n",
       "      <td>6.3775</td>\n",
       "      <td>6.3587</td>\n",
       "      <td>6.3673</td>\n",
       "      <td>6.3673</td>\n",
       "    </tr>\n",
       "    <tr>\n",
       "      <th>2021-12-31</th>\n",
       "      <td>6.3721</td>\n",
       "      <td>6.3775</td>\n",
       "      <td>6.3397</td>\n",
       "      <td>6.3721</td>\n",
       "      <td>6.3721</td>\n",
       "    </tr>\n",
       "  </tbody>\n",
       "</table>\n",
       "<p>2865 rows × 5 columns</p>\n",
       "</div>"
      ],
      "text/plain": [
       "              Open    High     Low   Close  Adj Close\n",
       "Date                                                 \n",
       "2010-12-31  6.5952  6.5952  6.5916  6.6124     6.6124\n",
       "2011-01-03  6.5800  6.5800  6.5800  6.5916     6.5916\n",
       "2011-01-04  6.5988  6.6000  6.5970  6.5800     6.5800\n",
       "2011-01-05  6.6112  6.6112  6.5775  6.5970     6.5970\n",
       "2011-01-06  6.6134  6.6165  6.6134  6.5775     6.5775\n",
       "...            ...     ...     ...     ...        ...\n",
       "2021-12-27  6.3666  6.3722  6.3613  6.3666     6.3666\n",
       "2021-12-28  6.3698  6.3715  6.3608  6.3698     6.3698\n",
       "2021-12-29  6.3672  6.3714  6.3584  6.3672     6.3672\n",
       "2021-12-30  6.3673  6.3775  6.3587  6.3673     6.3673\n",
       "2021-12-31  6.3721  6.3775  6.3397  6.3721     6.3721\n",
       "\n",
       "[2865 rows x 5 columns]"
      ]
     },
     "execution_count": 46,
     "metadata": {},
     "output_type": "execute_result"
    }
   ],
   "source": [
    "df3 = df3.iloc[:,:-1] # Exclude Volume\n",
    "df3.to_csv(os.path.join(PATH_CLEAN, \"CNYExch.csv\"), index = False)\n",
    "df3"
   ]
  },
  {
   "cell_type": "code",
   "execution_count": 48,
   "metadata": {},
   "outputs": [
    {
     "data": {
      "image/png": "[encoded data removed]",
      "text/plain": [
       "<Figure size 1800x720 with 1 Axes>"
      ]
     },
     "metadata": {
      "needs_background": "light"
     },
     "output_type": "display_data"
    }
   ],
   "source": [
    "acf_df3 = plot_acf(df3[\"Close\"].values, lags=100)"
   ]
  },
  {
   "cell_type": "markdown",
   "metadata": {},
   "source": [
    "### Oil d04"
   ]
  },
  {
   "cell_type": "code",
   "execution_count": 49,
   "metadata": {},
   "outputs": [
    {
     "name": "stdout",
     "output_type": "stream",
     "text": [
      "[*********************100%***********************]  1 of 1 completed\n"
     ]
    },
    {
     "data": {
      "text/plain": [
       "0"
      ]
     },
     "execution_count": 49,
     "metadata": {},
     "output_type": "execute_result"
    }
   ],
   "source": [
    "df4 = yf.download(\"OIL\", start=\"2011-01-01\", end=\"2022-01-01\")\n",
    "df4.isnull().values.sum()"
   ]
  },
  {
   "cell_type": "code",
   "execution_count": 50,
   "metadata": {},
   "outputs": [
    {
     "data": {
      "text/html": [
       "<div>\n",
       "<style scoped>\n",
       "    .dataframe tbody tr th:only-of-type {\n",
       "        vertical-align: middle;\n",
       "    }\n",
       "\n",
       "    .dataframe tbody tr th {\n",
       "        vertical-align: top;\n",
       "    }\n",
       "\n",
       "    .dataframe thead th {\n",
       "        text-align: right;\n",
       "    }\n",
       "</style>\n",
       "<table border=\"1\" class=\"dataframe\">\n",
       "  <thead>\n",
       "    <tr style=\"text-align: right;\">\n",
       "      <th></th>\n",
       "      <th>Open</th>\n",
       "      <th>High</th>\n",
       "      <th>Low</th>\n",
       "      <th>Close</th>\n",
       "      <th>Adj Close</th>\n",
       "      <th>Volume</th>\n",
       "    </tr>\n",
       "    <tr>\n",
       "      <th>Date</th>\n",
       "      <th></th>\n",
       "      <th></th>\n",
       "      <th></th>\n",
       "      <th></th>\n",
       "      <th></th>\n",
       "      <th></th>\n",
       "    </tr>\n",
       "  </thead>\n",
       "  <tbody>\n",
       "    <tr>\n",
       "      <th>2011-04-21</th>\n",
       "      <td>49.939999</td>\n",
       "      <td>50.349998</td>\n",
       "      <td>49.900002</td>\n",
       "      <td>50.349998</td>\n",
       "      <td>50.349998</td>\n",
       "      <td>10500</td>\n",
       "    </tr>\n",
       "    <tr>\n",
       "      <th>2011-04-25</th>\n",
       "      <td>50.570000</td>\n",
       "      <td>50.570000</td>\n",
       "      <td>49.910000</td>\n",
       "      <td>50.049999</td>\n",
       "      <td>50.049999</td>\n",
       "      <td>14900</td>\n",
       "    </tr>\n",
       "    <tr>\n",
       "      <th>2011-04-26</th>\n",
       "      <td>50.180000</td>\n",
       "      <td>50.430000</td>\n",
       "      <td>50.099998</td>\n",
       "      <td>50.299999</td>\n",
       "      <td>50.299999</td>\n",
       "      <td>15000</td>\n",
       "    </tr>\n",
       "    <tr>\n",
       "      <th>2011-04-27</th>\n",
       "      <td>50.349998</td>\n",
       "      <td>50.849998</td>\n",
       "      <td>49.799999</td>\n",
       "      <td>50.810001</td>\n",
       "      <td>50.810001</td>\n",
       "      <td>35200</td>\n",
       "    </tr>\n",
       "    <tr>\n",
       "      <th>2011-04-28</th>\n",
       "      <td>50.779999</td>\n",
       "      <td>51.160000</td>\n",
       "      <td>50.169998</td>\n",
       "      <td>50.700001</td>\n",
       "      <td>50.700001</td>\n",
       "      <td>44800</td>\n",
       "    </tr>\n",
       "    <tr>\n",
       "      <th>...</th>\n",
       "      <td>...</td>\n",
       "      <td>...</td>\n",
       "      <td>...</td>\n",
       "      <td>...</td>\n",
       "      <td>...</td>\n",
       "      <td>...</td>\n",
       "    </tr>\n",
       "    <tr>\n",
       "      <th>2021-12-23</th>\n",
       "      <td>22.610001</td>\n",
       "      <td>22.980000</td>\n",
       "      <td>22.590000</td>\n",
       "      <td>22.950001</td>\n",
       "      <td>22.950001</td>\n",
       "      <td>46800</td>\n",
       "    </tr>\n",
       "    <tr>\n",
       "      <th>2021-12-27</th>\n",
       "      <td>22.870001</td>\n",
       "      <td>23.549999</td>\n",
       "      <td>22.820000</td>\n",
       "      <td>23.549999</td>\n",
       "      <td>23.549999</td>\n",
       "      <td>32400</td>\n",
       "    </tr>\n",
       "    <tr>\n",
       "      <th>2021-12-28</th>\n",
       "      <td>23.680000</td>\n",
       "      <td>23.760000</td>\n",
       "      <td>23.520000</td>\n",
       "      <td>23.540001</td>\n",
       "      <td>23.540001</td>\n",
       "      <td>93400</td>\n",
       "    </tr>\n",
       "    <tr>\n",
       "      <th>2021-12-29</th>\n",
       "      <td>23.450001</td>\n",
       "      <td>23.959999</td>\n",
       "      <td>23.450001</td>\n",
       "      <td>23.700001</td>\n",
       "      <td>23.700001</td>\n",
       "      <td>33500</td>\n",
       "    </tr>\n",
       "    <tr>\n",
       "      <th>2021-12-30</th>\n",
       "      <td>23.809999</td>\n",
       "      <td>24.000000</td>\n",
       "      <td>23.700001</td>\n",
       "      <td>23.700001</td>\n",
       "      <td>23.700001</td>\n",
       "      <td>27000</td>\n",
       "    </tr>\n",
       "  </tbody>\n",
       "</table>\n",
       "<p>2692 rows × 6 columns</p>\n",
       "</div>"
      ],
      "text/plain": [
       "                 Open       High        Low      Close  Adj Close  Volume\n",
       "Date                                                                     \n",
       "2011-04-21  49.939999  50.349998  49.900002  50.349998  50.349998   10500\n",
       "2011-04-25  50.570000  50.570000  49.910000  50.049999  50.049999   14900\n",
       "2011-04-26  50.180000  50.430000  50.099998  50.299999  50.299999   15000\n",
       "2011-04-27  50.349998  50.849998  49.799999  50.810001  50.810001   35200\n",
       "2011-04-28  50.779999  51.160000  50.169998  50.700001  50.700001   44800\n",
       "...               ...        ...        ...        ...        ...     ...\n",
       "2021-12-23  22.610001  22.980000  22.590000  22.950001  22.950001   46800\n",
       "2021-12-27  22.870001  23.549999  22.820000  23.549999  23.549999   32400\n",
       "2021-12-28  23.680000  23.760000  23.520000  23.540001  23.540001   93400\n",
       "2021-12-29  23.450001  23.959999  23.450001  23.700001  23.700001   33500\n",
       "2021-12-30  23.809999  24.000000  23.700001  23.700001  23.700001   27000\n",
       "\n",
       "[2692 rows x 6 columns]"
      ]
     },
     "execution_count": 50,
     "metadata": {},
     "output_type": "execute_result"
    }
   ],
   "source": [
    "df4.to_csv(os.path.join(PATH_CLEAN, \"Oil.csv\"), index = False)\n",
    "df4"
   ]
  },
  {
   "cell_type": "code",
   "execution_count": 51,
   "metadata": {},
   "outputs": [
    {
     "data": {
      "image/png": "[encoded data removed]",
      "text/plain": [
       "<Figure size 1800x720 with 1 Axes>"
      ]
     },
     "metadata": {
      "needs_background": "light"
     },
     "output_type": "display_data"
    }
   ],
   "source": [
    "acf_df4 = plot_acf(df4[\"Close\"].values, lags=100)"
   ]
  },
  {
   "cell_type": "markdown",
   "metadata": {},
   "source": [
    "### Global Hosehold Power Consumption \"d01\""
   ]
  },
  {
   "cell_type": "code",
   "execution_count": 54,
   "metadata": {},
   "outputs": [],
   "source": [
    "df5 = pd.read_csv(os.path.join(PATH_RAW, \"household_power_consumption.txt\"), sep = \";\", na_values = \"?\")\n"
   ]
  },
  {
   "cell_type": "code",
   "execution_count": 51,
   "metadata": {},
   "outputs": [
    {
     "data": {
      "text/html": [
       "<div>\n",
       "<style scoped>\n",
       "    .dataframe tbody tr th:only-of-type {\n",
       "        vertical-align: middle;\n",
       "    }\n",
       "\n",
       "    .dataframe tbody tr th {\n",
       "        vertical-align: top;\n",
       "    }\n",
       "\n",
       "    .dataframe thead th {\n",
       "        text-align: right;\n",
       "    }\n",
       "</style>\n",
       "<table border=\"1\" class=\"dataframe\">\n",
       "  <thead>\n",
       "    <tr style=\"text-align: right;\">\n",
       "      <th></th>\n",
       "      <th>Date</th>\n",
       "      <th>Time</th>\n",
       "      <th>Global_active_power</th>\n",
       "      <th>Global_reactive_power</th>\n",
       "      <th>Voltage</th>\n",
       "      <th>Global_intensity</th>\n",
       "      <th>Sub_metering_1</th>\n",
       "      <th>Sub_metering_2</th>\n",
       "      <th>Sub_metering_3</th>\n",
       "    </tr>\n",
       "  </thead>\n",
       "  <tbody>\n",
       "    <tr>\n",
       "      <th>0</th>\n",
       "      <td>16/12/2006</td>\n",
       "      <td>17:24:00</td>\n",
       "      <td>4.216</td>\n",
       "      <td>0.418</td>\n",
       "      <td>234.84</td>\n",
       "      <td>18.4</td>\n",
       "      <td>0.0</td>\n",
       "      <td>1.0</td>\n",
       "      <td>17.0</td>\n",
       "    </tr>\n",
       "    <tr>\n",
       "      <th>1</th>\n",
       "      <td>16/12/2006</td>\n",
       "      <td>17:25:00</td>\n",
       "      <td>5.360</td>\n",
       "      <td>0.436</td>\n",
       "      <td>233.63</td>\n",
       "      <td>23.0</td>\n",
       "      <td>0.0</td>\n",
       "      <td>1.0</td>\n",
       "      <td>16.0</td>\n",
       "    </tr>\n",
       "    <tr>\n",
       "      <th>2</th>\n",
       "      <td>16/12/2006</td>\n",
       "      <td>17:26:00</td>\n",
       "      <td>5.374</td>\n",
       "      <td>0.498</td>\n",
       "      <td>233.29</td>\n",
       "      <td>23.0</td>\n",
       "      <td>0.0</td>\n",
       "      <td>2.0</td>\n",
       "      <td>17.0</td>\n",
       "    </tr>\n",
       "    <tr>\n",
       "      <th>3</th>\n",
       "      <td>16/12/2006</td>\n",
       "      <td>17:27:00</td>\n",
       "      <td>5.388</td>\n",
       "      <td>0.502</td>\n",
       "      <td>233.74</td>\n",
       "      <td>23.0</td>\n",
       "      <td>0.0</td>\n",
       "      <td>1.0</td>\n",
       "      <td>17.0</td>\n",
       "    </tr>\n",
       "    <tr>\n",
       "      <th>4</th>\n",
       "      <td>16/12/2006</td>\n",
       "      <td>17:28:00</td>\n",
       "      <td>3.666</td>\n",
       "      <td>0.528</td>\n",
       "      <td>235.68</td>\n",
       "      <td>15.8</td>\n",
       "      <td>0.0</td>\n",
       "      <td>1.0</td>\n",
       "      <td>17.0</td>\n",
       "    </tr>\n",
       "    <tr>\n",
       "      <th>...</th>\n",
       "      <td>...</td>\n",
       "      <td>...</td>\n",
       "      <td>...</td>\n",
       "      <td>...</td>\n",
       "      <td>...</td>\n",
       "      <td>...</td>\n",
       "      <td>...</td>\n",
       "      <td>...</td>\n",
       "      <td>...</td>\n",
       "    </tr>\n",
       "    <tr>\n",
       "      <th>2075254</th>\n",
       "      <td>26/11/2010</td>\n",
       "      <td>20:58:00</td>\n",
       "      <td>0.946</td>\n",
       "      <td>0.000</td>\n",
       "      <td>240.43</td>\n",
       "      <td>4.0</td>\n",
       "      <td>0.0</td>\n",
       "      <td>0.0</td>\n",
       "      <td>0.0</td>\n",
       "    </tr>\n",
       "    <tr>\n",
       "      <th>2075255</th>\n",
       "      <td>26/11/2010</td>\n",
       "      <td>20:59:00</td>\n",
       "      <td>0.944</td>\n",
       "      <td>0.000</td>\n",
       "      <td>240.00</td>\n",
       "      <td>4.0</td>\n",
       "      <td>0.0</td>\n",
       "      <td>0.0</td>\n",
       "      <td>0.0</td>\n",
       "    </tr>\n",
       "    <tr>\n",
       "      <th>2075256</th>\n",
       "      <td>26/11/2010</td>\n",
       "      <td>21:00:00</td>\n",
       "      <td>0.938</td>\n",
       "      <td>0.000</td>\n",
       "      <td>239.82</td>\n",
       "      <td>3.8</td>\n",
       "      <td>0.0</td>\n",
       "      <td>0.0</td>\n",
       "      <td>0.0</td>\n",
       "    </tr>\n",
       "    <tr>\n",
       "      <th>2075257</th>\n",
       "      <td>26/11/2010</td>\n",
       "      <td>21:01:00</td>\n",
       "      <td>0.934</td>\n",
       "      <td>0.000</td>\n",
       "      <td>239.70</td>\n",
       "      <td>3.8</td>\n",
       "      <td>0.0</td>\n",
       "      <td>0.0</td>\n",
       "      <td>0.0</td>\n",
       "    </tr>\n",
       "    <tr>\n",
       "      <th>2075258</th>\n",
       "      <td>26/11/2010</td>\n",
       "      <td>21:02:00</td>\n",
       "      <td>0.932</td>\n",
       "      <td>0.000</td>\n",
       "      <td>239.55</td>\n",
       "      <td>3.8</td>\n",
       "      <td>0.0</td>\n",
       "      <td>0.0</td>\n",
       "      <td>0.0</td>\n",
       "    </tr>\n",
       "  </tbody>\n",
       "</table>\n",
       "<p>2075259 rows × 9 columns</p>\n",
       "</div>"
      ],
      "text/plain": [
       "               Date      Time  Global_active_power  Global_reactive_power  \\\n",
       "0        16/12/2006  17:24:00                4.216                  0.418   \n",
       "1        16/12/2006  17:25:00                5.360                  0.436   \n",
       "2        16/12/2006  17:26:00                5.374                  0.498   \n",
       "3        16/12/2006  17:27:00                5.388                  0.502   \n",
       "4        16/12/2006  17:28:00                3.666                  0.528   \n",
       "...             ...       ...                  ...                    ...   \n",
       "2075254  26/11/2010  20:58:00                0.946                  0.000   \n",
       "2075255  26/11/2010  20:59:00                0.944                  0.000   \n",
       "2075256  26/11/2010  21:00:00                0.938                  0.000   \n",
       "2075257  26/11/2010  21:01:00                0.934                  0.000   \n",
       "2075258  26/11/2010  21:02:00                0.932                  0.000   \n",
       "\n",
       "         Voltage  Global_intensity  Sub_metering_1  Sub_metering_2  \\\n",
       "0         234.84              18.4             0.0             1.0   \n",
       "1         233.63              23.0             0.0             1.0   \n",
       "2         233.29              23.0             0.0             2.0   \n",
       "3         233.74              23.0             0.0             1.0   \n",
       "4         235.68              15.8             0.0             1.0   \n",
       "...          ...               ...             ...             ...   \n",
       "2075254   240.43               4.0             0.0             0.0   \n",
       "2075255   240.00               4.0             0.0             0.0   \n",
       "2075256   239.82               3.8             0.0             0.0   \n",
       "2075257   239.70               3.8             0.0             0.0   \n",
       "2075258   239.55               3.8             0.0             0.0   \n",
       "\n",
       "         Sub_metering_3  \n",
       "0                  17.0  \n",
       "1                  16.0  \n",
       "2                  17.0  \n",
       "3                  17.0  \n",
       "4                  17.0  \n",
       "...                 ...  \n",
       "2075254             0.0  \n",
       "2075255             0.0  \n",
       "2075256             0.0  \n",
       "2075257             0.0  \n",
       "2075258             0.0  \n",
       "\n",
       "[2075259 rows x 9 columns]"
      ]
     },
     "execution_count": 51,
     "metadata": {},
     "output_type": "execute_result"
    }
   ],
   "source": [
    "df5"
   ]
  },
  {
   "cell_type": "code",
   "execution_count": 55,
   "metadata": {},
   "outputs": [
    {
     "data": {
      "text/plain": [
       "238"
      ]
     },
     "execution_count": 55,
     "metadata": {},
     "output_type": "execute_result"
    }
   ],
   "source": [
    "df5 = df5[df5[\"Time\"].isin([\"00:00:00\", \"12:00:00\"])]\n",
    "df5 = df5.reset_index(drop = True)\n",
    "df5 = df5.iloc[:, 2:]\n",
    "df5.isnull().values.sum()"
   ]
  },
  {
   "cell_type": "code",
   "execution_count": 56,
   "metadata": {},
   "outputs": [
    {
     "name": "stdout",
     "output_type": "stream",
     "text": [
      "There are 238 Missing values filled.\n"
     ]
    },
    {
     "data": {
      "text/plain": [
       "0"
      ]
     },
     "execution_count": 56,
     "metadata": {},
     "output_type": "execute_result"
    }
   ],
   "source": [
    "df5 = fill_nan_with_mean_from_prev_and_next(df5)\n",
    "df5.isnull().values.sum()"
   ]
  },
  {
   "cell_type": "code",
   "execution_count": 57,
   "metadata": {},
   "outputs": [
    {
     "data": {
      "text/html": [
       "<div>\n",
       "<style scoped>\n",
       "    .dataframe tbody tr th:only-of-type {\n",
       "        vertical-align: middle;\n",
       "    }\n",
       "\n",
       "    .dataframe tbody tr th {\n",
       "        vertical-align: top;\n",
       "    }\n",
       "\n",
       "    .dataframe thead th {\n",
       "        text-align: right;\n",
       "    }\n",
       "</style>\n",
       "<table border=\"1\" class=\"dataframe\">\n",
       "  <thead>\n",
       "    <tr style=\"text-align: right;\">\n",
       "      <th></th>\n",
       "      <th>Global_active_power</th>\n",
       "      <th>Global_reactive_power</th>\n",
       "      <th>Voltage</th>\n",
       "      <th>Global_intensity</th>\n",
       "      <th>Sub_metering_1</th>\n",
       "      <th>Sub_metering_2</th>\n",
       "      <th>Sub_metering_3</th>\n",
       "    </tr>\n",
       "  </thead>\n",
       "  <tbody>\n",
       "    <tr>\n",
       "      <th>0</th>\n",
       "      <td>1.044</td>\n",
       "      <td>0.152</td>\n",
       "      <td>242.73</td>\n",
       "      <td>4.4</td>\n",
       "      <td>0.0</td>\n",
       "      <td>2.0</td>\n",
       "      <td>0.0</td>\n",
       "    </tr>\n",
       "    <tr>\n",
       "      <th>1</th>\n",
       "      <td>1.962</td>\n",
       "      <td>0.252</td>\n",
       "      <td>239.73</td>\n",
       "      <td>8.2</td>\n",
       "      <td>0.0</td>\n",
       "      <td>0.0</td>\n",
       "      <td>18.0</td>\n",
       "    </tr>\n",
       "    <tr>\n",
       "      <th>2</th>\n",
       "      <td>0.278</td>\n",
       "      <td>0.126</td>\n",
       "      <td>246.17</td>\n",
       "      <td>1.2</td>\n",
       "      <td>0.0</td>\n",
       "      <td>2.0</td>\n",
       "      <td>0.0</td>\n",
       "    </tr>\n",
       "    <tr>\n",
       "      <th>3</th>\n",
       "      <td>1.734</td>\n",
       "      <td>0.084</td>\n",
       "      <td>242.96</td>\n",
       "      <td>7.0</td>\n",
       "      <td>0.0</td>\n",
       "      <td>0.0</td>\n",
       "      <td>19.0</td>\n",
       "    </tr>\n",
       "    <tr>\n",
       "      <th>4</th>\n",
       "      <td>0.414</td>\n",
       "      <td>0.242</td>\n",
       "      <td>241.19</td>\n",
       "      <td>2.0</td>\n",
       "      <td>0.0</td>\n",
       "      <td>1.0</td>\n",
       "      <td>0.0</td>\n",
       "    </tr>\n",
       "    <tr>\n",
       "      <th>...</th>\n",
       "      <td>...</td>\n",
       "      <td>...</td>\n",
       "      <td>...</td>\n",
       "      <td>...</td>\n",
       "      <td>...</td>\n",
       "      <td>...</td>\n",
       "      <td>...</td>\n",
       "    </tr>\n",
       "    <tr>\n",
       "      <th>2877</th>\n",
       "      <td>1.386</td>\n",
       "      <td>0.058</td>\n",
       "      <td>240.91</td>\n",
       "      <td>5.6</td>\n",
       "      <td>0.0</td>\n",
       "      <td>1.0</td>\n",
       "      <td>18.0</td>\n",
       "    </tr>\n",
       "    <tr>\n",
       "      <th>2878</th>\n",
       "      <td>0.406</td>\n",
       "      <td>0.188</td>\n",
       "      <td>240.33</td>\n",
       "      <td>1.8</td>\n",
       "      <td>0.0</td>\n",
       "      <td>1.0</td>\n",
       "      <td>0.0</td>\n",
       "    </tr>\n",
       "    <tr>\n",
       "      <th>2879</th>\n",
       "      <td>0.420</td>\n",
       "      <td>0.184</td>\n",
       "      <td>241.08</td>\n",
       "      <td>1.8</td>\n",
       "      <td>0.0</td>\n",
       "      <td>1.0</td>\n",
       "      <td>0.0</td>\n",
       "    </tr>\n",
       "    <tr>\n",
       "      <th>2880</th>\n",
       "      <td>0.398</td>\n",
       "      <td>0.192</td>\n",
       "      <td>242.73</td>\n",
       "      <td>1.8</td>\n",
       "      <td>0.0</td>\n",
       "      <td>1.0</td>\n",
       "      <td>0.0</td>\n",
       "    </tr>\n",
       "    <tr>\n",
       "      <th>2881</th>\n",
       "      <td>1.490</td>\n",
       "      <td>0.282</td>\n",
       "      <td>237.26</td>\n",
       "      <td>6.4</td>\n",
       "      <td>0.0</td>\n",
       "      <td>1.0</td>\n",
       "      <td>17.0</td>\n",
       "    </tr>\n",
       "  </tbody>\n",
       "</table>\n",
       "<p>2882 rows × 7 columns</p>\n",
       "</div>"
      ],
      "text/plain": [
       "      Global_active_power  Global_reactive_power  Voltage  Global_intensity  \\\n",
       "0                   1.044                  0.152   242.73               4.4   \n",
       "1                   1.962                  0.252   239.73               8.2   \n",
       "2                   0.278                  0.126   246.17               1.2   \n",
       "3                   1.734                  0.084   242.96               7.0   \n",
       "4                   0.414                  0.242   241.19               2.0   \n",
       "...                   ...                    ...      ...               ...   \n",
       "2877                1.386                  0.058   240.91               5.6   \n",
       "2878                0.406                  0.188   240.33               1.8   \n",
       "2879                0.420                  0.184   241.08               1.8   \n",
       "2880                0.398                  0.192   242.73               1.8   \n",
       "2881                1.490                  0.282   237.26               6.4   \n",
       "\n",
       "      Sub_metering_1  Sub_metering_2  Sub_metering_3  \n",
       "0                0.0             2.0             0.0  \n",
       "1                0.0             0.0            18.0  \n",
       "2                0.0             2.0             0.0  \n",
       "3                0.0             0.0            19.0  \n",
       "4                0.0             1.0             0.0  \n",
       "...              ...             ...             ...  \n",
       "2877             0.0             1.0            18.0  \n",
       "2878             0.0             1.0             0.0  \n",
       "2879             0.0             1.0             0.0  \n",
       "2880             0.0             1.0             0.0  \n",
       "2881             0.0             1.0            17.0  \n",
       "\n",
       "[2882 rows x 7 columns]"
      ]
     },
     "execution_count": 57,
     "metadata": {},
     "output_type": "execute_result"
    }
   ],
   "source": [
    "df5"
   ]
  },
  {
   "cell_type": "code",
   "execution_count": null,
   "metadata": {},
   "outputs": [],
   "source": [
    "df5.to_csv(os.path.join(PATH_CLEAN, \"Power.csv\"), index = False)"
   ]
  }
 ],
 "metadata": {
  "kernelspec": {
   "display_name": "Python 3 (ipykernel)",
   "language": "python",
   "name": "python3"
  },
  "language_info": {
   "codemirror_mode": {
    "name": "ipython",
    "version": 3
   },
   "file_extension": ".py",
   "mimetype": "text/x-python",
   "name": "python",
   "nbconvert_exporter": "python",
   "pygments_lexer": "ipython3",
   "version": "3.9.12"
  },
  "vscode": {
   "interpreter": {
    "hash": "c602aa022b826db5d2ce365c7625b4d6ed5ee23662e175f9578855d0b85dec78"
   }
  }
 },
 "nbformat": 4,
 "nbformat_minor": 2
}
