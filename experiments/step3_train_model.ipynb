{
 "cells": [
  {
   "cell_type": "markdown",
   "metadata": {},
   "source": [
    "# Train Models"
   ]
  },
  {
   "cell_type": "code",
   "execution_count": 7,
   "metadata": {},
   "outputs": [],
   "source": [
    "import numpy as np\n",
    "\n",
    "import os\n",
    "from pathlib import Path\n",
    "\n",
    "from nvita.utils import open_json\n",
    "from nvita.models.data import SplittedTSData\n",
    "from nvita.models.cnn import CNN\n",
    "from nvita.models.lstm import LSTM\n",
    "from nvita.models.gru import GRU\n",
    "from nvita.models.rf import RF\n",
    "from nvita.models.utils import save_model, load_model\n",
    "import nvita.models.train as mt"
   ]
  },
  {
   "cell_type": "code",
   "execution_count": 3,
   "metadata": {},
   "outputs": [
    {
     "name": "stdout",
     "output_type": "stream",
     "text": [
      "{'CNN': {'Electricity': [500, 0.005, 4, 256, 3, 256, 128, 1], 'NZTemp': [500, 0.01, 3, 64, 9, 64, 64, 1], 'CNYExch': [500, 0.005, 7, 256, 5, 256, 128, 1], 'Oil': [500, 0.01, 7, 256, 6, 256, 32, 1]}, 'LSTM': {'Electricity': [500, 0.01, 3, 64, 1, 1], 'NZTemp': [500, 0.01, 9, 256, 1, 1], 'CNYExch': [500, 0.01, 5, 64, 2, 1], 'Oil': [500, 0.01, 6, 128, 1, 1]}, 'GRU': {'Electricity': [500, 0.005, 3, 256, 1, 1], 'NZTemp': [500, 0.005, 9, 256, 4, 1], 'CNYExch': [500, 0.01, 5, 64, 1, 1], 'Oil': [500, 0.01, 6, 128, 4, 1]}, 'RF': {'Electricity': [500], 'NZTemp': [250], 'CNYExch': [100], 'Oil': [100]}}\n"
     ]
    }
   ],
   "source": [
    "PATH_ROOT = Path(os.getcwd()).parent.absolute()\n",
    "\n",
    "my_metadata = open_json(os.path.join(\n",
    "    PATH_ROOT, \"experiments\", \"metadata.json\"))\n",
    "\n",
    "model_paras = open_json(os.path.join(\n",
    "    PATH_ROOT, \"experiments\", \"model_paras.json\"))\n",
    "print(model_paras)"
   ]
  },
  {
   "cell_type": "code",
   "execution_count": 4,
   "metadata": {},
   "outputs": [],
   "source": [
    "SEEDS = my_metadata[\"seeds\"]\n",
    "MODELS = my_metadata[\"models\"]\n",
    "DATA_NAMES =  my_metadata[\"data\"]"
   ]
  },
  {
   "cell_type": "code",
   "execution_count": 5,
   "metadata": {},
   "outputs": [],
   "source": [
    "def train_models_based_on_model_paras(model_paras_dict, s_d):\n",
    "    for model_name in MODELS:\n",
    "        if model_name != \"RF\":\n",
    "            if model_name == \"CNN\":\n",
    "                epoch, lr, window_size, c, f0, f1, f2, out = model_paras_dict[model_name][s_d.df_name]\n",
    "                model = CNN(window_size, c, f0, f1, f2, out)\n",
    "            elif model_name == \"LSTM\":\n",
    "                epoch, lr, input_dim, hidden_dim, num_layers, output_dim = model_paras_dict[model_name][s_d.df_name]\n",
    "                model = LSTM(input_dim, hidden_dim, num_layers, output_dim)\n",
    "            elif model_name == \"GRU\":\n",
    "                epoch, lr, input_dim, hidden_dim, num_layers, output_dim = model_paras_dict[model_name][s_d.df_name]\n",
    "                model = GRU(input_dim, hidden_dim, num_layers, output_dim)\n",
    "            mt.train(model, lr, epoch, s_d.X_train, s_d.y_train)\n",
    "        else:\n",
    "            # model name is \"RF\"\n",
    "            n_estimators = model_paras_dict[model_name][s_d.df_name][0]\n",
    "            model = RF(n_estimators)\n",
    "            model.fit(s_d.X_train, s_d.y_train)\n",
    "        score = np.mean(mt.evaluate(model, s_d.X_test, s_d.y_test)**2)\n",
    "        save_model(model, PATH_ROOT, s_d.df_name, s_d.seed)\n",
    "        print(\"Best Score for \" + model_name + \" is \" + str(score) + \" on dataset \" + str(s_d.df_name) + \" with seed \" + str(s_d.seed))\n",
    "    "
   ]
  },
  {
   "cell_type": "code",
   "execution_count": 6,
   "metadata": {},
   "outputs": [
    {
     "name": "stdout",
     "output_type": "stream",
     "text": [
      "Best Score for CNN is 0.015271303 on dataset Electricity with seed 2210\n",
      "Best Score for LSTM is 0.012170031 on dataset Electricity with seed 2210\n",
      "Best Score for GRU is 0.011077312 on dataset Electricity with seed 2210\n",
      "Best Score for RF is 0.010321875968342518 on dataset Electricity with seed 2210\n",
      "Best Score for CNN is 0.024276532 on dataset Electricity with seed 9999\n",
      "Best Score for LSTM is 0.013433768 on dataset Electricity with seed 9999\n",
      "Best Score for GRU is 0.0130042 on dataset Electricity with seed 9999\n",
      "Best Score for RF is 0.012262301565136833 on dataset Electricity with seed 9999\n",
      "Best Score for CNN is 0.040827297 on dataset Electricity with seed 58361\n",
      "Best Score for LSTM is 0.00961763 on dataset Electricity with seed 58361\n",
      "Best Score for GRU is 0.008230432 on dataset Electricity with seed 58361\n",
      "Best Score for RF is 0.007801271029363551 on dataset Electricity with seed 58361\n",
      "Best Score for CNN is 0.015714332 on dataset Electricity with seed 789789\n",
      "Best Score for LSTM is 0.015916431 on dataset Electricity with seed 789789\n",
      "Best Score for GRU is 0.013188529 on dataset Electricity with seed 789789\n",
      "Best Score for RF is 0.012969770370911826 on dataset Electricity with seed 789789\n",
      "Best Score for CNN is 0.015210742 on dataset Electricity with seed 1111111\n",
      "Best Score for LSTM is 0.016433071 on dataset Electricity with seed 1111111\n",
      "Best Score for GRU is 0.016383672 on dataset Electricity with seed 1111111\n",
      "Best Score for RF is 0.012605549039674866 on dataset Electricity with seed 1111111\n",
      "Best Score for CNN is 0.004156324 on dataset NZTemp with seed 2210\n",
      "Best Score for LSTM is 0.0039092577 on dataset NZTemp with seed 2210\n",
      "Best Score for GRU is 0.0040503736 on dataset NZTemp with seed 2210\n",
      "Best Score for RF is 0.004466780686998035 on dataset NZTemp with seed 2210\n",
      "Best Score for CNN is 0.0039330963 on dataset NZTemp with seed 9999\n",
      "Best Score for LSTM is 0.0039640884 on dataset NZTemp with seed 9999\n",
      "Best Score for GRU is 0.0041963174 on dataset NZTemp with seed 9999\n",
      "Best Score for RF is 0.004428999955241853 on dataset NZTemp with seed 9999\n",
      "Best Score for CNN is 0.0034405834 on dataset NZTemp with seed 58361\n",
      "Best Score for LSTM is 0.0033297497 on dataset NZTemp with seed 58361\n",
      "Best Score for GRU is 0.0034555835 on dataset NZTemp with seed 58361\n",
      "Best Score for RF is 0.003605641648446012 on dataset NZTemp with seed 58361\n",
      "Best Score for CNN is 0.0035099394 on dataset NZTemp with seed 789789\n",
      "Best Score for LSTM is 0.003309406 on dataset NZTemp with seed 789789\n",
      "Best Score for GRU is 0.0033677977 on dataset NZTemp with seed 789789\n",
      "Best Score for RF is 0.003244288988321983 on dataset NZTemp with seed 789789\n",
      "Best Score for CNN is 0.0037648398 on dataset NZTemp with seed 1111111\n",
      "Best Score for LSTM is 0.0036546947 on dataset NZTemp with seed 1111111\n",
      "Best Score for GRU is 0.003744585 on dataset NZTemp with seed 1111111\n",
      "Best Score for RF is 0.0037872838300128282 on dataset NZTemp with seed 1111111\n",
      "Best Score for CNN is 0.00031959955 on dataset CNYExch with seed 2210\n",
      "Best Score for LSTM is 0.0001673445 on dataset CNYExch with seed 2210\n",
      "Best Score for GRU is 0.00016724809 on dataset CNYExch with seed 2210\n",
      "Best Score for RF is 5.723257568304393e-05 on dataset CNYExch with seed 2210\n",
      "Best Score for CNN is 0.00031594423 on dataset CNYExch with seed 9999\n",
      "Best Score for LSTM is 0.00028221603 on dataset CNYExch with seed 9999\n",
      "Best Score for GRU is 0.00026392197 on dataset CNYExch with seed 9999\n",
      "Best Score for RF is 0.00015539880910214355 on dataset CNYExch with seed 9999\n",
      "Best Score for CNN is 0.00026790015 on dataset CNYExch with seed 58361\n",
      "Best Score for LSTM is 0.00020906261 on dataset CNYExch with seed 58361\n",
      "Best Score for GRU is 0.00022829944 on dataset CNYExch with seed 58361\n",
      "Best Score for RF is 0.0001085828902663011 on dataset CNYExch with seed 58361\n",
      "Best Score for CNN is 0.00012147727 on dataset CNYExch with seed 789789\n",
      "Best Score for LSTM is 0.00010696153 on dataset CNYExch with seed 789789\n",
      "Best Score for GRU is 0.00018490935 on dataset CNYExch with seed 789789\n",
      "Best Score for RF is 5.9622564426747005e-05 on dataset CNYExch with seed 789789\n",
      "Best Score for CNN is 0.00023411219 on dataset CNYExch with seed 1111111\n",
      "Best Score for LSTM is 0.00018028021 on dataset CNYExch with seed 1111111\n",
      "Best Score for GRU is 0.00015945098 on dataset CNYExch with seed 1111111\n",
      "Best Score for RF is 9.845566558377377e-05 on dataset CNYExch with seed 1111111\n",
      "Best Score for CNN is 0.00022744293 on dataset Oil with seed 2210\n",
      "Best Score for LSTM is 0.00015714772 on dataset Oil with seed 2210\n",
      "Best Score for GRU is 0.00011271408 on dataset Oil with seed 2210\n",
      "Best Score for RF is 0.00019664648194507486 on dataset Oil with seed 2210\n",
      "Best Score for CNN is 0.0001737565 on dataset Oil with seed 9999\n",
      "Best Score for LSTM is 0.0001432733 on dataset Oil with seed 9999\n",
      "Best Score for GRU is 0.000120770485 on dataset Oil with seed 9999\n",
      "Best Score for RF is 0.00011845920835886063 on dataset Oil with seed 9999\n",
      "Best Score for CNN is 0.00014029874 on dataset Oil with seed 58361\n",
      "Best Score for LSTM is 0.00012674998 on dataset Oil with seed 58361\n",
      "Best Score for GRU is 0.00012126044 on dataset Oil with seed 58361\n",
      "Best Score for RF is 0.00013162431540815505 on dataset Oil with seed 58361\n",
      "Best Score for CNN is 0.00052245846 on dataset Oil with seed 789789\n",
      "Best Score for LSTM is 0.00031366665 on dataset Oil with seed 789789\n",
      "Best Score for GRU is 0.00032545728 on dataset Oil with seed 789789\n",
      "Best Score for RF is 0.00028223462672028176 on dataset Oil with seed 789789\n",
      "Best Score for CNN is 0.0003825709 on dataset Oil with seed 1111111\n",
      "Best Score for LSTM is 0.00018324288 on dataset Oil with seed 1111111\n",
      "Best Score for GRU is 0.0001618544 on dataset Oil with seed 1111111\n",
      "Best Score for RF is 0.00013749362073264097 on dataset Oil with seed 1111111\n"
     ]
    }
   ],
   "source": [
    "for data_ind in range(len(DATA_NAMES)):\n",
    "    for seed in SEEDS:\n",
    "        s_data = SplittedTSData()\n",
    "        s_data = s_data.load_splitted_data(PATH_ROOT, DATA_NAMES[data_ind], seed)\n",
    "        train_models_based_on_model_paras(model_paras, s_data)"
   ]
  }
 ],
 "metadata": {
  "kernelspec": {
   "display_name": "Python 3.9.12 ('hons')",
   "language": "python",
   "name": "python3"
  },
  "language_info": {
   "codemirror_mode": {
    "name": "ipython",
    "version": 3
   },
   "file_extension": ".py",
   "mimetype": "text/x-python",
   "name": "python",
   "nbconvert_exporter": "python",
   "pygments_lexer": "ipython3",
   "version": "3.9.12"
  },
  "orig_nbformat": 4,
  "vscode": {
   "interpreter": {
    "hash": "c602aa022b826db5d2ce365c7625b4d6ed5ee23662e175f9578855d0b85dec78"
   }
  }
 },
 "nbformat": 4,
 "nbformat_minor": 2
}
